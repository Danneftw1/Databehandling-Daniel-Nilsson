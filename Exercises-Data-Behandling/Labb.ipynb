{
 "cells": [
  {
   "cell_type": "code",
   "execution_count": null,
   "metadata": {},
   "outputs": [],
   "source": []
  }
 ],
 "metadata": {
  "kernelspec": {
   "display_name": "Python 3.9.13 ('Databehandling-Daniel-Nilsson-e3Fmcrgn')",
   "language": "python",
   "name": "python3"
  },
  "language_info": {
   "name": "python",
   "version": "3.9.13"
  },
  "orig_nbformat": 4,
  "vscode": {
   "interpreter": {
    "hash": "d4fec72ab05724b7e31743b682cfdc6d5ccc9586e3681b01cc6aa0944cba3a81"
   }
  }
 },
 "nbformat": 4,
 "nbformat_minor": 2
}
