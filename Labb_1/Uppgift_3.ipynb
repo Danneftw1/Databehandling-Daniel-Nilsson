{
 "cells": [
  {
   "cell_type": "code",
   "execution_count": 1,
   "metadata": {},
   "outputs": [],
   "source": [
    "import pandas as pd\n",
    "import seaborn as sns\n",
    "import matplotlib.pyplot as plt\n",
    "import plotly_express as px\n",
    "import plotly.graph_objects as go\n",
    "\n",
    "vaccin_kommun = pd.read_excel(\"../data/vaccine.xlsx\", sheet_name=\"Vaccinerade kommun\")\n",
    "vaccin_tidsserie = pd.read_excel(\"../Data/vaccine.xlsx\", sheet_name=\"Vaccinationer tidsserie\")"
   ]
  },
  {
   "cell_type": "markdown",
   "metadata": {},
   "source": [
    "# KPI 1\n",
    "- Jämföra könen i antal intensivvårdade, dödsfall och covid-fall\n",
    "- Det finns 1.33% fler män i Sverige jämfört med kvinnor\n",
    "- Kommer då skillnaden vara detsamma (eller nära) för intensivvårdade, dödsfall och covid-fall?"
   ]
  },
  {
   "cell_type": "code",
   "execution_count": 2,
   "metadata": {},
   "outputs": [],
   "source": [
    "Kön_uppdelning = pd.read_excel(\"../Data/Covid19.xlsx\", sheet_name=\"Totalt antal per kön\")\n",
    "Kön_uppdelning.drop(Kön_uppdelning.tail(1).index, inplace=True) # remove last row since its 'unknown' and statistically insignificant"
   ]
  },
  {
   "cell_type": "code",
   "execution_count": 3,
   "metadata": {},
   "outputs": [
    {
     "data": {
      "application/vnd.plotly.v1+json": {
       "config": {
        "plotlyServerURL": "https://plot.ly"
       },
       "data": [
        {
         "alignmentgroup": "True",
         "hovertemplate": "Antal fall av Covid-19=Totalt_antal_fall<br>Kön=%{x}<br>Befolkning=%{y}<extra></extra>",
         "legendgroup": "Totalt_antal_fall",
         "marker": {
          "color": "#636efa",
          "pattern": {
           "shape": ""
          }
         },
         "name": "Totalt_antal_fall",
         "offsetgroup": "Totalt_antal_fall",
         "orientation": "v",
         "showlegend": true,
         "textposition": "auto",
         "type": "bar",
         "x": [
          "Man",
          "Kvinna"
         ],
         "xaxis": "x",
         "y": [
          1210098,
          1381189
         ],
         "yaxis": "y"
        },
        {
         "alignmentgroup": "True",
         "hovertemplate": "Antal fall av Covid-19=Totalt_antal_intensivvårdade<br>Kön=%{x}<br>Befolkning=%{y}<extra></extra>",
         "legendgroup": "Totalt_antal_intensivvårdade",
         "marker": {
          "color": "#EF553B",
          "pattern": {
           "shape": ""
          }
         },
         "name": "Totalt_antal_intensivvårdade",
         "offsetgroup": "Totalt_antal_intensivvårdade",
         "orientation": "v",
         "showlegend": true,
         "textposition": "auto",
         "type": "bar",
         "x": [
          "Man",
          "Kvinna"
         ],
         "xaxis": "x",
         "y": [
          6550,
          2947
         ],
         "yaxis": "y"
        },
        {
         "alignmentgroup": "True",
         "hovertemplate": "Antal fall av Covid-19=Totalt_antal_avlidna<br>Kön=%{x}<br>Befolkning=%{y}<extra></extra>",
         "legendgroup": "Totalt_antal_avlidna",
         "marker": {
          "color": "#00cc96",
          "pattern": {
           "shape": ""
          }
         },
         "name": "Totalt_antal_avlidna",
         "offsetgroup": "Totalt_antal_avlidna",
         "orientation": "v",
         "showlegend": true,
         "textposition": "auto",
         "type": "bar",
         "x": [
          "Man",
          "Kvinna"
         ],
         "xaxis": "x",
         "y": [
          11279,
          9273
         ],
         "yaxis": "y"
        }
       ],
       "layout": {
        "barmode": "group",
        "legend": {
         "title": {
          "text": "Antal fall av Covid-19"
         },
         "tracegroupgap": 0
        },
        "template": {
         "data": {
          "bar": [
           {
            "error_x": {
             "color": "#2a3f5f"
            },
            "error_y": {
             "color": "#2a3f5f"
            },
            "marker": {
             "line": {
              "color": "#E5ECF6",
              "width": 0.5
             },
             "pattern": {
              "fillmode": "overlay",
              "size": 10,
              "solidity": 0.2
             }
            },
            "type": "bar"
           }
          ],
          "barpolar": [
           {
            "marker": {
             "line": {
              "color": "#E5ECF6",
              "width": 0.5
             },
             "pattern": {
              "fillmode": "overlay",
              "size": 10,
              "solidity": 0.2
             }
            },
            "type": "barpolar"
           }
          ],
          "carpet": [
           {
            "aaxis": {
             "endlinecolor": "#2a3f5f",
             "gridcolor": "white",
             "linecolor": "white",
             "minorgridcolor": "white",
             "startlinecolor": "#2a3f5f"
            },
            "baxis": {
             "endlinecolor": "#2a3f5f",
             "gridcolor": "white",
             "linecolor": "white",
             "minorgridcolor": "white",
             "startlinecolor": "#2a3f5f"
            },
            "type": "carpet"
           }
          ],
          "choropleth": [
           {
            "colorbar": {
             "outlinewidth": 0,
             "ticks": ""
            },
            "type": "choropleth"
           }
          ],
          "contour": [
           {
            "colorbar": {
             "outlinewidth": 0,
             "ticks": ""
            },
            "colorscale": [
             [
              0,
              "#0d0887"
             ],
             [
              0.1111111111111111,
              "#46039f"
             ],
             [
              0.2222222222222222,
              "#7201a8"
             ],
             [
              0.3333333333333333,
              "#9c179e"
             ],
             [
              0.4444444444444444,
              "#bd3786"
             ],
             [
              0.5555555555555556,
              "#d8576b"
             ],
             [
              0.6666666666666666,
              "#ed7953"
             ],
             [
              0.7777777777777778,
              "#fb9f3a"
             ],
             [
              0.8888888888888888,
              "#fdca26"
             ],
             [
              1,
              "#f0f921"
             ]
            ],
            "type": "contour"
           }
          ],
          "contourcarpet": [
           {
            "colorbar": {
             "outlinewidth": 0,
             "ticks": ""
            },
            "type": "contourcarpet"
           }
          ],
          "heatmap": [
           {
            "colorbar": {
             "outlinewidth": 0,
             "ticks": ""
            },
            "colorscale": [
             [
              0,
              "#0d0887"
             ],
             [
              0.1111111111111111,
              "#46039f"
             ],
             [
              0.2222222222222222,
              "#7201a8"
             ],
             [
              0.3333333333333333,
              "#9c179e"
             ],
             [
              0.4444444444444444,
              "#bd3786"
             ],
             [
              0.5555555555555556,
              "#d8576b"
             ],
             [
              0.6666666666666666,
              "#ed7953"
             ],
             [
              0.7777777777777778,
              "#fb9f3a"
             ],
             [
              0.8888888888888888,
              "#fdca26"
             ],
             [
              1,
              "#f0f921"
             ]
            ],
            "type": "heatmap"
           }
          ],
          "heatmapgl": [
           {
            "colorbar": {
             "outlinewidth": 0,
             "ticks": ""
            },
            "colorscale": [
             [
              0,
              "#0d0887"
             ],
             [
              0.1111111111111111,
              "#46039f"
             ],
             [
              0.2222222222222222,
              "#7201a8"
             ],
             [
              0.3333333333333333,
              "#9c179e"
             ],
             [
              0.4444444444444444,
              "#bd3786"
             ],
             [
              0.5555555555555556,
              "#d8576b"
             ],
             [
              0.6666666666666666,
              "#ed7953"
             ],
             [
              0.7777777777777778,
              "#fb9f3a"
             ],
             [
              0.8888888888888888,
              "#fdca26"
             ],
             [
              1,
              "#f0f921"
             ]
            ],
            "type": "heatmapgl"
           }
          ],
          "histogram": [
           {
            "marker": {
             "pattern": {
              "fillmode": "overlay",
              "size": 10,
              "solidity": 0.2
             }
            },
            "type": "histogram"
           }
          ],
          "histogram2d": [
           {
            "colorbar": {
             "outlinewidth": 0,
             "ticks": ""
            },
            "colorscale": [
             [
              0,
              "#0d0887"
             ],
             [
              0.1111111111111111,
              "#46039f"
             ],
             [
              0.2222222222222222,
              "#7201a8"
             ],
             [
              0.3333333333333333,
              "#9c179e"
             ],
             [
              0.4444444444444444,
              "#bd3786"
             ],
             [
              0.5555555555555556,
              "#d8576b"
             ],
             [
              0.6666666666666666,
              "#ed7953"
             ],
             [
              0.7777777777777778,
              "#fb9f3a"
             ],
             [
              0.8888888888888888,
              "#fdca26"
             ],
             [
              1,
              "#f0f921"
             ]
            ],
            "type": "histogram2d"
           }
          ],
          "histogram2dcontour": [
           {
            "colorbar": {
             "outlinewidth": 0,
             "ticks": ""
            },
            "colorscale": [
             [
              0,
              "#0d0887"
             ],
             [
              0.1111111111111111,
              "#46039f"
             ],
             [
              0.2222222222222222,
              "#7201a8"
             ],
             [
              0.3333333333333333,
              "#9c179e"
             ],
             [
              0.4444444444444444,
              "#bd3786"
             ],
             [
              0.5555555555555556,
              "#d8576b"
             ],
             [
              0.6666666666666666,
              "#ed7953"
             ],
             [
              0.7777777777777778,
              "#fb9f3a"
             ],
             [
              0.8888888888888888,
              "#fdca26"
             ],
             [
              1,
              "#f0f921"
             ]
            ],
            "type": "histogram2dcontour"
           }
          ],
          "mesh3d": [
           {
            "colorbar": {
             "outlinewidth": 0,
             "ticks": ""
            },
            "type": "mesh3d"
           }
          ],
          "parcoords": [
           {
            "line": {
             "colorbar": {
              "outlinewidth": 0,
              "ticks": ""
             }
            },
            "type": "parcoords"
           }
          ],
          "pie": [
           {
            "automargin": true,
            "type": "pie"
           }
          ],
          "scatter": [
           {
            "fillpattern": {
             "fillmode": "overlay",
             "size": 10,
             "solidity": 0.2
            },
            "type": "scatter"
           }
          ],
          "scatter3d": [
           {
            "line": {
             "colorbar": {
              "outlinewidth": 0,
              "ticks": ""
             }
            },
            "marker": {
             "colorbar": {
              "outlinewidth": 0,
              "ticks": ""
             }
            },
            "type": "scatter3d"
           }
          ],
          "scattercarpet": [
           {
            "marker": {
             "colorbar": {
              "outlinewidth": 0,
              "ticks": ""
             }
            },
            "type": "scattercarpet"
           }
          ],
          "scattergeo": [
           {
            "marker": {
             "colorbar": {
              "outlinewidth": 0,
              "ticks": ""
             }
            },
            "type": "scattergeo"
           }
          ],
          "scattergl": [
           {
            "marker": {
             "colorbar": {
              "outlinewidth": 0,
              "ticks": ""
             }
            },
            "type": "scattergl"
           }
          ],
          "scattermapbox": [
           {
            "marker": {
             "colorbar": {
              "outlinewidth": 0,
              "ticks": ""
             }
            },
            "type": "scattermapbox"
           }
          ],
          "scatterpolar": [
           {
            "marker": {
             "colorbar": {
              "outlinewidth": 0,
              "ticks": ""
             }
            },
            "type": "scatterpolar"
           }
          ],
          "scatterpolargl": [
           {
            "marker": {
             "colorbar": {
              "outlinewidth": 0,
              "ticks": ""
             }
            },
            "type": "scatterpolargl"
           }
          ],
          "scatterternary": [
           {
            "marker": {
             "colorbar": {
              "outlinewidth": 0,
              "ticks": ""
             }
            },
            "type": "scatterternary"
           }
          ],
          "surface": [
           {
            "colorbar": {
             "outlinewidth": 0,
             "ticks": ""
            },
            "colorscale": [
             [
              0,
              "#0d0887"
             ],
             [
              0.1111111111111111,
              "#46039f"
             ],
             [
              0.2222222222222222,
              "#7201a8"
             ],
             [
              0.3333333333333333,
              "#9c179e"
             ],
             [
              0.4444444444444444,
              "#bd3786"
             ],
             [
              0.5555555555555556,
              "#d8576b"
             ],
             [
              0.6666666666666666,
              "#ed7953"
             ],
             [
              0.7777777777777778,
              "#fb9f3a"
             ],
             [
              0.8888888888888888,
              "#fdca26"
             ],
             [
              1,
              "#f0f921"
             ]
            ],
            "type": "surface"
           }
          ],
          "table": [
           {
            "cells": {
             "fill": {
              "color": "#EBF0F8"
             },
             "line": {
              "color": "white"
             }
            },
            "header": {
             "fill": {
              "color": "#C8D4E3"
             },
             "line": {
              "color": "white"
             }
            },
            "type": "table"
           }
          ]
         },
         "layout": {
          "annotationdefaults": {
           "arrowcolor": "#2a3f5f",
           "arrowhead": 0,
           "arrowwidth": 1
          },
          "autotypenumbers": "strict",
          "coloraxis": {
           "colorbar": {
            "outlinewidth": 0,
            "ticks": ""
           }
          },
          "colorscale": {
           "diverging": [
            [
             0,
             "#8e0152"
            ],
            [
             0.1,
             "#c51b7d"
            ],
            [
             0.2,
             "#de77ae"
            ],
            [
             0.3,
             "#f1b6da"
            ],
            [
             0.4,
             "#fde0ef"
            ],
            [
             0.5,
             "#f7f7f7"
            ],
            [
             0.6,
             "#e6f5d0"
            ],
            [
             0.7,
             "#b8e186"
            ],
            [
             0.8,
             "#7fbc41"
            ],
            [
             0.9,
             "#4d9221"
            ],
            [
             1,
             "#276419"
            ]
           ],
           "sequential": [
            [
             0,
             "#0d0887"
            ],
            [
             0.1111111111111111,
             "#46039f"
            ],
            [
             0.2222222222222222,
             "#7201a8"
            ],
            [
             0.3333333333333333,
             "#9c179e"
            ],
            [
             0.4444444444444444,
             "#bd3786"
            ],
            [
             0.5555555555555556,
             "#d8576b"
            ],
            [
             0.6666666666666666,
             "#ed7953"
            ],
            [
             0.7777777777777778,
             "#fb9f3a"
            ],
            [
             0.8888888888888888,
             "#fdca26"
            ],
            [
             1,
             "#f0f921"
            ]
           ],
           "sequentialminus": [
            [
             0,
             "#0d0887"
            ],
            [
             0.1111111111111111,
             "#46039f"
            ],
            [
             0.2222222222222222,
             "#7201a8"
            ],
            [
             0.3333333333333333,
             "#9c179e"
            ],
            [
             0.4444444444444444,
             "#bd3786"
            ],
            [
             0.5555555555555556,
             "#d8576b"
            ],
            [
             0.6666666666666666,
             "#ed7953"
            ],
            [
             0.7777777777777778,
             "#fb9f3a"
            ],
            [
             0.8888888888888888,
             "#fdca26"
            ],
            [
             1,
             "#f0f921"
            ]
           ]
          },
          "colorway": [
           "#636efa",
           "#EF553B",
           "#00cc96",
           "#ab63fa",
           "#FFA15A",
           "#19d3f3",
           "#FF6692",
           "#B6E880",
           "#FF97FF",
           "#FECB52"
          ],
          "font": {
           "color": "#2a3f5f"
          },
          "geo": {
           "bgcolor": "white",
           "lakecolor": "white",
           "landcolor": "#E5ECF6",
           "showlakes": true,
           "showland": true,
           "subunitcolor": "white"
          },
          "hoverlabel": {
           "align": "left"
          },
          "hovermode": "closest",
          "mapbox": {
           "style": "light"
          },
          "paper_bgcolor": "white",
          "plot_bgcolor": "#E5ECF6",
          "polar": {
           "angularaxis": {
            "gridcolor": "white",
            "linecolor": "white",
            "ticks": ""
           },
           "bgcolor": "#E5ECF6",
           "radialaxis": {
            "gridcolor": "white",
            "linecolor": "white",
            "ticks": ""
           }
          },
          "scene": {
           "xaxis": {
            "backgroundcolor": "#E5ECF6",
            "gridcolor": "white",
            "gridwidth": 2,
            "linecolor": "white",
            "showbackground": true,
            "ticks": "",
            "zerolinecolor": "white"
           },
           "yaxis": {
            "backgroundcolor": "#E5ECF6",
            "gridcolor": "white",
            "gridwidth": 2,
            "linecolor": "white",
            "showbackground": true,
            "ticks": "",
            "zerolinecolor": "white"
           },
           "zaxis": {
            "backgroundcolor": "#E5ECF6",
            "gridcolor": "white",
            "gridwidth": 2,
            "linecolor": "white",
            "showbackground": true,
            "ticks": "",
            "zerolinecolor": "white"
           }
          },
          "shapedefaults": {
           "line": {
            "color": "#2a3f5f"
           }
          },
          "ternary": {
           "aaxis": {
            "gridcolor": "white",
            "linecolor": "white",
            "ticks": ""
           },
           "baxis": {
            "gridcolor": "white",
            "linecolor": "white",
            "ticks": ""
           },
           "bgcolor": "#E5ECF6",
           "caxis": {
            "gridcolor": "white",
            "linecolor": "white",
            "ticks": ""
           }
          },
          "title": {
           "x": 0.05
          },
          "xaxis": {
           "automargin": true,
           "gridcolor": "white",
           "linecolor": "white",
           "ticks": "",
           "title": {
            "standoff": 15
           },
           "zerolinecolor": "white",
           "zerolinewidth": 2
          },
          "yaxis": {
           "automargin": true,
           "gridcolor": "white",
           "linecolor": "white",
           "ticks": "",
           "title": {
            "standoff": 15
           },
           "zerolinecolor": "white",
           "zerolinewidth": 2
          }
         }
        },
        "title": {
         "text": "Antal fall per kön"
        },
        "xaxis": {
         "anchor": "y",
         "domain": [
          0,
          1
         ],
         "title": {
          "text": "Kön"
         }
        },
        "yaxis": {
         "anchor": "x",
         "domain": [
          0,
          1
         ],
         "title": {
          "text": "Befolkning"
         },
         "type": "log"
        }
       }
      }
     },
     "metadata": {},
     "output_type": "display_data"
    }
   ],
   "source": [
    "def log_plotly_bar_with_df_title_labels(df, y, x, title, labels, save_file):\n",
    "    fig = px.bar(\n",
    "        df,\n",
    "        y=y,\n",
    "        x=x,\n",
    "        barmode=\"group\",  # groups the bars next to eachother instead of stacking on eachother\n",
    "        labels=labels,\n",
    "        title=title,\n",
    "        log_y=True,  # easier to read, makes y-axes logarithmic\n",
    "    )\n",
    "\n",
    "    fig.show()\n",
    "    fig.write_html(\"../Labb_1/Visualiseringar/\" + save_file + \".html\")\n",
    "\n",
    "\n",
    "labels_antal_fall_kön = {\"value\": \"Befolkning\", \"variable\": \"Antal fall av Covid-19\"}\n",
    "\n",
    "log_plotly_bar_with_df_title_labels(\n",
    "    Kön_uppdelning,\n",
    "    [\"Totalt_antal_fall\", \"Totalt_antal_intensivvårdade\", \"Totalt_antal_avlidna\"],\n",
    "    \"Kön\",\n",
    "    \"Antal fall per kön\",\n",
    "    labels_antal_fall_kön,\n",
    "    \"KPI_1_Antal_fall_per_kön-\",\n",
    ")\n"
   ]
  },
  {
   "cell_type": "markdown",
   "metadata": {},
   "source": [
    "- Som vi kan se så är skillnaden större på alla jämförelser än 1.33%\n",
    "* Antal fall har en skillnad på 14.13% (Män har den högre siffran)\n",
    "* Antal intenssivvårdade har en skillnad på 55% (Män har den högre siffran)\n",
    "* Antal avlidna har en skillnad på 17.78% (Män har den högre siffran)\n",
    "\n",
    "- Som vi då kan se så har män utan tvekan större risk på alla fronter, speciellt intensivvård.\n",
    "- Varför siffran är såpass stor på intensivvården hade varit intressant att utforska"
   ]
  },
  {
   "cell_type": "markdown",
   "metadata": {},
   "source": [
    "# KPI 2\n",
    "- Jämföra antal kumulativ fall, avlidna och intensivvårdade\n",
    "- Kommer troligtvis ligga relativt nära varandra"
   ]
  },
  {
   "cell_type": "code",
   "execution_count": 4,
   "metadata": {},
   "outputs": [
    {
     "data": {
      "image/png": "[encoded data removed]",
      "text/plain": [
       "<Figure size 640x480 with 1 Axes>"
      ]
     },
     "metadata": {},
     "output_type": "display_data"
    }
   ],
   "source": [
    "covid_stats = pd.read_excel(\"../Data/Covid19.xlsx\", sheet_name=\"Veckodata Riket\")\n",
    "\n",
    "weeknumbers = covid_stats['veckonummer']\n",
    "kum_intensiv = covid_stats['Kum_antal_intensivvårdade']\n",
    "kum_fall = covid_stats['Kum_antal_fall']\n",
    "kum_avlidna = covid_stats['Kum_antal_avlidna']\n",
    "\n",
    "# didnt make a function out of this since its a one-off\n",
    "ax = plt.axes()\n",
    "sns.lineplot(x = weeknumbers, y = kum_intensiv, ax = ax)\n",
    "sns.lineplot(x = weeknumbers, y = kum_fall, ax = ax)\n",
    "sns.lineplot(x = weeknumbers, y = kum_avlidna, ax = ax)\n",
    "ax.set(title = \"Avlidna & fall per vecka\")\n",
    "ax.set_yscale(\"log\") # y-axis set to logarithmic which makes it easier to compare and read\n",
    "ax.xaxis.set_major_locator(plt.MaxNLocator(5))\n",
    "\n",
    "plt.savefig(\"../Labb_1/Visualiseringar/KPI_2_kum_fall_intensivv_fall\")"
   ]
  },
  {
   "cell_type": "markdown",
   "metadata": {},
   "source": [
    "- Följer varandra perfekt, vilket såklart känns självklart\n"
   ]
  },
  {
   "cell_type": "markdown",
   "metadata": {},
   "source": [
    "# KPI 3\n",
    "- Jämföra hur många fall per 100_000 invånare i varje län\n",
    "- Jämföra och se ifall om man kan dra slutsatser på vart i landet risken för fall är högst.\n",
    "- Kolla om antal fall per 100_000 ser annorlunda ut mer söder ut eller norr."
   ]
  },
  {
   "cell_type": "code",
   "execution_count": 5,
   "metadata": {},
   "outputs": [],
   "source": [
    "import json\n",
    "import numpy as np\n",
    "df_region = pd.read_excel(\"../Data/Covid19.xlsx\", sheet_name=\"Totalt antal per region\")\n",
    "# needed to download a freely available json file in order to map out the different provinces\n",
    "\n",
    "# the keys on the geojson files for some reason didn't match up correctly on the map,\n",
    "# so i had to use: df_region.insert(1, \"id\", np.arange(21)) so i could mouseover all provinces\n",
    "# and see their actually id-key, then insert them in the correct order in a new column (this took god damn forever to figure out)\n",
    "df_region.insert(1, \"id\", [18, 3, 15, 0, 9, 11, 1, 2, 4, 12, 20, 16, 7, 17, 10, 14, 13, 8, 19, 5, 6])"
   ]
  },
  {
   "cell_type": "markdown",
   "metadata": {},
   "source": [
    "- För denna KPI behövde jag använda mig utav dessa resurser för att kunna få kartan att mapa korrekt.\n",
    "- https://www.youtube.com/watch?v=aJmaw3QKMvk&t=687s\n",
    "- https://community.plotly.com/t/choropleth-map-error-empty-map/39521"
   ]
  },
  {
   "cell_type": "code",
   "execution_count": 6,
   "metadata": {},
   "outputs": [
    {
     "name": "stdout",
     "output_type": "stream",
     "text": [
      "Sverige medelvärde per län: 24763\n",
      "Sverige medianvärde per län: 24999\n"
     ]
    },
    {
     "data": {
      "application/vnd.plotly.v1+json": {
       "config": {
        "plotlyServerURL": "https://plot.ly"
       },
       "data": [
        {
         "coloraxis": "coloraxis",
         "geojson": {
          "features": [
           {
            "geometry": {
             "coordinates": [
              [
               [
                17.376669208687048,
                60.623892015107444
               ],
               [
                17.23804772200012,
                60.697699286000145
               ],
               [
                17.2830509770001,
                60.78115469000012
               ],
               [
                17.24626712300011,
                60.898016669000086
               ],
               [
                17.158213738000086,
                60.948431708000115
               ],
               [
                17.178965691000087,
                61.135972398000106
               ],
               [
                17.212738477000073,
                61.23529694200012
               ],
               [
                17.12134850400011,
                61.30817291900017
               ],
               [
                17.20020592500009,
                61.34813060100011
               ],
               [
                17.104014519000145,
                61.39935944200006
               ],
               [
                17.177012566000144,
                61.48688385600012
               ],
               [
                17.082367384000065,
                61.571275132
               ],
               [
                17.09717858200011,
                61.63613515800007
               ],
               [
                17.362315300000148,
                61.70913320500007
               ],
               [
                17.446136915000068,
                61.63287995000003
               ],
               [
                17.520274285000113,
                61.70237864800005
               ],
               [
                17.399180535000113,
                61.72235748900012
               ],
               [
                17.33863366000014,
                61.82900625200013
               ],
               [
                17.344248894000145,
                61.92413971600003
               ],
               [
                17.469004754000082,
                62.06216054900007
               ],
               [
                17.49856154807017,
                62.14758464941902
               ],
               [
                17.20957523011282,
                62.17806549742481
               ],
               [
                17.011086052879023,
                62.18039093739189
               ],
               [
                16.487552117935905,
                62.25087759152764
               ],
               [
                16.209481234971037,
                62.26056692232554
               ],
               [
                15.62713951987294,
                62.354979763405325
               ],
               [
                15.530297886038568,
                62.34906281249876
               ],
               [
                15.358680454239561,
                62.281986803048525
               ],
               [
                15.454901971348932,
                62.16008209890977
               ],
               [
                15.41671308803862,
                62.11690643978041
               ],
               [
                15.125154656861952,
                62.00029856982316
               ],
               [
                15.125619744855385,
                61.851289578051606
               ],
               [
                14.837626987095774,
                61.83997243927671
               ],
               [
                14.6841479834427,
                61.86867869736399
               ],
               [
                14.60172407380702,
                61.81204132844458
               ],
               [
                14.48162804479847,
                61.59148631534124
               ],
               [
                14.66678470165266,
                61.56298676192945
               ],
               [
                14.712208286383287,
                61.49234507906225
               ],
               [
                15.101538527381166,
                61.49237091748377
               ],
               [
                15.185512729728714,
                61.54415070269273
               ],
               [
                15.450716180307495,
                61.3459199078775
               ],
               [
                15.636906365936056,
                61.246158555772794
               ],
               [
                15.70253543456269,
                61.12784536437199
               ],
               [
                15.800927362008139,
                61.06335317730732
               ],
               [
                15.918232863056176,
                61.03053864254436
               ],
               [
                16.15594445237457,
                60.999403591702404
               ],
               [
                16.261467725754954,
                60.88977203984781
               ],
               [
                16.404094678626564,
                60.79479075798717
               ],
               [
                16.39541303908055,
                60.749883938093305
               ],
               [
                16.202504916868435,
                60.57997182953626
               ],
               [
                16.398927035654197,
                60.41868968458128
               ],
               [
                16.54310428213688,
                60.357504788515186
               ],
               [
                16.71735721226554,
                60.21591136351857
               ],
               [
                16.80970299579667,
                60.21058869091537
               ],
               [
                16.981475457226594,
                60.296888333229916
               ],
               [
                17.120330031106107,
                60.28417593047483
               ],
               [
                17.2261633637483,
                60.30957489756348
               ],
               [
                17.2174817242022,
                60.384686591413114
               ],
               [
                17.315873650748358,
                60.48602407555073
               ],
               [
                17.376669208687048,
                60.623892015107444
               ]
              ]
             ],
             "type": "Polygon"
            },
            "id": 0,
            "properties": {
             "color": 2,
             "l_id": 21,
             "name": "GÃ¤vleborg"
            },
            "type": "Feature"
           },
           {
            "geometry": {
             "coordinates": [
              [
               [
                15.550761753252317,
                57.211391912906436
               ],
               [
                15.495364617782883,
                57.30164480226583
               ],
               [
                15.52750735807814,
                57.44011180341701
               ],
               [
                15.62946495894073,
                57.461350816087275
               ],
               [
                15.66186608165438,
                57.50946157509162
               ],
               [
                15.616597528353225,
                57.56586640091365
               ],
               [
                15.663106316903026,
                57.6027116970871
               ],
               [
                15.443119744580542,
                57.71161977852995
               ],
               [
                15.197139926866157,
                57.72340200529831
               ],
               [
                15.153525018165084,
                57.74030019819554
               ],
               [
                15.02474734871123,
                57.914088040330824
               ],
               [
                15.09874800032,
                58.009431057397364
               ],
               [
                14.992811313990927,
                58.155132758170254
               ],
               [
                14.834991488766235,
                58.094852200568624
               ],
               [
                14.597848342027419,
                58.11187958377576
               ],
               [
                14.485968866370087,
                58.15391836224259
               ],
               [
                14.428556349296116,
                58.22437917705736
               ],
               [
                14.237095167907682,
                58.00152456330787
               ],
               [
                14.211980421659149,
                57.915948391405095
               ],
               [
                14.044962192051571,
                57.86427195898369
               ],
               [
                13.750613233813738,
                57.85308401141799
               ],
               [
                13.76663292756757,
                57.78076284373023
               ],
               [
                13.724413282846655,
                57.72019806618778
               ],
               [
                13.682658726119286,
                57.56511709297945
               ],
               [
                13.542253858628726,
                57.43577098184531
               ],
               [
                13.413114454868264,
                57.35505239545162
               ],
               [
                13.315084262628602,
                57.317018540872965
               ],
               [
                13.116595086294183,
                57.15697663026722
               ],
               [
                13.089878371389773,
                57.110002752824784
               ],
               [
                13.138144159125659,
                57.041221421931
               ],
               [
                13.239481642363899,
                57.09747121812222
               ],
               [
                13.39466596835976,
                57.1205964220872
               ],
               [
                13.592379998338288,
                57.067757270581524
               ],
               [
                13.606952752167814,
                57.02142934828578
               ],
               [
                13.693665805632378,
                56.9834213321287
               ],
               [
                13.780120476678661,
                57.03558869096534
               ],
               [
                13.871639438809098,
                57.00396271370823
               ],
               [
                13.951117790853317,
                57.03884430601988
               ],
               [
                14.065322707377106,
                57.0501872832165
               ],
               [
                14.15859866689496,
                57.014375514918044
               ],
               [
                14.233529493591249,
                56.91735301393044
               ],
               [
                14.334866977728865,
                56.89311676682527
               ],
               [
                14.393054640259464,
                56.9552576772999
               ],
               [
                14.356416049660965,
                57.02215281779823
               ],
               [
                14.38189253111537,
                57.1424038764377
               ],
               [
                14.717996046980033,
                57.219918525519574
               ],
               [
                14.808739861855202,
                57.227773342765516
               ],
               [
                14.950901726733292,
                57.15248078086336
               ],
               [
                15.174505649316245,
                57.19702586555124
               ],
               [
                15.233158399840306,
                57.23449127934899
               ],
               [
                15.415782912051696,
                57.235834866485845
               ],
               [
                15.550761753252317,
                57.211391912906436
               ]
              ]
             ],
             "type": "Polygon"
            },
            "id": 1,
            "properties": {
             "color": 2,
             "l_id": 6,
             "name": "JÃ¶nkÃ¶ping"
            },
            "type": "Feature"
           },
           {
            "geometry": {
             "coordinates": [
              [
               [
                [
                 17.073496941000087,
                 57.343207098000065
                ],
                [
                 16.966481967000078,
                 57.30459219
                ],
                [
                 16.95923912900014,
                 57.23069896
                ],
                [
                 16.909922722000147,
                 57.20221588700018
                ],
                [
                 16.88835696700005,
                 57.11823151200012
                ],
                [
                 16.716807488000143,
                 56.891831773000106
                ],
                [
                 16.620860222000147,
                 56.87225983300014
                ],
                [
                 16.398936394000117,
                 56.54466380400005
                ],
                [
                 16.412608269000145,
                 56.22931549700006
                ],
                [
                 16.490896030000044,
                 56.23956940300015
                ],
                [
                 16.566416863000143,
                 56.346136786
                ],
                [
                 16.643239780000073,
                 56.568426825000145
                ],
                [
                 16.781586134000065,
                 56.81061432500012
                ],
                [
                 16.830332879000082,
                 56.8258324240001
                ],
                [
                 16.883067254000082,
                 56.91624583500008
                ],
                [
                 16.87126712300011,
                 56.969183661000116
                ],
                [
                 16.933929884000094,
                 57.017564195000105
                ],
                [
                 16.97348066500004,
                 57.104193427000084
                ],
                [
                 17.066254102000073,
                 57.226711330000015
                ],
                [
                 17.04200280000009,
                 57.2709007830001
                ],
                [
                 17.073496941000087,
                 57.343207098000065
                ]
               ]
              ],
              [
               [
                [
                 16.686870148904404,
                 57.98922557162551
                ],
                [
                 16.59664106563261,
                 58.078548285974634
                ],
                [
                 16.439906446925022,
                 58.1253929713085
                ],
                [
                 16.301516961038885,
                 58.124333605011785
                ],
                [
                 16.17289432121595,
                 58.07283803974373
                ],
                [
                 16.03894900878973,
                 58.079607652271264
                ],
                [
                 16.076207717012494,
                 57.97584137627855
                ],
                [
                 16.041584507119325,
                 57.86292837184682
                ],
                [
                 15.930790236180428,
                 57.819184271936635
                ],
                [
                 15.766769240108346,
                 57.858380846498804
                ],
                [
                 15.633960809243973,
                 57.84603017805033
                ],
                [
                 15.44311974458057,
                 57.71161977852991
                ],
                [
                 15.663106316903026,
                 57.60271169708709
                ],
                [
                 15.616597528353225,
                 57.565866400913606
                ],
                [
                 15.66186608165441,
                 57.50946157509166
                ],
                [
                 15.62946495894073,
                 57.46135081608735
                ],
                [
                 15.52750735807814,
                 57.440111803417054
                ],
                [
                 15.495364617782883,
                 57.30164480226587
                ],
                [
                 15.591431105261336,
                 57.156666571904836
                ],
                [
                 15.67261477964837,
                 57.13015656257532
                ],
                [
                 15.805578241043008,
                 57.02049917319819
                ],
                [
                 15.846402621783568,
                 56.95822907241383
                ],
                [
                 15.782633905130638,
                 56.90810293180478
                ],
                [
                 15.528282505333323,
                 56.90332286246009
                ],
                [
                 15.55949506964177,
                 56.824412950297514
                ],
                [
                 15.392373488145978,
                 56.75715607369385
                ],
                [
                 15.419038527106409,
                 56.677729396694204
                ],
                [
                 15.40524091963269,
                 56.55879608856871
                ],
                [
                 15.363021274012596,
                 56.48213410110789
                ],
                [
                 15.597322217746125,
                 56.50166779233483
                ],
                [
                 15.80015221475287,
                 56.374879666063705
                ],
                [
                 15.979986199903209,
                 56.32622630470017
                ],
                [
                 16.06624771628549,
                 56.335945807778344
                ],
                [
                 16.095225457000083,
                 56.41937897300015
                ],
                [
                 16.213226759000094,
                 56.548407294000086
                ],
                [
                 16.25521894600007,
                 56.65037669500002
                ],
                [
                 16.379161004000082,
                 56.67560455900015
                ],
                [
                 16.356618686000104,
                 56.758449611000074
                ],
                [
                 16.408946160000085,
                 56.80841705900012
                ],
                [
                 16.4681095710001,
                 56.94928620000003
                ],
                [
                 16.439789259000065,
                 57.014105536000116
                ],
                [
                 16.53484134200005,
                 57.05174388200011
                ],
                [
                 16.55250084700006,
                 57.110093492000104
                ],
                [
                 16.46501712300011,
                 57.17731354400014
                ],
                [
                 16.48519941500004,
                 57.294623114
                ],
                [
                 16.53484134200005,
                 57.36025625200001
                ],
                [
                 16.65601647200012,
                 57.40924713700018
                ],
                [
                 16.688975457000083,
                 57.47174713700012
                ],
                [
                 16.62916100400014,
                 57.55687083500011
                ],
                [
                 16.610606316000116,
                 57.682359117000075
                ],
                [
                 16.706797722000147,
                 57.68854401200004
                ],
                [
                 16.675466342000107,
                 57.76447174700017
                ],
                [
                 16.4602970710001,
                 57.89468008000013
                ],
                [
                 16.590098504000082,
                 57.935614325000145
                ],
                [
                 16.71078535200013,
                 57.891262111000046
                ],
                [
                 16.773936394000117,
                 57.923407294000086
                ],
                [
                 16.686870148904404,
                 57.98922557162551
                ]
               ]
              ]
             ],
             "type": "MultiPolygon"
            },
            "id": 2,
            "properties": {
             "color": 1,
             "l_id": 8,
             "name": "Kalmar"
            },
            "type": "Feature"
           },
           {
            "geometry": {
             "coordinates": [
              [
               [
                14.48162804479847,
                61.5914863153412
               ],
               [
                14.296368036056009,
                61.59985789742396
               ],
               [
                13.60648766417438,
                61.65845897110458
               ],
               [
                13.32702151902788,
                61.90578237595591
               ],
               [
                13.382108595235508,
                62.00440684739803
               ],
               [
                13.285421991032052,
                62.04742747689656
               ],
               [
                13.18672000522406,
                62.04334503774325
               ],
               [
                13.048640577700553,
                62.081172186746954
               ],
               [
                12.797079704964375,
                62.207107652296315
               ],
               [
                12.31514930519819,
                62.27176074603085
               ],
               [
                12.317469929000112,
                62.23403188100011
               ],
               [
                12.161717163000077,
                61.72483815500007
               ],
               [
                12.416481975000096,
                61.58228871700004
               ],
               [
                12.61378259200012,
                61.54704539000005
               ],
               [
                12.877125692000078,
                61.370983786000096
               ],
               [
                12.819661499000063,
                61.204947408000095
               ],
               [
                12.746694376000022,
                61.151462301000066
               ],
               [
                12.710825598011553,
                61.05701155821839
               ],
               [
                12.75599694180542,
                61.00092804599254
               ],
               [
                13.098301629416682,
                60.816649889181036
               ],
               [
                13.195866732763534,
                60.714227200324984
               ],
               [
                13.261237419871037,
                60.68260122306796
               ],
               [
                13.527939487217594,
                60.4465174417266
               ],
               [
                13.668551060283221,
                60.40698497217872
               ],
               [
                13.84528445821121,
                60.2614899769809
               ],
               [
                14.157513462176524,
                60.22854625100865
               ],
               [
                14.257404006389805,
                60.10713247328496
               ],
               [
                14.451087274058438,
                60.036594143205065
               ],
               [
                14.717375929355683,
                60.01799062796513
               ],
               [
                14.769155714564562,
                60.09845083283969
               ],
               [
                14.881396926327056,
                60.08865814925423
               ],
               [
                15.238429395600178,
                60.01556183521055
               ],
               [
                15.454746941718014,
                59.883218492339466
               ],
               [
                15.534793735442548,
                59.97267039692133
               ],
               [
                15.682381625711486,
                59.96931142817985
               ],
               [
                15.749716016680821,
                60.14684581178474
               ],
               [
                15.815345086206833,
                60.1781100529366
               ],
               [
                15.974870232874963,
                60.18919464771477
               ],
               [
                16.131604851582665,
                60.162736315228756
               ],
               [
                16.167261590250206,
                60.10449697495545
               ],
               [
                16.319965448446737,
                60.07762523131933
               ],
               [
                16.473289421569547,
                60.110698146702134
               ],
               [
                16.553956332918432,
                60.175629584237896
               ],
               [
                16.71735721226554,
                60.215911363518615
               ],
               [
                16.54310428213688,
                60.357504788515115
               ],
               [
                16.398927035654197,
                60.41868968458124
               ],
               [
                16.202504916868435,
                60.579971829536305
               ],
               [
                16.39541303908055,
                60.74988393809326
               ],
               [
                16.404094678626564,
                60.7947907579871
               ],
               [
                16.261467725754954,
                60.88977203984777
               ],
               [
                16.15594445237457,
                60.99940359170236
               ],
               [
                15.918232863056176,
                61.030538642544315
               ],
               [
                15.800927362008139,
                61.06335317730728
               ],
               [
                15.70253543456269,
                61.127845364372035
               ],
               [
                15.636906365936056,
                61.24615855577275
               ],
               [
                15.450716180307495,
                61.34591990787746
               ],
               [
                15.185512729728714,
                61.54415070269269
               ],
               [
                15.101538527381138,
                61.49237091748381
               ],
               [
                14.712208286383287,
                61.492345079062204
               ],
               [
                14.666784701652631,
                61.562986761929494
               ],
               [
                14.48162804479847,
                61.5914863153412
               ]
              ]
             ],
             "type": "Polygon"
            },
            "id": 3,
            "properties": {
             "color": 1,
             "l_id": 20,
             "name": "Dalarna"
            },
            "type": "Feature"
           },
           {
            "geometry": {
             "coordinates": [
              [
               [
                15.550761753252317,
                57.211391912906436
               ],
               [
                15.415782912051696,
                57.235834866485845
               ],
               [
                15.233158399840306,
                57.23449127934899
               ],
               [
                15.174505649316245,
                57.19702586555124
               ],
               [
                14.950901726733292,
                57.15248078086336
               ],
               [
                14.808739861855202,
                57.227773342765516
               ],
               [
                14.717996046980033,
                57.219918525519574
               ],
               [
                14.38189253111537,
                57.1424038764377
               ],
               [
                14.356416049660965,
                57.02215281779823
               ],
               [
                14.393054640259464,
                56.9552576772999
               ],
               [
                14.334866977728865,
                56.89311676682527
               ],
               [
                14.233529493591249,
                56.91735301393044
               ],
               [
                14.15859866689496,
                57.014375514918044
               ],
               [
                14.065322707377106,
                57.0501872832165
               ],
               [
                13.951117790853317,
                57.03884430601988
               ],
               [
                13.871639438809098,
                57.00396271370823
               ],
               [
                13.780120476678661,
                57.03558869096534
               ],
               [
                13.693665805632378,
                56.9834213321287
               ],
               [
                13.621835565259175,
                56.90681102241078
               ],
               [
                13.352136265276414,
                56.86764028627016
               ],
               [
                13.32128543527466,
                56.832086900390095
               ],
               [
                13.308211297313505,
                56.701862291011906
               ],
               [
                13.44882287037916,
                56.559080309408756
               ],
               [
                13.451613397440298,
                56.491952623115
               ],
               [
                13.501429477888081,
                56.42384308489048
               ],
               [
                13.576670362946913,
                56.42379140894633
               ],
               [
                13.993337437372787,
                56.479240221259204
               ],
               [
                14.094674919711764,
                56.54120026278193
               ],
               [
                14.277764519916701,
                56.52391449625702
               ],
               [
                14.54074588421517,
                56.47748322207306
               ],
               [
                14.725127393814148,
                56.401958116174114
               ],
               [
                14.915193312121687,
                56.38193349943137
               ],
               [
                14.995705193839655,
                56.44738170000548
               ],
               [
                15.104018996079759,
                56.462807115455945
               ],
               [
                15.215743442106202,
                56.44306671775476
               ],
               [
                15.342557406798846,
                56.46934418398689
               ],
               [
                15.368602329034275,
                56.531872667189816
               ],
               [
                15.40524091963269,
                56.55879608856864
               ],
               [
                15.419038527106409,
                56.67772939669425
               ],
               [
                15.392373488145978,
                56.75715607369378
               ],
               [
                15.55949506964177,
                56.82441295029747
               ],
               [
                15.528282505333323,
                56.90332286246013
               ],
               [
                15.782633905130638,
                56.90810293180482
               ],
               [
                15.846402621783568,
                56.958229072413786
               ],
               [
                15.805578241043008,
                57.02049917319823
               ],
               [
                15.67261477964837,
                57.13015656257525
               ],
               [
                15.591431105261336,
                57.156666571904765
               ],
               [
                15.550761753252317,
                57.211391912906436
               ]
              ]
             ],
             "type": "Polygon"
            },
            "id": 4,
            "properties": {
             "color": 4,
             "l_id": 7,
             "name": "Kronoberg"
            },
            "type": "Feature"
           },
           {
            "geometry": {
             "coordinates": [
              [
               [
                15.454746941718014,
                59.883218492339466
               ],
               [
                15.238429395600178,
                60.01556183521055
               ],
               [
                14.881396926327056,
                60.08865814925423
               ],
               [
                14.769155714564562,
                60.09845083283969
               ],
               [
                14.717375929355683,
                60.01799062796513
               ],
               [
                14.451087274058438,
                60.036594143205065
               ],
               [
                14.455893181824848,
                60.00176422773694
               ],
               [
                14.352385288250446,
                59.95944123022855
               ],
               [
                14.418169385608621,
                59.92574819632219
               ],
               [
                14.445351190305217,
                59.686899726341295
               ],
               [
                14.482093132791846,
                59.58365021428591
               ],
               [
                14.468760614210936,
                59.498177395170615
               ],
               [
                14.329906040331537,
                59.30051504203561
               ],
               [
                14.312646112228265,
                59.0163463410108
               ],
               [
                14.410107862787697,
                58.84493561478675
               ],
               [
                14.52059207536405,
                58.72799184804532
               ],
               [
                14.695310092586709,
                58.734089667004525
               ],
               [
                14.811530388916367,
                58.64551626246552
               ],
               [
                15.011259799600055,
                58.69928558995801
               ],
               [
                15.170939975899188,
                58.80785777371733
               ],
               [
                15.279253778139378,
                58.84540070278021
               ],
               [
                15.428960401901065,
                58.8455557324111
               ],
               [
                15.539444613578041,
                58.87397777055767
               ],
               [
                15.62465905117432,
                58.96622020130124
               ],
               [
                15.639851921728848,
                59.03650014896266
               ],
               [
                15.71245731025661,
                59.0947394883367
               ],
               [
                15.804182977062737,
                59.122179674552285
               ],
               [
                15.806818475392362,
                59.13838023545949
               ],
               [
                15.771265090411589,
                59.19664541325514
               ],
               [
                15.77860314282077,
                59.20620555284401
               ],
               [
                15.633340691619622,
                59.293357855880316
               ],
               [
                15.6452779480189,
                59.40926809294808
               ],
               [
                15.75219648627882,
                59.440609850264366
               ],
               [
                15.640782097715658,
                59.62752350540541
               ],
               [
                15.558254836191793,
                59.63780711540602
               ],
               [
                15.579028760868624,
                59.741004951517255
               ],
               [
                15.454746941718014,
                59.883218492339466
               ]
              ]
             ],
             "type": "Polygon"
            },
            "id": 5,
            "properties": {
             "color": 3,
             "l_id": 18,
             "name": "Ã–rebro"
            },
            "type": "Feature"
           },
           {
            "geometry": {
             "coordinates": [
              [
               [
                16.78143502860982,
                58.63449303032577
               ],
               [
                16.630179070807515,
                58.68892446649086
               ],
               [
                16.453290643248607,
                58.69223175748964
               ],
               [
                16.298106317252746,
                58.82385162994878
               ],
               [
                16.07806806808685,
                58.92503408535485
               ],
               [
                15.8482629737573,
                59.0098867868458
               ],
               [
                15.723619419400706,
                58.984513658178784
               ],
               [
                15.62465905117432,
                58.96622020130128
               ],
               [
                15.539444613578041,
                58.873977770557744
               ],
               [
                15.428960401901065,
                58.84555573241117
               ],
               [
                15.279253778139378,
                58.84540070278025
               ],
               [
                15.170939975899188,
                58.80785777371737
               ],
               [
                15.011259799600055,
                58.69928558995805
               ],
               [
                14.811530388916367,
                58.64551626246556
               ],
               [
                14.428556349296116,
                58.224379177057344
               ],
               [
                14.485968866370087,
                58.15391836224266
               ],
               [
                14.597848342027419,
                58.11187958377572
               ],
               [
                14.834991488766235,
                58.09485220056867
               ],
               [
                14.992811313990927,
                58.155132758170296
               ],
               [
                15.09874800032,
                58.00943105739732
               ],
               [
                15.02474734871123,
                57.914088040330896
               ],
               [
                15.153525018165084,
                57.7403001981955
               ],
               [
                15.197139926866157,
                57.723402005298354
               ],
               [
                15.44311974458057,
                57.71161977852991
               ],
               [
                15.633960809243973,
                57.84603017805033
               ],
               [
                15.766769240108346,
                57.858380846498804
               ],
               [
                15.930790236180428,
                57.819184271936635
               ],
               [
                16.041584507119325,
                57.86292837184682
               ],
               [
                16.076207717012494,
                57.97584137627855
               ],
               [
                16.03894900878973,
                58.079607652271264
               ],
               [
                16.17289432121595,
                58.07283803974373
               ],
               [
                16.301516961038885,
                58.124333605011785
               ],
               [
                16.439906446925022,
                58.1253929713085
               ],
               [
                16.59664106563261,
                58.078548285974634
               ],
               [
                16.686870148904404,
                57.98922557162551
               ],
               [
                16.821299675000148,
                58.20709870000003
               ],
               [
                16.72950280000012,
                58.26850006700012
               ],
               [
                16.779307488000086,
                58.325588283000016
               ],
               [
                16.72046959700009,
                58.43650950700014
               ],
               [
                16.865896030000044,
                58.483058986000074
               ],
               [
                16.785980665000125,
                58.57273997600011
               ],
               [
                16.635915561000076,
                58.62677643400012
               ],
               [
                16.40919030000012,
                58.59662506700009
               ],
               [
                16.233734571000127,
                58.669256903000175
               ],
               [
                16.78143502860982,
                58.63449303032577
               ]
              ]
             ],
             "type": "Polygon"
            },
            "id": 6,
            "properties": {
             "color": 4,
             "l_id": 5,
             "name": "Ã–stergÃ¶tland"
            },
            "type": "Feature"
           },
           {
            "geometry": {
             "coordinates": [
              [
               [
                16.966437616302898,
                59.5321288114955
               ],
               [
                16.84882205599314,
                59.509701240419915
               ],
               [
                16.287099236840277,
                59.45373566327025
               ],
               [
                16.277280714833097,
                59.375187486313465
               ],
               [
                16.004635858158366,
                59.35857351335689
               ],
               [
                15.899939406178675,
                59.24227570356091
               ],
               [
                15.771265090411589,
                59.19664541325518
               ],
               [
                15.804182977062766,
                59.12217967455227
               ],
               [
                15.71245731025661,
                59.09473948833674
               ],
               [
                15.639851921728848,
                59.03650014896262
               ],
               [
                15.723619419400706,
                58.984513658178784
               ],
               [
                15.8482629737573,
                59.0098867868458
               ],
               [
                16.07806806808685,
                58.92503408535485
               ],
               [
                16.298106317252746,
                58.82385162994878
               ],
               [
                16.453290643248607,
                58.69223175748964
               ],
               [
                16.630179070807515,
                58.68892446649086
               ],
               [
                16.78143502860982,
                58.63449303032577
               ],
               [
                16.924164259000065,
                58.625433661000116
               ],
               [
                17.093028191000087,
                58.66083405200011
               ],
               [
                17.16236412900014,
                58.73200104400014
               ],
               [
                17.276052280000044,
                58.730698960000055
               ],
               [
                17.459727410000113,
                58.791449286
               ],
               [
                17.62671959700006,
                58.91779205900015
               ],
               [
                17.586184270378993,
                58.96484194338326
               ],
               [
                17.385998568778973,
                58.99825958880898
               ],
               [
                17.285281203165,
                59.227237860838656
               ],
               [
                17.341861932782024,
                59.324889243343975
               ],
               [
                17.444496290571408,
                59.38531606758245
               ],
               [
                17.24481855583167,
                59.50032196708513
               ],
               [
                17.1481319516283,
                59.52716787409817
               ],
               [
                16.966437616302898,
                59.5321288114955
               ]
              ]
             ],
             "type": "Polygon"
            },
            "id": 7,
            "properties": {
             "color": 2,
             "l_id": 4,
             "name": "SÃ¶dermanland"
            },
            "type": "Feature"
           },
           {
            "geometry": {
             "coordinates": [
              [
               [
                15.77860314282077,
                59.20620555284401
               ],
               [
                15.899939406178675,
                59.242275703560864
               ],
               [
                16.004635858158366,
                59.35857351335693
               ],
               [
                16.277280714833097,
                59.37518748631342
               ],
               [
                16.287099236840277,
                59.45373566327021
               ],
               [
                16.84882205599314,
                59.50970124041987
               ],
               [
                16.966437616302898,
                59.532128811495454
               ],
               [
                16.90029178194021,
                59.66896800377032
               ],
               [
                16.79683556520922,
                59.78487824173746
               ],
               [
                16.858898960418713,
                59.88435537390134
               ],
               [
                17.05036014180712,
                59.83906098127926
               ],
               [
                17.180584751185307,
                59.8847171091073
               ],
               [
                17.210815463562795,
                60.04212352228271
               ],
               [
                17.28838178858871,
                60.05891836239252
               ],
               [
                17.38568851131572,
                60.20131277126737
               ],
               [
                17.369410435143465,
                60.250896307718364
               ],
               [
                17.2261633637483,
                60.30957489756341
               ],
               [
                17.120330031106107,
                60.28417593047479
               ],
               [
                16.981475457226594,
                60.29688833322996
               ],
               [
                16.80970299579667,
                60.21058869091533
               ],
               [
                16.71735721226554,
                60.215911363518615
               ],
               [
                16.553956332918432,
                60.175629584237896
               ],
               [
                16.473289421569547,
                60.110698146702134
               ],
               [
                16.319965448446737,
                60.07762523131933
               ],
               [
                16.167261590250206,
                60.10449697495545
               ],
               [
                16.131604851582665,
                60.162736315228756
               ],
               [
                15.974870232874963,
                60.18919464771477
               ],
               [
                15.815345086206833,
                60.1781100529366
               ],
               [
                15.749716016680821,
                60.14684581178474
               ],
               [
                15.682381625711486,
                59.96931142817985
               ],
               [
                15.534793735442548,
                59.97267039692133
               ],
               [
                15.454746941718014,
                59.883218492339466
               ],
               [
                15.579028760868624,
                59.741004951517255
               ],
               [
                15.558254836191793,
                59.63780711540602
               ],
               [
                15.640782097715658,
                59.62752350540541
               ],
               [
                15.75219648627882,
                59.440609850264366
               ],
               [
                15.6452779480189,
                59.40926809294808
               ],
               [
                15.633340691619622,
                59.293357855880316
               ],
               [
                15.77860314282077,
                59.20620555284401
               ]
              ]
             ],
             "type": "Polygon"
            },
            "id": 8,
            "properties": {
             "color": 4,
             "l_id": 19,
             "name": "VÃ¤stmanland"
            },
            "type": "Feature"
           },
           {
            "geometry": {
             "coordinates": [
              [
               [
                13.116595086294183,
                57.15697663026722
               ],
               [
                12.95319420694716,
                57.19958384951502
               ],
               [
                12.944357536870882,
                57.277511908847515
               ],
               [
                12.748193801402806,
                57.302549139830916
               ],
               [
                12.594611444062878,
                57.350556546047756
               ],
               [
                12.514823031857446,
                57.29805329042705
               ],
               [
                12.434466179770396,
                57.305856431728955
               ],
               [
                12.393176711036375,
                57.38350027112054
               ],
               [
                12.41550092932448,
                57.435926012375575
               ],
               [
                12.33684939868084,
                57.490832221429855
               ],
               [
                12.301916131324418,
                57.61643179019495
               ],
               [
                12.069320509034242,
                57.572558499075484
               ],
               [
                11.912840095419995,
                57.582923907815
               ],
               [
                11.944834832000083,
                57.489935614000046
               ],
               [
                11.915212436000047,
                57.40338776200008
               ],
               [
                12.059255405000101,
                57.45880768400005
               ],
               [
                12.10873457100007,
                57.39435455900008
               ],
               [
                12.204356316000116,
                57.147935289
               ],
               [
                12.271250847000147,
                57.04287344000011
               ],
               [
                12.333262566000087,
                57.02090078300009
               ],
               [
                12.375010613000143,
                56.91205475500007
               ],
               [
                12.469574415000068,
                56.89203522300002
               ],
               [
                12.598317905000073,
                56.82099030200007
               ],
               [
                12.615733269000117,
                56.750067450000074
               ],
               [
                12.73178144600007,
                56.647040106000105
               ],
               [
                12.871755405000073,
                56.64948151200005
               ],
               [
                12.934418165000068,
                56.54706452000005
               ],
               [
                12.910875189871291,
                56.47436335785363
               ],
               [
                12.975880161340342,
                56.44373851222255
               ],
               [
                13.016497837405296,
                56.37071971344395
               ],
               [
                13.230644972287678,
                56.34281444013433
               ],
               [
                13.391100294942703,
                56.419140529911544
               ],
               [
                13.501429477888081,
                56.42384308489048
               ],
               [
                13.451613397440298,
                56.491952623115
               ],
               [
                13.44882287037916,
                56.559080309408756
               ],
               [
                13.308211297313505,
                56.701862291011906
               ],
               [
                13.32128543527466,
                56.832086900390095
               ],
               [
                13.352136265276414,
                56.86764028627016
               ],
               [
                13.621835565259175,
                56.90681102241078
               ],
               [
                13.693665805632378,
                56.9834213321287
               ],
               [
                13.606952752167814,
                57.02142934828578
               ],
               [
                13.592379998338288,
                57.067757270581524
               ],
               [
                13.39466596835976,
                57.1205964220872
               ],
               [
                13.239481642363899,
                57.09747121812222
               ],
               [
                13.138144159125659,
                57.041221421931
               ],
               [
                13.089878371389773,
                57.110002752824784
               ],
               [
                13.116595086294183,
                57.15697663026722
               ]
              ]
             ],
             "type": "Polygon"
            },
            "id": 9,
            "properties": {
             "color": 3,
             "l_id": 13,
             "name": "Halland"
            },
            "type": "Feature"
           },
           {
            "geometry": {
             "coordinates": [
              [
               [
                14.451087274058438,
                60.036594143205065
               ],
               [
                14.257404006389805,
                60.10713247328496
               ],
               [
                14.157513462176524,
                60.22854625100865
               ],
               [
                13.84528445821121,
                60.2614899769809
               ],
               [
                13.668551060283221,
                60.40698497217872
               ],
               [
                13.527939487217594,
                60.4465174417266
               ],
               [
                13.261237419871037,
                60.68260122306796
               ],
               [
                13.195866732763534,
                60.714227200324984
               ],
               [
                13.098301629416682,
                60.816649889181036
               ],
               [
                12.75599694180542,
                61.00092804599254
               ],
               [
                12.710825598011553,
                61.05701155821839
               ],
               [
                12.511773316000102,
                61.04911712700007
               ],
               [
                12.28098636900009,
                61.015191549000036
               ],
               [
                12.256078329000019,
                60.98131764800013
               ],
               [
                12.313232463000134,
                60.90186513300006
               ],
               [
                12.377001180000065,
                60.7540963750001
               ],
               [
                12.482524454000043,
                60.6573322560001
               ],
               [
                12.594352254000029,
                60.51493784600012
               ],
               [
                12.593628784000117,
                60.39502268500013
               ],
               [
                12.487278686000138,
                60.29590728800011
               ],
               [
                12.521591838000063,
                60.19761871300011
               ],
               [
                12.510946492000073,
                60.117985332000075
               ],
               [
                12.446764364000046,
                60.05111602800008
               ],
               [
                12.290598185000107,
                59.95871856700009
               ],
               [
                12.143733764000103,
                59.898412170000114
               ],
               [
                11.942195678000132,
                59.90202952100009
               ],
               [
                11.849591512000075,
                59.872418925000034
               ],
               [
                11.903541707000045,
                59.76999623600011
               ],
               [
                11.891656128000108,
                59.70576243200006
               ],
               [
                11.828404175000117,
                59.659718730000066
               ],
               [
                11.693735392000121,
                59.622304993000085
               ],
               [
                11.677405640000103,
                59.559053040000094
               ],
               [
                11.783962443000036,
                59.36061554000008
               ],
               [
                11.81166101100007,
                59.249666240000124
               ],
               [
                11.949224480925068,
                59.24646149370298
               ],
               [
                12.070405714652054,
                59.2008828802407
               ],
               [
                12.185850863726387,
                59.25493642857333
               ],
               [
                12.256337517862221,
                59.214732164557745
               ],
               [
                12.596006707143857,
                59.12499603913588
               ],
               [
                12.66520145008684,
                59.1744762227994
               ],
               [
                12.756307000167965,
                59.13675242838181
               ],
               [
                12.785607536558558,
                59.05164134447247
               ],
               [
                12.858988071442411,
                58.98807933249515
               ],
               [
                12.928079460698541,
                58.81516999040272
               ],
               [
                13.288212518093303,
                58.74220286756824
               ],
               [
                13.44572228405616,
                58.7596436628248
               ],
               [
                13.379783156167719,
                58.84286855723806
               ],
               [
                13.457039421931796,
                58.967770494013024
               ],
               [
                13.614549187894681,
                59.05463857710862
               ],
               [
                14.226708205119593,
                59.04450999583963
               ],
               [
                14.312646112228265,
                59.0163463410108
               ],
               [
                14.329906040331537,
                59.30051504203561
               ],
               [
                14.468760614210936,
                59.498177395170615
               ],
               [
                14.482093132791846,
                59.58365021428591
               ],
               [
                14.445351190305217,
                59.686899726341295
               ],
               [
                14.418169385608621,
                59.92574819632219
               ],
               [
                14.352385288250446,
                59.95944123022855
               ],
               [
                14.455893181824848,
                60.00176422773694
               ],
               [
                14.451087274058438,
                60.036594143205065
               ]
              ]
             ],
             "type": "Polygon"
            },
            "id": 10,
            "properties": {
             "color": 2,
             "l_id": 17,
             "name": "VÃ¤rmland"
            },
            "type": "Feature"
           },
           {
            "geometry": {
             "coordinates": [
              [
               [
                14.48162804479847,
                61.5914863153412
               ],
               [
                14.60172407380702,
                61.81204132844451
               ],
               [
                14.6841479834427,
                61.86867869736395
               ],
               [
                14.837626987095774,
                61.839972439276636
               ],
               [
                15.125619744855385,
                61.85128957805156
               ],
               [
                15.125154656861923,
                62.000298569823116
               ],
               [
                15.41671308803862,
                62.116906439780365
               ],
               [
                15.454901971348932,
                62.160082098909726
               ],
               [
                15.358680454239533,
                62.28198680304848
               ],
               [
                15.193729282180641,
                62.274131984903136
               ],
               [
                15.066036818344514,
                62.29769643843986
               ],
               [
                14.85142459456938,
                62.42523387354444
               ],
               [
                14.870958285796235,
                62.482284654513194
               ],
               [
                14.824759555608978,
                62.584681504947525
               ],
               [
                14.99405154834028,
                62.61080394154865
               ],
               [
                15.172490268611,
                62.603155829877636
               ],
               [
                15.609104445413834,
                62.6533853223747
               ],
               [
                15.886090121861628,
                62.710487779287604
               ],
               [
                16.313919305431597,
                62.72480215069871
               ],
               [
                16.44176679889864,
                62.7864779731799
               ],
               [
                16.65839440337902,
                62.922490343154806
               ],
               [
                16.96907311373323,
                62.99344208438464
               ],
               [
                16.181265903298794,
                63.3778372264068
               ],
               [
                16.0205005231806,
                63.461940619963656
               ],
               [
                15.937766554283002,
                63.66376292571846
               ],
               [
                16.16214562322196,
                63.702184353025444
               ],
               [
                16.262087843379305,
                63.69208161107744
               ],
               [
                16.487397088304988,
                63.707274482531346
               ],
               [
                16.591990186597826,
                63.736936754127896
               ],
               [
                16.630334100438347,
                63.8520460073174
               ],
               [
                16.745004103156845,
                64.01746226736967
               ],
               [
                16.263018019366115,
                64.2555614285171
               ],
               [
                16.084579299095424,
                64.26300283551242
               ],
               [
                15.98541222529397,
                64.35356578233495
               ],
               [
                15.78759484162859,
                64.42671377232278
               ],
               [
                15.744600050551867,
                64.50712230125319
               ],
               [
                15.639386833735387,
                64.4726024441475
               ],
               [
                15.531073032394488,
                64.54086701110367
               ],
               [
                15.291501092001823,
                64.6445816111524
               ],
               [
                15.269280225601932,
                64.7224838320632
               ],
               [
                15.111512079019235,
                64.75671946922807
               ],
               [
                15.022731968005985,
                64.8443110218362
               ],
               [
                14.886151157250112,
                64.87916677482676
               ],
               [
                14.708487583335312,
                65.00042552381879
               ],
               [
                14.340758091113003,
                65.11243419068535
               ],
               [
                14.33284986021647,
                65.11504586028911
               ],
               [
                13.642763713000079,
                64.58401763900011
               ],
               [
                14.115551391000054,
                64.44123565700002
               ],
               [
                14.161440063000015,
                64.20543609600014
               ],
               [
                14.147797485000098,
                64.16900421200006
               ],
               [
                13.98232954900007,
                64.01950429300013
               ],
               [
                13.939438110000111,
                64.00953074200004
               ],
               [
                13.234106486000144,
                64.09086944600011
               ],
               [
                12.982442261000074,
                64.05883005800013
               ],
               [
                12.681892131000012,
                63.95635569300006
               ],
               [
                12.293182006000109,
                63.65699412100014
               ],
               [
                12.170295450000111,
                63.59813466500006
               ],
               [
                12.204918660000118,
                63.45462921200004
               ],
               [
                11.992425171000093,
                63.28890289300011
               ],
               [
                12.222695353000063,
                63.00147857700003
               ],
               [
                12.104356323000104,
                62.92334381100011
               ],
               [
                12.156239461000098,
                62.733691305000065
               ],
               [
                12.091230509000127,
                62.58631012000012
               ],
               [
                12.28636071800014,
                62.335421041000046
               ],
               [
                12.31514930519819,
                62.27176074603085
               ],
               [
                12.797079704964375,
                62.207107652296315
               ],
               [
                13.048640577700553,
                62.081172186746954
               ],
               [
                13.18672000522406,
                62.04334503774325
               ],
               [
                13.285421991032052,
                62.04742747689656
               ],
               [
                13.382108595235508,
                62.00440684739803
               ],
               [
                13.32702151902788,
                61.90578237595591
               ],
               [
                13.60648766417438,
                61.65845897110458
               ],
               [
                14.296368036056009,
                61.59985789742396
               ],
               [
                14.48162804479847,
                61.5914863153412
               ]
              ]
             ],
             "type": "Polygon"
            },
            "id": 11,
            "properties": {
             "color": 3,
             "l_id": 23,
             "name": "JÃ¤mtland"
            },
            "type": "Feature"
           },
           {
            "geometry": {
             "coordinates": [
              [
               [
                21.581661846112098,
                65.06767436200876
               ],
               [
                21.618825717000107,
                65.14801666900006
               ],
               [
                21.53760826900009,
                65.23090241100006
               ],
               [
                21.701670769000117,
                65.28587474200005
               ],
               [
                21.489105665000125,
                65.39337799700014
               ],
               [
                21.942230665000068,
                65.411810614
               ],
               [
                22.031586134000094,
                65.46702708500011
               ],
               [
                21.900238477000073,
                65.50128815300009
               ],
               [
                22.17009524800011,
                65.55304596600011
               ],
               [
                22.38453209700009,
                65.62783437700001
               ],
               [
                22.25757897200009,
                65.665025132
               ],
               [
                22.360606316000144,
                65.76121653900013
               ],
               [
                22.325938347000147,
                65.8369815120001
               ],
               [
                22.469899936000047,
                65.84320709800006
               ],
               [
                22.56983483200011,
                65.79604726800007
               ],
               [
                22.837168816000144,
                65.80768463700018
               ],
               [
                23.045909050000148,
                65.76121653900013
               ],
               [
                23.086761915000096,
                65.72772858300009
               ],
               [
                23.374278191000144,
                65.822699286
               ],
               [
                23.957041863000086,
                65.78912995000017
               ],
               [
                24.140310092000078,
                65.80451080900012
               ],
               [
                24.163413534000114,
                65.84078847300005
               ],
               [
                24.0547896730001,
                65.94791371700013
               ],
               [
                24.01964969900007,
                66.048941142
               ],
               [
                23.889321737000046,
                66.16110483900017
               ],
               [
                23.724163859000072,
                66.20663177500013
               ],
               [
                23.66597619600006,
                66.3054629520001
               ],
               [
                23.64230839000004,
                66.43625600200012
               ],
               [
                23.676828247000117,
                66.47400563600009
               ],
               [
                23.881880330000115,
                66.56353505500012
               ],
               [
                23.8924223220001,
                66.75091379800013
               ],
               [
                24.001252889000057,
                66.81243459100013
               ],
               [
                23.933350057000013,
                66.8887606820001
               ],
               [
                23.683856242000047,
                67.04952606300007
               ],
               [
                23.58133020000008,
                67.15313730900012
               ],
               [
                23.62225793400009,
                67.26902170900011
               ],
               [
                23.73542932100014,
                67.28969228100011
               ],
               [
                23.765194946000122,
                67.42007192000013
               ],
               [
                23.431261841000094,
                67.48552012200004
               ],
               [
                23.55352827900012,
                67.58703847300002
               ],
               [
                23.48459191900008,
                67.737158509
               ],
               [
                23.498854614000066,
                67.88216257800009
               ],
               [
                23.661221964000077,
                67.93285715700007
               ],
               [
                23.382996053000085,
                68.05124786400013
               ],
               [
                23.330906210000137,
                68.12778066000014
               ],
               [
                23.151692342000047,
                68.13026112900012
               ],
               [
                23.155206340000092,
                68.217439271
               ],
               [
                23.052163533000083,
                68.29820953400004
               ],
               [
                22.60764286300011,
                68.42492014600008
               ],
               [
                22.303061971000147,
                68.47613149000007
               ],
               [
                22.07217167200011,
                68.47700999000004
               ],
               [
                21.91920943200006,
                68.568218893
               ],
               [
                21.463630005000084,
                68.68686798100005
               ],
               [
                21.072129353000093,
                68.86944081700015
               ],
               [
                20.905731242000087,
                68.89460724000018
               ],
               [
                20.934566691000043,
                68.96695424500014
               ],
               [
                20.623164510000038,
                69.03635569300009
               ],
               [
                20.102266073000095,
                69.02214467400013
               ],
               [
                20.34111454300009,
                68.91005849300008
               ],
               [
                20.35651412000007,
                68.80458689400002
               ],
               [
                20.236624796000086,
                68.65906606099999
               ],
               [
                20.151772095000126,
                68.606821187
               ],
               [
                19.96222294100005,
                68.54119211900014
               ],
               [
                20.245926554000107,
                68.47737172400012
               ],
               [
                20.010282023000087,
                68.36389027899999
               ],
               [
                19.931010376000046,
                68.35019602500007
               ],
               [
                19.48173547300007,
                68.42404164700004
               ],
               [
                19.038144979000066,
                68.50563873300011
               ],
               [
                18.644577270000127,
                68.50124623600003
               ],
               [
                18.436217895000112,
                68.57385162400014
               ],
               [
                18.171841268000065,
                68.53592112300014
               ],
               [
                18.13566776500005,
                68.39572296200014
               ],
               [
                18.188584432000113,
                68.19873240200012
               ],
               [
                18.166673625000072,
                68.15847646200008
               ],
               [
                17.950769491000102,
                67.9910964970001
               ],
               [
                17.895372355000063,
                67.96965077800017
               ],
               [
                17.32145389800013,
                68.10530141200003
               ],
               [
                17.220064738000076,
                68.04008575500002
               ],
               [
                16.8079968670001,
                67.91063629200012
               ],
               [
                16.76190148900008,
                67.87714996400005
               ],
               [
                16.608732544000077,
                67.6472931930001
               ],
               [
                16.482952107000102,
                67.55784128900008
               ],
               [
                16.366990193000078,
                67.52166778600007
               ],
               [
                16.199558553000088,
                67.50828359000012
               ],
               [
                16.12710819500012,
                67.42275909500007
               ],
               [
                16.43789025900014,
                67.20031789200014
               ],
               [
                16.415566040000073,
                67.05270416300012
               ],
               [
                16.03884484800011,
                66.88754628600005
               ],
               [
                15.669461711000054,
                66.59942433700017
               ],
               [
                15.426272420000089,
                66.49121388800008
               ],
               [
                15.47607632193251,
                66.35493714291756
               ],
               [
                15.863455845211092,
                66.27616160827166
               ],
               [
                16.497939079824732,
                66.07560537438856
               ],
               [
                16.881378208337708,
                66.00594554345203
               ],
               [
                17.472143182361975,
                65.75539236106856
               ],
               [
                17.78059980643596,
                65.65707794888816
               ],
               [
                18.163573846056153,
                65.58297394539126
               ],
               [
                18.35860070176099,
                65.4950723335214
               ],
               [
                18.56189578586185,
                65.44404185714599
               ],
               [
                18.70111209494729,
                65.44156138844728
               ],
               [
                18.820432976700488,
                65.37466624615031
               ],
               [
                19.23115726089881,
                65.26190827134958
               ],
               [
                19.25084598175667,
                65.21384918918876
               ],
               [
                19.403239779792017,
                65.16225027113315
               ],
               [
                19.6285490247177,
                65.20847483974215
               ],
               [
                19.70363488104499,
                65.24986766216291
               ],
               [
                20.114875929180755,
                65.31156932216642
               ],
               [
                21.266226840796094,
                65.1644981958351
               ],
               [
                21.581661846112098,
                65.06767436200876
               ]
              ]
             ],
             "type": "Polygon"
            },
            "id": 12,
            "properties": {
             "color": 1,
             "l_id": 25,
             "name": "Norrbotten"
            },
            "type": "Feature"
           },
           {
            "geometry": {
             "coordinates": [
              [
               [
                19.315550363828066,
                63.45773973375326
               ],
               [
                19.20604251465039,
                63.59420644846885
               ],
               [
                18.95618696515629,
                63.7702680528284
               ],
               [
                18.67579064312372,
                63.83258983045637
               ],
               [
                18.520761345859455,
                63.85204600731747
               ],
               [
                18.36232140480905,
                63.98281321905485
               ],
               [
                17.729853550001394,
                63.889485581794204
               ],
               [
                16.90173872186452,
                63.95986888314248
               ],
               [
                16.745004103156845,
                64.01746226736971
               ],
               [
                16.630334100438347,
                63.85204600731747
               ],
               [
                16.591990186597826,
                63.73693675412785
               ],
               [
                16.487397088304988,
                63.70727448253139
               ],
               [
                16.262087843379305,
                63.69208161107751
               ],
               [
                16.16214562322196,
                63.70218435302549
               ],
               [
                15.93776655428303,
                63.663762925718416
               ],
               [
                16.0205005231806,
                63.4619406199637
               ],
               [
                16.181265903298794,
                63.37783722640687
               ],
               [
                16.96907311373326,
                62.993442084384625
               ],
               [
                16.65839440337902,
                62.92249034315485
               ],
               [
                16.44176679889864,
                62.786477973179856
               ],
               [
                16.313919305431625,
                62.72480215069878
               ],
               [
                15.886090121861628,
                62.71048777928765
               ],
               [
                15.609104445413834,
                62.653385322374746
               ],
               [
                15.172490268611,
                62.60315582987768
               ],
               [
                14.99405154834028,
                62.610803941548696
               ],
               [
                14.824759555608978,
                62.58468150494748
               ],
               [
                14.870958285796235,
                62.482284654513236
               ],
               [
                14.851424594569409,
                62.425233873544485
               ],
               [
                15.066036818344514,
                62.297696438439814
               ],
               [
                15.193729282180641,
                62.27413198490309
               ],
               [
                15.358680454239561,
                62.281986803048525
               ],
               [
                15.530297886038568,
                62.34906281249876
               ],
               [
                15.62713951987294,
                62.354979763405325
               ],
               [
                16.209481234971037,
                62.26056692232554
               ],
               [
                16.487552117935905,
                62.25087759152764
               ],
               [
                17.011086052879023,
                62.18039093739189
               ],
               [
                17.20957523011282,
                62.17806549742481
               ],
               [
                17.49856154807017,
                62.14758464941902
               ],
               [
                17.546560092000107,
                62.24909088700012
               ],
               [
                17.39275149800011,
                62.3282738300001
               ],
               [
                17.3470158210001,
                62.40330638200014
               ],
               [
                17.341481967000078,
                62.49811432500009
               ],
               [
                17.437998894000145,
                62.536769924000126
               ],
               [
                17.576345248000024,
                62.440334377000156
               ],
               [
                17.693044467000107,
                62.49774811400009
               ],
               [
                17.861664259000094,
                62.50079987200017
               ],
               [
                17.909353061000076,
                62.549383856000034
               ],
               [
                18.04249108200014,
                62.592108466000056
               ],
               [
                17.97486412900011,
                62.65717194200009
               ],
               [
                18.00269616000014,
                62.70897044499999
               ],
               [
                17.847666863000143,
                62.92129140800016
               ],
               [
                17.921397332000083,
                62.915716864000146
               ],
               [
                17.9264429050001,
                62.82225169499999
               ],
               [
                18.054698113000114,
                62.85285065300009
               ],
               [
                18.14616946700005,
                62.82225169499999
               ],
               [
                18.268321160000085,
                62.88349030200003
               ],
               [
                18.400075717000107,
                62.84153880400011
               ],
               [
                18.512543165000068,
                62.904120184000035
               ],
               [
                18.52442467500012,
                62.99188873900012
               ],
               [
                18.467946811000104,
                63.023667710000055
               ],
               [
                18.611338738000114,
                63.17890045800014
               ],
               [
                18.75562584700012,
                63.157456773000106
               ],
               [
                18.913340691000116,
                63.212062893000066
               ],
               [
                19.032481316000144,
                63.18203359600001
               ],
               [
                19.156586134000122,
                63.31903717700011
               ],
               [
                19.269541863000086,
                63.342474677
               ],
               [
                19.315550363828066,
                63.45773973375326
               ]
              ]
             ],
             "type": "Polygon"
            },
            "id": 13,
            "properties": {
             "color": 1,
             "l_id": 22,
             "name": "VÃ¤sternorrland"
            },
            "type": "Feature"
           },
           {
            "geometry": {
             "coordinates": [
              [
               [
                21.581661846112098,
                65.06767436200876
               ],
               [
                21.266226840796094,
                65.1644981958351
               ],
               [
                20.114875929180755,
                65.31156932216642
               ],
               [
                19.70363488104499,
                65.24986766216291
               ],
               [
                19.6285490247177,
                65.20847483974215
               ],
               [
                19.403239779792017,
                65.16225027113315
               ],
               [
                19.25084598175667,
                65.21384918918876
               ],
               [
                19.23115726089881,
                65.26190827134958
               ],
               [
                18.820432976700488,
                65.37466624615031
               ],
               [
                18.70111209494729,
                65.44156138844728
               ],
               [
                18.56189578586185,
                65.44404185714599
               ],
               [
                18.35860070176099,
                65.4950723335214
               ],
               [
                18.163573846056153,
                65.58297394539126
               ],
               [
                17.78059980643596,
                65.65707794888816
               ],
               [
                17.472143182361975,
                65.75539236106856
               ],
               [
                16.881378208337708,
                66.00594554345203
               ],
               [
                16.497939079824732,
                66.07560537438856
               ],
               [
                15.863455845211092,
                66.27616160827166
               ],
               [
                15.47607632193251,
                66.35493714291756
               ],
               [
                15.481876261000082,
                66.27487050399999
               ],
               [
                15.053375285000072,
                66.15327585900015
               ],
               [
                14.54053837100011,
                66.12544810000018
               ],
               [
                14.644408,
                65.84290720700004
               ],
               [
                14.637069947000072,
                65.78120554700014
               ],
               [
                14.560692179000114,
                65.70105540000016
               ],
               [
                14.510359335000118,
                65.46473907500017
               ],
               [
                14.514286743000099,
                65.31808136000002
               ],
               [
                14.365975383000091,
                65.21576202500002
               ],
               [
                14.338483520000125,
                65.1228994750001
               ],
               [
                14.340758091113003,
                65.1124341906853
               ],
               [
                14.70848758333534,
                65.00042552381886
               ],
               [
                14.88615115725014,
                64.8791667748268
               ],
               [
                15.022731968005985,
                64.84431102183625
               ],
               [
                15.111512079019235,
                64.75671946922812
               ],
               [
                15.269280225601932,
                64.72248383206328
               ],
               [
                15.291501092001823,
                64.64458161115247
               ],
               [
                15.531073032394488,
                64.54086701110363
               ],
               [
                15.639386833735387,
                64.47260244414757
               ],
               [
                15.744600050551895,
                64.50712230125323
               ],
               [
                15.787594841628618,
                64.42671377232283
               ],
               [
                15.98541222529397,
                64.35356578233491
               ],
               [
                16.084579299095424,
                64.26300283551247
               ],
               [
                16.263018019366115,
                64.25556142851714
               ],
               [
                16.745004103156845,
                64.01746226736971
               ],
               [
                16.90173872186452,
                63.95986888314248
               ],
               [
                17.729853550001394,
                63.889485581794204
               ],
               [
                18.36232140480905,
                63.98281321905485
               ],
               [
                18.520761345859455,
                63.85204600731747
               ],
               [
                18.67579064312372,
                63.83258983045637
               ],
               [
                18.95618696515629,
                63.7702680528284
               ],
               [
                19.20604251465039,
                63.59420644846885
               ],
               [
                19.315550363828066,
                63.45773973375326
               ],
               [
                19.45460045700014,
                63.508937893000066
               ],
               [
                19.578623894000145,
                63.52118561400012
               ],
               [
                19.6873478520001,
                63.43134186400012
               ],
               [
                19.77247155000009,
                63.46458567900011
               ],
               [
                19.753184441000144,
                63.52431875200001
               ],
               [
                19.879730665000068,
                63.599066473
               ],
               [
                20.0735783210001,
                63.666245835000055
               ],
               [
                20.30795332100007,
                63.65436432500012
               ],
               [
                20.31666100400014,
                63.74005768400018
               ],
               [
                20.419200066000116,
                63.759344794000114
               ],
               [
                20.50342858200014,
                63.82200755400011
               ],
               [
                20.687510613000114,
                63.798732815
               ],
               [
                20.896983269000145,
                63.98371002800009
               ],
               [
                20.966563347000147,
                64.14940013200014
               ],
               [
                21.11703535200013,
                64.22113678600014
               ],
               [
                21.243907097000147,
                64.30707428600006
               ],
               [
                21.457286004000082,
                64.37164948100012
               ],
               [
                21.606455925000148,
                64.45221588700015
               ],
               [
                21.489756707000083,
                64.48700592700011
               ],
               [
                21.46314537900014,
                64.54840729400011
               ],
               [
                21.374034050000148,
                64.60797760600012
               ],
               [
                21.24512780000009,
                64.62201569200006
               ],
               [
                21.312266472000147,
                64.69928620000009
               ],
               [
                21.229177280000073,
                64.74770742400007
               ],
               [
                21.18132571700005,
                64.8358421900001
               ],
               [
                21.25611412900014,
                64.956732489
               ],
               [
                21.377777540000096,
                64.96002838700004
               ],
               [
                21.46705162900011,
                65.05548737200014
               ],
               [
                21.581661846112098,
                65.06767436200876
               ]
              ]
             ],
             "type": "Polygon"
            },
            "id": 14,
            "properties": {
             "color": 2,
             "l_id": 24,
             "name": "VÃ¤sterbotten"
            },
            "type": "Feature"
           },
           {
            "geometry": {
             "coordinates": [
              [
               [
                [
                 18.784353061000076,
                 57.839585679
                ],
                [
                 18.742442254000082,
                 57.91791413000006
                ],
                [
                 18.65796959700012,
                 57.90184153899999
                ],
                [
                 18.594899936000104,
                 57.83136627800009
                ],
                [
                 18.46306399800011,
                 57.803168036000116
                ],
                [
                 18.325043165000068,
                 57.67259349200013
                ],
                [
                 18.161468946000127,
                 57.577948309000035
                ],
                [
                 18.111989780000073,
                 57.51105377800012
                ],
                [
                 18.17920983200011,
                 57.37954336100013
                ],
                [
                 18.09937584700009,
                 57.25897858300006
                ],
                [
                 18.159841342000107,
                 57.22980377800009
                ],
                [
                 18.22803795700011,
                 57.13369375200013
                ],
                [
                 18.203949415000096,
                 56.915187893
                ],
                [
                 18.358409050000148,
                 56.989691473000065
                ],
                [
                 18.34473717500009,
                 57.08274974200013
                ],
                [
                 18.43116295700011,
                 57.15428294499999
                ],
                [
                 18.591481967000107,
                 57.218695380000085
                ],
                [
                 18.714121941000116,
                 57.242905992000075
                ],
                [
                 18.666758660000085,
                 57.29677969
                ],
                [
                 18.770192905000044,
                 57.364488023000135
                ],
                [
                 18.930023634000065,
                 57.40452708500008
                ],
                [
                 18.908864780000044,
                 57.43915436400006
                ],
                [
                 18.789805535000113,
                 57.448960679
                ],
                [
                 18.761403842000078,
                 57.50763580900009
                ],
                [
                 18.810313347000147,
                 57.60732656500012
                ],
                [
                 18.76465905000012,
                 57.62689850500003
                ],
                [
                 18.810313347000147,
                 57.709662177000055
                ],
                [
                 18.941254102000073,
                 57.729559637000065
                ],
                [
                 18.95777428500014,
                 57.784613348
                ],
                [
                 19.085215691000144,
                 57.825751044000086
                ],
                [
                 18.99577884200005,
                 57.91205475500011
                ],
                [
                 18.897959832000083,
                 57.89765045800014
                ],
                [
                 18.784353061000076,
                 57.839585679
                ]
               ]
              ],
              [
               [
                [
                 19.22242272200009,
                 57.99022044500013
                ],
                [
                 19.086599155000016,
                 57.96845123900006
                ],
                [
                 19.03679446700005,
                 57.905218817
                ],
                [
                 19.13111412900011,
                 57.85219961100016
                ],
                [
                 19.22242272200009,
                 57.99022044500013
                ]
               ]
              ]
             ],
             "type": "MultiPolygon"
            },
            "id": 15,
            "properties": {
             "color": 3,
             "l_id": 9,
             "name": "Gotland"
            },
            "type": "Feature"
           },
           {
            "geometry": {
             "coordinates": [
              [
               [
                17.586184270378993,
                58.96484194338326
               ],
               [
                17.63160241000014,
                59.018133856000034
               ],
               [
                17.760752800000148,
                59.037014065000065
               ],
               [
                17.749278191000116,
                58.92381419500008
               ],
               [
                17.93067467500012,
                58.91006094000015
               ],
               [
                18.043223504000082,
                59.05971914300004
               ],
               [
                18.392588738000114,
                59.17576732000008
               ],
               [
                18.279307488000143,
                59.26170482000008
               ],
               [
                18.364431186000047,
                59.306586005
               ],
               [
                18.619802280000044,
                59.308294989
               ],
               [
                18.61231530000009,
                59.37494538000006
               ],
               [
                18.48462975400014,
                59.43423086100013
               ],
               [
                18.48194420700014,
                59.347723700000145
               ],
               [
                18.318125847000147,
                59.37592194200015
               ],
               [
                18.17286217500009,
                59.32656484600007
               ],
               [
                18.04249108200014,
                59.39736562700007
               ],
               [
                18.14551842500012,
                59.44383372600011
               ],
               [
                18.27686608200011,
                59.422552802000055
               ],
               [
                18.68653405000009,
                59.60578034100014
               ],
               [
                18.781260613000086,
                59.70156484600007
               ],
               [
                18.90137780000009,
                59.73468659100011
               ],
               [
                19.035980665000125,
                59.72850169500005
               ],
               [
                19.085215691000144,
                59.77220286700013
               ],
               [
                18.861582879000082,
                59.803045966000084
               ],
               [
                18.92408287900014,
                59.852280992000104
               ],
               [
                19.06788170700014,
                59.833685614
               ],
               [
                19.0716251960001,
                59.89630768400012
               ],
               [
                18.903086785000085,
                59.94721100500011
               ],
               [
                18.824473504000082,
                60.06830475500003
               ],
               [
                18.651377800000148,
                60.14826080900009
               ],
               [
                18.554525820884237,
                60.12142202061132
               ],
               [
                18.461023389717667,
                60.04289866773938
               ],
               [
                18.38996829570027,
                59.882029933934305
               ],
               [
                18.15349694163058,
                59.81283519099124
               ],
               [
                18.089883253709218,
                59.75263214775548
               ],
               [
                18.009009636785265,
                59.7516244574028
               ],
               [
                17.78137495279188,
                59.69191234058211
               ],
               [
                17.67290612092077,
                59.70943065020431
               ],
               [
                17.581724915372575,
                59.66619191712333
               ],
               [
                17.593789504082338,
                59.57961945287546
               ],
               [
                17.521752557234777,
                59.45358063453871
               ],
               [
                17.444496290571408,
                59.38531606758245
               ],
               [
                17.341861932782024,
                59.324889243343975
               ],
               [
                17.285281203165,
                59.227237860838656
               ],
               [
                17.385998568778973,
                58.99825958880898
               ],
               [
                17.586184270378993,
                58.96484194338326
               ]
              ]
             ],
             "type": "Polygon"
            },
            "id": 16,
            "properties": {
             "color": 1,
             "l_id": 1,
             "name": "Stockholm"
            },
            "type": "Feature"
           },
           {
            "geometry": {
             "coordinates": [
              [
               [
                18.554525820884237,
                60.12142202061132
               ],
               [
                18.419932488000114,
                60.19350820500013
               ],
               [
                18.40056399800008,
                60.259588934000035
               ],
               [
                18.42798912900014,
                60.348781643
               ],
               [
                18.277517123000052,
                60.34935130400008
               ],
               [
                18.098399285000113,
                60.46491120000003
               ],
               [
                17.9674585300001,
                60.518947658000016
               ],
               [
                17.9186304050001,
                60.60016510600012
               ],
               [
                17.81609134200005,
                60.58527252800015
               ],
               [
                17.63819420700011,
                60.515448309000035
               ],
               [
                17.57496178500014,
                60.647894598000065
               ],
               [
                17.376669208687048,
                60.623892015107444
               ],
               [
                17.315873650748358,
                60.48602407555073
               ],
               [
                17.2174817242022,
                60.384686591413114
               ],
               [
                17.2261633637483,
                60.30957489756348
               ],
               [
                17.369410435143465,
                60.250896307718406
               ],
               [
                17.38568851131572,
                60.20131277126744
               ],
               [
                17.28838178858871,
                60.05891836239259
               ],
               [
                17.210815463562795,
                60.04212352228275
               ],
               [
                17.180584751185307,
                59.88471710910737
               ],
               [
                17.05036014180712,
                59.83906098127922
               ],
               [
                16.858898960418713,
                59.884355373901386
               ],
               [
                16.79683556520922,
                59.7848782417375
               ],
               [
                16.90029178194021,
                59.668968003770274
               ],
               [
                16.966437616302898,
                59.5321288114955
               ],
               [
                17.1481319516283,
                59.52716787409817
               ],
               [
                17.24481855583167,
                59.50032196708513
               ],
               [
                17.444496290571408,
                59.38531606758245
               ],
               [
                17.521752557234777,
                59.45358063453871
               ],
               [
                17.593789504082338,
                59.57961945287546
               ],
               [
                17.581724915372575,
                59.66619191712333
               ],
               [
                17.67290612092077,
                59.70943065020431
               ],
               [
                17.78137495279188,
                59.69191234058211
               ],
               [
                18.009009636785265,
                59.7516244574028
               ],
               [
                18.089883253709218,
                59.75263214775548
               ],
               [
                18.15349694163058,
                59.81283519099124
               ],
               [
                18.38996829570027,
                59.882029933934305
               ],
               [
                18.461023389717667,
                60.04289866773938
               ],
               [
                18.554525820884237,
                60.12142202061132
               ]
              ]
             ],
             "type": "Polygon"
            },
            "id": 17,
            "properties": {
             "color": 3,
             "l_id": 3,
             "name": "Uppsala"
            },
            "type": "Feature"
           },
           {
            "geometry": {
             "coordinates": [
              [
               [
                16.06624771628549,
                56.335945807778344
               ],
               [
                15.979986199903209,
                56.32622630470017
               ],
               [
                15.80015221475287,
                56.374879666063705
               ],
               [
                15.597322217746125,
                56.50166779233483
               ],
               [
                15.363021274012596,
                56.48213410110789
               ],
               [
                15.342557406798846,
                56.46934418398685
               ],
               [
                15.246956008213203,
                56.467457994490886
               ],
               [
                15.215743442106202,
                56.44306671775483
               ],
               [
                15.104018996079759,
                56.462807115456016
               ],
               [
                14.995705193839683,
                56.44738170000552
               ],
               [
                14.915193312121687,
                56.38193349943144
               ],
               [
                14.725127393814176,
                56.40195811617407
               ],
               [
                14.54074588421517,
                56.477483222073104
               ],
               [
                14.413518508372505,
                56.34638011355146
               ],
               [
                14.449847038809821,
                56.26473135027162
               ],
               [
                14.542296176926982,
                56.239048163242146
               ],
               [
                14.586996291245867,
                56.154660549744634
               ],
               [
                14.553402519088309,
                56.05403161722059
               ],
               [
                14.61150149800008,
                56.01113515800013
               ],
               [
                14.715505405000101,
                56.00234609600007
               ],
               [
                14.76775149800011,
                56.030707098
               ],
               [
                14.685801629000082,
                56.147406317
               ],
               [
                14.724945509000122,
                56.16762929900001
               ],
               [
                14.953379754000139,
                56.172919012000094
               ],
               [
                15.04900149800011,
                56.15363190300015
               ],
               [
                15.492930535000085,
                56.17633698100009
               ],
               [
                15.572764519000117,
                56.20628489800008
               ],
               [
                15.731211785000141,
                56.15721263200011
               ],
               [
                15.851735873000052,
                56.086371161000116
               ],
               [
                15.932139519000145,
                56.17470937700007
               ],
               [
                16.038259311000076,
                56.255072333000086
               ],
               [
                16.06624771628549,
                56.335945807778344
               ]
              ]
             ],
             "type": "Polygon"
            },
            "id": 18,
            "properties": {
             "color": 2,
             "l_id": 10,
             "name": "Blekinge"
            },
            "type": "Feature"
           },
           {
            "geometry": {
             "coordinates": [
              [
               [
                [
                 11.738780144000089,
                 58.05853913000011
                ],
                [
                 11.524750196000099,
                 58.05072663000011
                ],
                [
                 11.527842644000089,
                 57.95429108300014
                ],
                [
                 11.59473717500012,
                 57.935614325000145
                ],
                [
                 11.731944207000055,
                 57.9977074240001
                ],
                [
                 11.738780144000089,
                 58.05853913000011
                ]
               ]
              ],
              [
               [
                [
                 11.789398634000065,
                 58.246405341000056
                ],
                [
                 11.588226759000122,
                 58.23289622600008
                ],
                [
                 11.406586134000065,
                 58.13108958500011
                ],
                [
                 11.516286655000073,
                 58.086004950000145
                ],
                [
                 11.585297071000099,
                 58.123114325000174
                ],
                [
                 11.708181186000076,
                 58.098211981000034
                ],
                [
                 11.804698113000114,
                 58.125718492000075
                ],
                [
                 11.789398634000065,
                 58.246405341000056
                ]
               ]
              ],
              [
               [
                [
                 14.811530388916367,
                 58.64551626246556
                ],
                [
                 14.695310092586709,
                 58.73408966700457
                ],
                [
                 14.52059207536405,
                 58.72799184804536
                ],
                [
                 14.410107862787697,
                 58.84493561478679
                ],
                [
                 14.312646112228265,
                 59.01634634101087
                ],
                [
                 14.226708205119593,
                 59.044509995839675
                ],
                [
                 13.614549187894681,
                 59.05463857710866
                ],
                [
                 13.457039421931796,
                 58.967770494013095
                ],
                [
                 13.379783156167719,
                 58.842868557238106
                ],
                [
                 13.44572228405616,
                 58.75964366282484
                ],
                [
                 13.288212518093303,
                 58.74220286756831
                ],
                [
                 12.928079460698541,
                 58.815169990402765
                ],
                [
                 12.858988071442411,
                 58.988079332495104
                ],
                [
                 12.785607536558558,
                 59.05164134447254
                ],
                [
                 12.756307000167965,
                 59.13675242838188
                ],
                [
                 12.66520145008684,
                 59.174476222799356
                ],
                [
                 12.596006707143857,
                 59.12499603913595
                ],
                [
                 12.256337517862221,
                 59.21473216455773
                ],
                [
                 12.185850863726387,
                 59.25493642857337
                ],
                [
                 12.070405714652054,
                 59.20088288024077
                ],
                [
                 11.949224480925068,
                 59.24646149370305
                ],
                [
                 11.811088077876377,
                 59.248716717151396
                ],
                [
                 11.66438317900014,
                 58.920073955000035
                ],
                [
                 11.547077678000079,
                 58.88472727500012
                ],
                [
                 11.45199304200014,
                 58.896044414000116
                ],
                [
                 11.453233276000077,
                 58.96048492500002
                ],
                [
                 11.354665561000076,
                 59.091620184000035
                ],
                [
                 11.220062696000127,
                 59.09015534100017
                ],
                [
                 11.129405144000117,
                 59.03119538000011
                ],
                [
                 11.108164910000113,
                 58.95355866100009
                ],
                [
                 11.190114780000073,
                 58.908270575000145
                ],
                [
                 11.231700066000116,
                 58.799627997000115
                ],
                [
                 11.178558790000125,
                 58.73647695500004
                ],
                [
                 11.24984785200013,
                 58.64891185099999
                ],
                [
                 11.25766035200013,
                 58.48216380400008
                ],
                [
                 11.22486412900011,
                 58.37067291900017
                ],
                [
                 11.38249759200005,
                 58.353949286000145
                ],
                [
                 11.496592644000117,
                 58.25836823100015
                ],
                [
                 11.567067905000016,
                 58.249212958
                ],
                [
                 11.72673587300008,
                 58.32709381700006
                ],
                [
                 11.806976759000094,
                 58.32660553600009
                ],
                [
                 11.875743035000085,
                 58.199164130000085
                ],
                [
                 11.782969597000147,
                 58.069159247000144
                ],
                [
                 11.802907748000052,
                 58.036566473
                ],
                [
                 11.693614129000139,
                 57.88117096600014
                ],
                [
                 11.751800977000073,
                 57.784816799000154
                ],
                [
                 11.706309441000087,
                 57.72199127800009
                ],
                [
                 11.844574415000096,
                 57.683010158000016
                ],
                [
                 11.912840095419995,
                 57.582923907815044
                ],
                [
                 12.069320509034242,
                 57.57255849907553
                ],
                [
                 12.301916131324418,
                 57.61643179019494
                ],
                [
                 12.33684939868084,
                 57.49083222142981
                ],
                [
                 12.41550092932448,
                 57.43592601237562
                ],
                [
                 12.393176711036375,
                 57.38350027112058
                ],
                [
                 12.434466179770396,
                 57.30585643172891
                ],
                [
                 12.514823031857446,
                 57.29805329042709
                ],
                [
                 12.594611444062878,
                 57.35055654604771
                ],
                [
                 12.748193801402806,
                 57.30254913983096
                ],
                [
                 12.944357536870882,
                 57.27751190884756
                ],
                [
                 12.95319420694716,
                 57.199583849515065
                ],
                [
                 13.116595086294183,
                 57.156976630267266
                ],
                [
                 13.315084262628602,
                 57.31701854087301
                ],
                [
                 13.413114454868264,
                 57.35505239545169
                ],
                [
                 13.542253858628726,
                 57.43577098184535
                ],
                [
                 13.682658726119314,
                 57.565117092979406
                ],
                [
                 13.724413282846683,
                 57.72019806618782
                ],
                [
                 13.76663292756757,
                 57.78076284373027
                ],
                [
                 13.750613233813738,
                 57.85308401141795
                ],
                [
                 14.044962192051571,
                 57.86427195898365
                ],
                [
                 14.211980421659149,
                 57.91594839140505
                ],
                [
                 14.237095167907682,
                 58.00152456330794
                ],
                [
                 14.428556349296116,
                 58.224379177057344
                ],
                [
                 14.811530388916367,
                 58.64551626246556
                ]
               ]
              ]
             ],
             "type": "MultiPolygon"
            },
            "id": 19,
            "properties": {
             "color": 1,
             "l_id": 14,
             "name": "VÃ¤stra GÃ¶taland"
            },
            "type": "Feature"
           },
           {
            "geometry": {
             "coordinates": [
              [
               [
                14.54074588421517,
                56.47748322207306
               ],
               [
                14.277764519916701,
                56.52391449625702
               ],
               [
                14.094674919711764,
                56.54120026278193
               ],
               [
                13.993337437372787,
                56.479240221259204
               ],
               [
                13.576670362946913,
                56.42379140894633
               ],
               [
                13.501429477888081,
                56.42384308489048
               ],
               [
                13.391100294942703,
                56.419140529911544
               ],
               [
                13.230644972287678,
                56.34281444013433
               ],
               [
                13.016497837405296,
                56.37071971344395
               ],
               [
                12.975880161340342,
                56.44373851222255
               ],
               [
                12.910875189871291,
                56.47436335785363
               ],
               [
                12.833262566000087,
                56.442572333000044
               ],
               [
                12.713715040000068,
                56.467352606000105
               ],
               [
                12.621592644000089,
                56.419338283000116
               ],
               [
                12.73178144600007,
                56.3596865910001
               ],
               [
                12.83350670700014,
                56.265692450000074
               ],
               [
                12.704844597000118,
                56.22247955900008
               ],
               [
                12.646250847000061,
                56.25726959800002
               ],
               [
                12.504567905000073,
                56.27533600500004
               ],
               [
                12.609548373000052,
                56.116522528000075
               ],
               [
                12.752289259000122,
                55.996568101000065
               ],
               [
                12.821299675000148,
                55.88670482000006
               ],
               [
                12.92603600400011,
                55.834051825000074
               ],
               [
                12.922618035000113,
                55.74945709800005
               ],
               [
                13.011485222000147,
                55.72842031500011
               ],
               [
                13.061371290000096,
                55.67446523600009
               ],
               [
                13.027354363000086,
                55.626654364000046
               ],
               [
                12.92937259200005,
                55.5789248720001
               ],
               [
                12.928477410000141,
                55.52000560100004
               ],
               [
                13.000010613000086,
                55.400091864000075
               ],
               [
                13.280528191000087,
                55.34544505400004
               ],
               [
                13.381358269000145,
                55.3460147160001
               ],
               [
                13.629567905000101,
                55.41828034100007
               ],
               [
                13.882334832000112,
                55.43305084800005
               ],
               [
                14.094086134000094,
                55.38739655200004
               ],
               [
                14.18116295700014,
                55.39081452000005
               ],
               [
                14.363047722000147,
                55.523627020000106
               ],
               [
                14.358164910000085,
                55.563666083000044
               ],
               [
                14.195811394000145,
                55.72565338700005
               ],
               [
                14.208506707000112,
                55.82127513200001
               ],
               [
                14.346446160000113,
                55.95331452000005
               ],
               [
                14.553402519088309,
                56.054031617220545
               ],
               [
                14.586996291245867,
                56.15466054974459
               ],
               [
                14.542296176926982,
                56.239048163242074
               ],
               [
                14.449847038809821,
                56.264731350271546
               ],
               [
                14.413518508372505,
                56.34638011355142
               ],
               [
                14.54074588421517,
                56.47748322207306
               ]
              ]
             ],
             "type": "Polygon"
            },
            "id": 20,
            "properties": {
             "color": 1,
             "l_id": 12,
             "name": "SkÃ¥ne"
            },
            "type": "Feature"
           }
          ],
          "type": "FeatureCollection"
         },
         "hovertemplate": "id=%{location}<br>Fall per 100,000 inv=%{z}<extra></extra>",
         "locations": [
          18,
          3,
          15,
          0,
          9,
          11,
          1,
          2,
          4,
          12,
          20,
          16,
          7,
          17,
          10,
          14,
          13,
          8,
          19,
          5,
          6
         ],
         "marker": {
          "opacity": 0.7
         },
         "name": "",
         "subplot": "mapbox",
         "type": "choroplethmapbox",
         "z": [
          19371.449951171875,
          26098.7802734375,
          19776.671875,
          26020.50341796875,
          32349.047119140625,
          26197.37353515625,
          24583.1611328125,
          25537.87841796875,
          25460.1416015625,
          20327.326904296875,
          24998.67041015625,
          25391.7490234375,
          22704.283447265625,
          24194.380859375,
          24493.155029296875,
          22047.43212890625,
          22976.45654296875,
          28326.63623046875,
          25636.46533203125,
          32379.77685546875,
          21158.70703125
         ]
        }
       ],
       "layout": {
        "coloraxis": {
         "cmax": 32500,
         "cmin": 17300,
         "colorbar": {
          "title": {
           "text": "Fall per 100,000 inv"
          }
         },
         "colorscale": [
          [
           0,
           "rgb(255,255,255)"
          ],
          [
           0.3333333333333333,
           "rgb(255,210,0)"
          ],
          [
           0.6666666666666666,
           "rgb(230,0,0)"
          ],
          [
           1,
           "rgb(0,0,0)"
          ]
         ]
        },
        "legend": {
         "tracegroupgap": 0
        },
        "mapbox": {
         "center": {
          "lat": 58.6952,
          "lon": 11.9149
         },
         "domain": {
          "x": [
           0,
           1
          ],
          "y": [
           0,
           1
          ]
         },
         "style": "carto-positron",
         "zoom": 3
        },
        "margin": {
         "b": 0,
         "l": 0,
         "r": 0,
         "t": 0
        },
        "template": {
         "data": {
          "bar": [
           {
            "error_x": {
             "color": "#2a3f5f"
            },
            "error_y": {
             "color": "#2a3f5f"
            },
            "marker": {
             "line": {
              "color": "#E5ECF6",
              "width": 0.5
             },
             "pattern": {
              "fillmode": "overlay",
              "size": 10,
              "solidity": 0.2
             }
            },
            "type": "bar"
           }
          ],
          "barpolar": [
           {
            "marker": {
             "line": {
              "color": "#E5ECF6",
              "width": 0.5
             },
             "pattern": {
              "fillmode": "overlay",
              "size": 10,
              "solidity": 0.2
             }
            },
            "type": "barpolar"
           }
          ],
          "carpet": [
           {
            "aaxis": {
             "endlinecolor": "#2a3f5f",
             "gridcolor": "white",
             "linecolor": "white",
             "minorgridcolor": "white",
             "startlinecolor": "#2a3f5f"
            },
            "baxis": {
             "endlinecolor": "#2a3f5f",
             "gridcolor": "white",
             "linecolor": "white",
             "minorgridcolor": "white",
             "startlinecolor": "#2a3f5f"
            },
            "type": "carpet"
           }
          ],
          "choropleth": [
           {
            "colorbar": {
             "outlinewidth": 0,
             "ticks": ""
            },
            "type": "choropleth"
           }
          ],
          "contour": [
           {
            "colorbar": {
             "outlinewidth": 0,
             "ticks": ""
            },
            "colorscale": [
             [
              0,
              "#0d0887"
             ],
             [
              0.1111111111111111,
              "#46039f"
             ],
             [
              0.2222222222222222,
              "#7201a8"
             ],
             [
              0.3333333333333333,
              "#9c179e"
             ],
             [
              0.4444444444444444,
              "#bd3786"
             ],
             [
              0.5555555555555556,
              "#d8576b"
             ],
             [
              0.6666666666666666,
              "#ed7953"
             ],
             [
              0.7777777777777778,
              "#fb9f3a"
             ],
             [
              0.8888888888888888,
              "#fdca26"
             ],
             [
              1,
              "#f0f921"
             ]
            ],
            "type": "contour"
           }
          ],
          "contourcarpet": [
           {
            "colorbar": {
             "outlinewidth": 0,
             "ticks": ""
            },
            "type": "contourcarpet"
           }
          ],
          "heatmap": [
           {
            "colorbar": {
             "outlinewidth": 0,
             "ticks": ""
            },
            "colorscale": [
             [
              0,
              "#0d0887"
             ],
             [
              0.1111111111111111,
              "#46039f"
             ],
             [
              0.2222222222222222,
              "#7201a8"
             ],
             [
              0.3333333333333333,
              "#9c179e"
             ],
             [
              0.4444444444444444,
              "#bd3786"
             ],
             [
              0.5555555555555556,
              "#d8576b"
             ],
             [
              0.6666666666666666,
              "#ed7953"
             ],
             [
              0.7777777777777778,
              "#fb9f3a"
             ],
             [
              0.8888888888888888,
              "#fdca26"
             ],
             [
              1,
              "#f0f921"
             ]
            ],
            "type": "heatmap"
           }
          ],
          "heatmapgl": [
           {
            "colorbar": {
             "outlinewidth": 0,
             "ticks": ""
            },
            "colorscale": [
             [
              0,
              "#0d0887"
             ],
             [
              0.1111111111111111,
              "#46039f"
             ],
             [
              0.2222222222222222,
              "#7201a8"
             ],
             [
              0.3333333333333333,
              "#9c179e"
             ],
             [
              0.4444444444444444,
              "#bd3786"
             ],
             [
              0.5555555555555556,
              "#d8576b"
             ],
             [
              0.6666666666666666,
              "#ed7953"
             ],
             [
              0.7777777777777778,
              "#fb9f3a"
             ],
             [
              0.8888888888888888,
              "#fdca26"
             ],
             [
              1,
              "#f0f921"
             ]
            ],
            "type": "heatmapgl"
           }
          ],
          "histogram": [
           {
            "marker": {
             "pattern": {
              "fillmode": "overlay",
              "size": 10,
              "solidity": 0.2
             }
            },
            "type": "histogram"
           }
          ],
          "histogram2d": [
           {
            "colorbar": {
             "outlinewidth": 0,
             "ticks": ""
            },
            "colorscale": [
             [
              0,
              "#0d0887"
             ],
             [
              0.1111111111111111,
              "#46039f"
             ],
             [
              0.2222222222222222,
              "#7201a8"
             ],
             [
              0.3333333333333333,
              "#9c179e"
             ],
             [
              0.4444444444444444,
              "#bd3786"
             ],
             [
              0.5555555555555556,
              "#d8576b"
             ],
             [
              0.6666666666666666,
              "#ed7953"
             ],
             [
              0.7777777777777778,
              "#fb9f3a"
             ],
             [
              0.8888888888888888,
              "#fdca26"
             ],
             [
              1,
              "#f0f921"
             ]
            ],
            "type": "histogram2d"
           }
          ],
          "histogram2dcontour": [
           {
            "colorbar": {
             "outlinewidth": 0,
             "ticks": ""
            },
            "colorscale": [
             [
              0,
              "#0d0887"
             ],
             [
              0.1111111111111111,
              "#46039f"
             ],
             [
              0.2222222222222222,
              "#7201a8"
             ],
             [
              0.3333333333333333,
              "#9c179e"
             ],
             [
              0.4444444444444444,
              "#bd3786"
             ],
             [
              0.5555555555555556,
              "#d8576b"
             ],
             [
              0.6666666666666666,
              "#ed7953"
             ],
             [
              0.7777777777777778,
              "#fb9f3a"
             ],
             [
              0.8888888888888888,
              "#fdca26"
             ],
             [
              1,
              "#f0f921"
             ]
            ],
            "type": "histogram2dcontour"
           }
          ],
          "mesh3d": [
           {
            "colorbar": {
             "outlinewidth": 0,
             "ticks": ""
            },
            "type": "mesh3d"
           }
          ],
          "parcoords": [
           {
            "line": {
             "colorbar": {
              "outlinewidth": 0,
              "ticks": ""
             }
            },
            "type": "parcoords"
           }
          ],
          "pie": [
           {
            "automargin": true,
            "type": "pie"
           }
          ],
          "scatter": [
           {
            "fillpattern": {
             "fillmode": "overlay",
             "size": 10,
             "solidity": 0.2
            },
            "type": "scatter"
           }
          ],
          "scatter3d": [
           {
            "line": {
             "colorbar": {
              "outlinewidth": 0,
              "ticks": ""
             }
            },
            "marker": {
             "colorbar": {
              "outlinewidth": 0,
              "ticks": ""
             }
            },
            "type": "scatter3d"
           }
          ],
          "scattercarpet": [
           {
            "marker": {
             "colorbar": {
              "outlinewidth": 0,
              "ticks": ""
             }
            },
            "type": "scattercarpet"
           }
          ],
          "scattergeo": [
           {
            "marker": {
             "colorbar": {
              "outlinewidth": 0,
              "ticks": ""
             }
            },
            "type": "scattergeo"
           }
          ],
          "scattergl": [
           {
            "marker": {
             "colorbar": {
              "outlinewidth": 0,
              "ticks": ""
             }
            },
            "type": "scattergl"
           }
          ],
          "scattermapbox": [
           {
            "marker": {
             "colorbar": {
              "outlinewidth": 0,
              "ticks": ""
             }
            },
            "type": "scattermapbox"
           }
          ],
          "scatterpolar": [
           {
            "marker": {
             "colorbar": {
              "outlinewidth": 0,
              "ticks": ""
             }
            },
            "type": "scatterpolar"
           }
          ],
          "scatterpolargl": [
           {
            "marker": {
             "colorbar": {
              "outlinewidth": 0,
              "ticks": ""
             }
            },
            "type": "scatterpolargl"
           }
          ],
          "scatterternary": [
           {
            "marker": {
             "colorbar": {
              "outlinewidth": 0,
              "ticks": ""
             }
            },
            "type": "scatterternary"
           }
          ],
          "surface": [
           {
            "colorbar": {
             "outlinewidth": 0,
             "ticks": ""
            },
            "colorscale": [
             [
              0,
              "#0d0887"
             ],
             [
              0.1111111111111111,
              "#46039f"
             ],
             [
              0.2222222222222222,
              "#7201a8"
             ],
             [
              0.3333333333333333,
              "#9c179e"
             ],
             [
              0.4444444444444444,
              "#bd3786"
             ],
             [
              0.5555555555555556,
              "#d8576b"
             ],
             [
              0.6666666666666666,
              "#ed7953"
             ],
             [
              0.7777777777777778,
              "#fb9f3a"
             ],
             [
              0.8888888888888888,
              "#fdca26"
             ],
             [
              1,
              "#f0f921"
             ]
            ],
            "type": "surface"
           }
          ],
          "table": [
           {
            "cells": {
             "fill": {
              "color": "#EBF0F8"
             },
             "line": {
              "color": "white"
             }
            },
            "header": {
             "fill": {
              "color": "#C8D4E3"
             },
             "line": {
              "color": "white"
             }
            },
            "type": "table"
           }
          ]
         },
         "layout": {
          "annotationdefaults": {
           "arrowcolor": "#2a3f5f",
           "arrowhead": 0,
           "arrowwidth": 1
          },
          "autotypenumbers": "strict",
          "coloraxis": {
           "colorbar": {
            "outlinewidth": 0,
            "ticks": ""
           }
          },
          "colorscale": {
           "diverging": [
            [
             0,
             "#8e0152"
            ],
            [
             0.1,
             "#c51b7d"
            ],
            [
             0.2,
             "#de77ae"
            ],
            [
             0.3,
             "#f1b6da"
            ],
            [
             0.4,
             "#fde0ef"
            ],
            [
             0.5,
             "#f7f7f7"
            ],
            [
             0.6,
             "#e6f5d0"
            ],
            [
             0.7,
             "#b8e186"
            ],
            [
             0.8,
             "#7fbc41"
            ],
            [
             0.9,
             "#4d9221"
            ],
            [
             1,
             "#276419"
            ]
           ],
           "sequential": [
            [
             0,
             "#0d0887"
            ],
            [
             0.1111111111111111,
             "#46039f"
            ],
            [
             0.2222222222222222,
             "#7201a8"
            ],
            [
             0.3333333333333333,
             "#9c179e"
            ],
            [
             0.4444444444444444,
             "#bd3786"
            ],
            [
             0.5555555555555556,
             "#d8576b"
            ],
            [
             0.6666666666666666,
             "#ed7953"
            ],
            [
             0.7777777777777778,
             "#fb9f3a"
            ],
            [
             0.8888888888888888,
             "#fdca26"
            ],
            [
             1,
             "#f0f921"
            ]
           ],
           "sequentialminus": [
            [
             0,
             "#0d0887"
            ],
            [
             0.1111111111111111,
             "#46039f"
            ],
            [
             0.2222222222222222,
             "#7201a8"
            ],
            [
             0.3333333333333333,
             "#9c179e"
            ],
            [
             0.4444444444444444,
             "#bd3786"
            ],
            [
             0.5555555555555556,
             "#d8576b"
            ],
            [
             0.6666666666666666,
             "#ed7953"
            ],
            [
             0.7777777777777778,
             "#fb9f3a"
            ],
            [
             0.8888888888888888,
             "#fdca26"
            ],
            [
             1,
             "#f0f921"
            ]
           ]
          },
          "colorway": [
           "#636efa",
           "#EF553B",
           "#00cc96",
           "#ab63fa",
           "#FFA15A",
           "#19d3f3",
           "#FF6692",
           "#B6E880",
           "#FF97FF",
           "#FECB52"
          ],
          "font": {
           "color": "#2a3f5f"
          },
          "geo": {
           "bgcolor": "white",
           "lakecolor": "white",
           "landcolor": "#E5ECF6",
           "showlakes": true,
           "showland": true,
           "subunitcolor": "white"
          },
          "hoverlabel": {
           "align": "left"
          },
          "hovermode": "closest",
          "mapbox": {
           "style": "light"
          },
          "paper_bgcolor": "white",
          "plot_bgcolor": "#E5ECF6",
          "polar": {
           "angularaxis": {
            "gridcolor": "white",
            "linecolor": "white",
            "ticks": ""
           },
           "bgcolor": "#E5ECF6",
           "radialaxis": {
            "gridcolor": "white",
            "linecolor": "white",
            "ticks": ""
           }
          },
          "scene": {
           "xaxis": {
            "backgroundcolor": "#E5ECF6",
            "gridcolor": "white",
            "gridwidth": 2,
            "linecolor": "white",
            "showbackground": true,
            "ticks": "",
            "zerolinecolor": "white"
           },
           "yaxis": {
            "backgroundcolor": "#E5ECF6",
            "gridcolor": "white",
            "gridwidth": 2,
            "linecolor": "white",
            "showbackground": true,
            "ticks": "",
            "zerolinecolor": "white"
           },
           "zaxis": {
            "backgroundcolor": "#E5ECF6",
            "gridcolor": "white",
            "gridwidth": 2,
            "linecolor": "white",
            "showbackground": true,
            "ticks": "",
            "zerolinecolor": "white"
           }
          },
          "shapedefaults": {
           "line": {
            "color": "#2a3f5f"
           }
          },
          "ternary": {
           "aaxis": {
            "gridcolor": "white",
            "linecolor": "white",
            "ticks": ""
           },
           "baxis": {
            "gridcolor": "white",
            "linecolor": "white",
            "ticks": ""
           },
           "bgcolor": "#E5ECF6",
           "caxis": {
            "gridcolor": "white",
            "linecolor": "white",
            "ticks": ""
           }
          },
          "title": {
           "x": 0.05
          },
          "xaxis": {
           "automargin": true,
           "gridcolor": "white",
           "linecolor": "white",
           "ticks": "",
           "title": {
            "standoff": 15
           },
           "zerolinecolor": "white",
           "zerolinewidth": 2
          },
          "yaxis": {
           "automargin": true,
           "gridcolor": "white",
           "linecolor": "white",
           "ticks": "",
           "title": {
            "standoff": 15
           },
           "zerolinecolor": "white",
           "zerolinewidth": 2
          }
         }
        }
       }
      }
     },
     "metadata": {},
     "output_type": "display_data"
    }
   ],
   "source": [
    "with open(\"../Data/swedish_regions.geojson.txt\", \"r\") as fp:\n",
    "    jdata = json.load(fp)\n",
    "\n",
    "# needed for-loop for maping out id's correctly, otherwise we'll get an empty map.\n",
    "for k in range(len(jdata['features'])):\n",
    "    jdata['features'][k]['id'] = k\n",
    "\n",
    "# same with this as above KPI\n",
    "fig = px.choropleth_mapbox(\n",
    "    df_region, # dataframe\n",
    "    geojson=jdata, # geojson file name\n",
    "    locations='id', # keys for the provinces\n",
    "    color=\"Fall_per_100000_inv\", # df column\n",
    "    color_continuous_scale=\"hot_r\",\n",
    "    range_color=(17300, 32500),\n",
    "    mapbox_style=\"carto-positron\",\n",
    "    zoom=3,\n",
    "    center={\"lat\": 58.6952, \"lon\": 11.9149}, # when the map loads in, starts at northern europe (with Sweden in the middle)\n",
    "    opacity=0.7,\n",
    "    labels={\"Fall_per_100000_inv\": \"Fall per 100,000 inv\"},\n",
    ")\n",
    "fig.update_layout(margin={\"r\": 0, \"t\": 0, \"l\": 0, \"b\": 0}) # the entire window shows the map, instead of having frames around the map\n",
    "print(f\"Sverige medelvärde per län: {df_region['Fall_per_100000_inv'].mean():.0f}\")\n",
    "print(f\"Sverige medianvärde per län: {df_region['Fall_per_100000_inv'].median():.0f}\")\n",
    "fig.show()\n",
    "fig.write_html(\"../Labb_1/Visualiseringar/KPI_3_Fall_per_100000_inv.html\")"
   ]
  },
  {
   "cell_type": "markdown",
   "metadata": {},
   "source": [
    "- Jag hade förväntat mig att se framförallt: Stockholm-, Västra Götaland-, och Skåne-regionerna ha högst fall per 100,000.\n",
    "- Det verkar dock inte som att det stämde överens med resultatet, vilket är förvånande.\n",
    "- Jag hade behövt göra mera research för att kunna lista ut varför siffrorna är högst i just Örebro och Halland.\n",
    "- Var väldigt coolt att kunna mapa ut länen på detta viset och hoppas att jag kommer jobba med det igen framöver.\n",
    "--------------------------------------------------------------------------------------------------------------------------\n",
    "- När det kommer till jämförelsen av norra och södra Sverige, så är det inte helt klart om vilken del som har högst fall per 100,000.\n",
    "- Medans norra delen har låga siffror i: Norrbotten, Västerbotten och Västernorrland, så har södra Sverige också låga siffror i åtminstone 3 län: Blekinge, Gotland & Östergötland\n",
    "- Precis som i tidigare frågeställning så hade det behövs göra mera research kring detta för att kunna dra någon slutsats.\n",
    "-------------------------------\n",
    "- Sverige medelvärde per län: 24763\n",
    "- Sverige medianvärde per län: 24999\n",
    "- Störst skilland: Örebro(32.379k) och Norrbotten (20.327k). En skillnad på 37.22%\n",
    "- Skillnad mellan minst antal fall (Norrbotten) per 100k och Västra Götaland: 20.7%\n",
    "- Skillnad mellan högst antal fall (Örebro) per 100k och Västra Götaland: 26.3%\n",
    "- Skillnad mellan medelvärde och Västra Götaland: 3.4%\n",
    "- Skillnad mellan median och Västra Götaland: 2.48%\n",
    "-------------------------------------\n",
    "- Vad som mer hade kunnat varit intressant att utforska är hur det kan vara en sådan stor skillnad på antal fall per 100k mellan två län som Örebro och Norrbotten (37.22%))."
   ]
  },
  {
   "cell_type": "markdown",
   "metadata": {},
   "source": [
    "# KPI 4\n",
    "- Jämföra dem 5 högsta och 5 lägsta andel vaccinerade med dos 3 per kommun\n",
    "- Jag förväntar mig en skillnad, dock inte jätte stor, även fast det finns många kommuner av olika storlekar i Sverige.\n",
    "- Jag vill även undersöka ifall man kan se en koppling kring vart dessa kommuner befinner sig i Sverige"
   ]
  },
  {
   "cell_type": "code",
   "execution_count": 7,
   "metadata": {},
   "outputs": [
    {
     "data": {
      "application/vnd.plotly.v1+json": {
       "config": {
        "plotlyServerURL": "https://plot.ly"
       },
       "data": [
        {
         "alignmentgroup": "True",
         "hovertemplate": "KnNamn=%{x}<br>Andel_dos3=%{y}<extra></extra>",
         "legendgroup": "",
         "marker": {
          "color": "#636efa",
          "pattern": {
           "shape": ""
          }
         },
         "name": "",
         "offsetgroup": "",
         "orientation": "v",
         "showlegend": false,
         "textposition": "auto",
         "type": "bar",
         "x": [
          "Botkyrka",
          "Södertälje",
          "Åstorp",
          "Sigtuna",
          "Malmö",
          "Borgholm",
          "Mörbylånga",
          "Lomma",
          "Hammarö",
          "Vadstena"
         ],
         "xaxis": "x",
         "y": [
          0.44621427012873666,
          0.45464183702742816,
          0.5227602905569008,
          0.5232748897775044,
          0.5233451936995073,
          0.7981995498874719,
          0.8018491949625378,
          0.804738872887343,
          0.8058654765699713,
          0.807570977917981
         ],
         "yaxis": "y"
        }
       ],
       "layout": {
        "barmode": "group",
        "legend": {
         "tracegroupgap": 0
        },
        "template": {
         "data": {
          "bar": [
           {
            "error_x": {
             "color": "#2a3f5f"
            },
            "error_y": {
             "color": "#2a3f5f"
            },
            "marker": {
             "line": {
              "color": "#E5ECF6",
              "width": 0.5
             },
             "pattern": {
              "fillmode": "overlay",
              "size": 10,
              "solidity": 0.2
             }
            },
            "type": "bar"
           }
          ],
          "barpolar": [
           {
            "marker": {
             "line": {
              "color": "#E5ECF6",
              "width": 0.5
             },
             "pattern": {
              "fillmode": "overlay",
              "size": 10,
              "solidity": 0.2
             }
            },
            "type": "barpolar"
           }
          ],
          "carpet": [
           {
            "aaxis": {
             "endlinecolor": "#2a3f5f",
             "gridcolor": "white",
             "linecolor": "white",
             "minorgridcolor": "white",
             "startlinecolor": "#2a3f5f"
            },
            "baxis": {
             "endlinecolor": "#2a3f5f",
             "gridcolor": "white",
             "linecolor": "white",
             "minorgridcolor": "white",
             "startlinecolor": "#2a3f5f"
            },
            "type": "carpet"
           }
          ],
          "choropleth": [
           {
            "colorbar": {
             "outlinewidth": 0,
             "ticks": ""
            },
            "type": "choropleth"
           }
          ],
          "contour": [
           {
            "colorbar": {
             "outlinewidth": 0,
             "ticks": ""
            },
            "colorscale": [
             [
              0,
              "#0d0887"
             ],
             [
              0.1111111111111111,
              "#46039f"
             ],
             [
              0.2222222222222222,
              "#7201a8"
             ],
             [
              0.3333333333333333,
              "#9c179e"
             ],
             [
              0.4444444444444444,
              "#bd3786"
             ],
             [
              0.5555555555555556,
              "#d8576b"
             ],
             [
              0.6666666666666666,
              "#ed7953"
             ],
             [
              0.7777777777777778,
              "#fb9f3a"
             ],
             [
              0.8888888888888888,
              "#fdca26"
             ],
             [
              1,
              "#f0f921"
             ]
            ],
            "type": "contour"
           }
          ],
          "contourcarpet": [
           {
            "colorbar": {
             "outlinewidth": 0,
             "ticks": ""
            },
            "type": "contourcarpet"
           }
          ],
          "heatmap": [
           {
            "colorbar": {
             "outlinewidth": 0,
             "ticks": ""
            },
            "colorscale": [
             [
              0,
              "#0d0887"
             ],
             [
              0.1111111111111111,
              "#46039f"
             ],
             [
              0.2222222222222222,
              "#7201a8"
             ],
             [
              0.3333333333333333,
              "#9c179e"
             ],
             [
              0.4444444444444444,
              "#bd3786"
             ],
             [
              0.5555555555555556,
              "#d8576b"
             ],
             [
              0.6666666666666666,
              "#ed7953"
             ],
             [
              0.7777777777777778,
              "#fb9f3a"
             ],
             [
              0.8888888888888888,
              "#fdca26"
             ],
             [
              1,
              "#f0f921"
             ]
            ],
            "type": "heatmap"
           }
          ],
          "heatmapgl": [
           {
            "colorbar": {
             "outlinewidth": 0,
             "ticks": ""
            },
            "colorscale": [
             [
              0,
              "#0d0887"
             ],
             [
              0.1111111111111111,
              "#46039f"
             ],
             [
              0.2222222222222222,
              "#7201a8"
             ],
             [
              0.3333333333333333,
              "#9c179e"
             ],
             [
              0.4444444444444444,
              "#bd3786"
             ],
             [
              0.5555555555555556,
              "#d8576b"
             ],
             [
              0.6666666666666666,
              "#ed7953"
             ],
             [
              0.7777777777777778,
              "#fb9f3a"
             ],
             [
              0.8888888888888888,
              "#fdca26"
             ],
             [
              1,
              "#f0f921"
             ]
            ],
            "type": "heatmapgl"
           }
          ],
          "histogram": [
           {
            "marker": {
             "pattern": {
              "fillmode": "overlay",
              "size": 10,
              "solidity": 0.2
             }
            },
            "type": "histogram"
           }
          ],
          "histogram2d": [
           {
            "colorbar": {
             "outlinewidth": 0,
             "ticks": ""
            },
            "colorscale": [
             [
              0,
              "#0d0887"
             ],
             [
              0.1111111111111111,
              "#46039f"
             ],
             [
              0.2222222222222222,
              "#7201a8"
             ],
             [
              0.3333333333333333,
              "#9c179e"
             ],
             [
              0.4444444444444444,
              "#bd3786"
             ],
             [
              0.5555555555555556,
              "#d8576b"
             ],
             [
              0.6666666666666666,
              "#ed7953"
             ],
             [
              0.7777777777777778,
              "#fb9f3a"
             ],
             [
              0.8888888888888888,
              "#fdca26"
             ],
             [
              1,
              "#f0f921"
             ]
            ],
            "type": "histogram2d"
           }
          ],
          "histogram2dcontour": [
           {
            "colorbar": {
             "outlinewidth": 0,
             "ticks": ""
            },
            "colorscale": [
             [
              0,
              "#0d0887"
             ],
             [
              0.1111111111111111,
              "#46039f"
             ],
             [
              0.2222222222222222,
              "#7201a8"
             ],
             [
              0.3333333333333333,
              "#9c179e"
             ],
             [
              0.4444444444444444,
              "#bd3786"
             ],
             [
              0.5555555555555556,
              "#d8576b"
             ],
             [
              0.6666666666666666,
              "#ed7953"
             ],
             [
              0.7777777777777778,
              "#fb9f3a"
             ],
             [
              0.8888888888888888,
              "#fdca26"
             ],
             [
              1,
              "#f0f921"
             ]
            ],
            "type": "histogram2dcontour"
           }
          ],
          "mesh3d": [
           {
            "colorbar": {
             "outlinewidth": 0,
             "ticks": ""
            },
            "type": "mesh3d"
           }
          ],
          "parcoords": [
           {
            "line": {
             "colorbar": {
              "outlinewidth": 0,
              "ticks": ""
             }
            },
            "type": "parcoords"
           }
          ],
          "pie": [
           {
            "automargin": true,
            "type": "pie"
           }
          ],
          "scatter": [
           {
            "fillpattern": {
             "fillmode": "overlay",
             "size": 10,
             "solidity": 0.2
            },
            "type": "scatter"
           }
          ],
          "scatter3d": [
           {
            "line": {
             "colorbar": {
              "outlinewidth": 0,
              "ticks": ""
             }
            },
            "marker": {
             "colorbar": {
              "outlinewidth": 0,
              "ticks": ""
             }
            },
            "type": "scatter3d"
           }
          ],
          "scattercarpet": [
           {
            "marker": {
             "colorbar": {
              "outlinewidth": 0,
              "ticks": ""
             }
            },
            "type": "scattercarpet"
           }
          ],
          "scattergeo": [
           {
            "marker": {
             "colorbar": {
              "outlinewidth": 0,
              "ticks": ""
             }
            },
            "type": "scattergeo"
           }
          ],
          "scattergl": [
           {
            "marker": {
             "colorbar": {
              "outlinewidth": 0,
              "ticks": ""
             }
            },
            "type": "scattergl"
           }
          ],
          "scattermapbox": [
           {
            "marker": {
             "colorbar": {
              "outlinewidth": 0,
              "ticks": ""
             }
            },
            "type": "scattermapbox"
           }
          ],
          "scatterpolar": [
           {
            "marker": {
             "colorbar": {
              "outlinewidth": 0,
              "ticks": ""
             }
            },
            "type": "scatterpolar"
           }
          ],
          "scatterpolargl": [
           {
            "marker": {
             "colorbar": {
              "outlinewidth": 0,
              "ticks": ""
             }
            },
            "type": "scatterpolargl"
           }
          ],
          "scatterternary": [
           {
            "marker": {
             "colorbar": {
              "outlinewidth": 0,
              "ticks": ""
             }
            },
            "type": "scatterternary"
           }
          ],
          "surface": [
           {
            "colorbar": {
             "outlinewidth": 0,
             "ticks": ""
            },
            "colorscale": [
             [
              0,
              "#0d0887"
             ],
             [
              0.1111111111111111,
              "#46039f"
             ],
             [
              0.2222222222222222,
              "#7201a8"
             ],
             [
              0.3333333333333333,
              "#9c179e"
             ],
             [
              0.4444444444444444,
              "#bd3786"
             ],
             [
              0.5555555555555556,
              "#d8576b"
             ],
             [
              0.6666666666666666,
              "#ed7953"
             ],
             [
              0.7777777777777778,
              "#fb9f3a"
             ],
             [
              0.8888888888888888,
              "#fdca26"
             ],
             [
              1,
              "#f0f921"
             ]
            ],
            "type": "surface"
           }
          ],
          "table": [
           {
            "cells": {
             "fill": {
              "color": "#EBF0F8"
             },
             "line": {
              "color": "white"
             }
            },
            "header": {
             "fill": {
              "color": "#C8D4E3"
             },
             "line": {
              "color": "white"
             }
            },
            "type": "table"
           }
          ]
         },
         "layout": {
          "annotationdefaults": {
           "arrowcolor": "#2a3f5f",
           "arrowhead": 0,
           "arrowwidth": 1
          },
          "autotypenumbers": "strict",
          "coloraxis": {
           "colorbar": {
            "outlinewidth": 0,
            "ticks": ""
           }
          },
          "colorscale": {
           "diverging": [
            [
             0,
             "#8e0152"
            ],
            [
             0.1,
             "#c51b7d"
            ],
            [
             0.2,
             "#de77ae"
            ],
            [
             0.3,
             "#f1b6da"
            ],
            [
             0.4,
             "#fde0ef"
            ],
            [
             0.5,
             "#f7f7f7"
            ],
            [
             0.6,
             "#e6f5d0"
            ],
            [
             0.7,
             "#b8e186"
            ],
            [
             0.8,
             "#7fbc41"
            ],
            [
             0.9,
             "#4d9221"
            ],
            [
             1,
             "#276419"
            ]
           ],
           "sequential": [
            [
             0,
             "#0d0887"
            ],
            [
             0.1111111111111111,
             "#46039f"
            ],
            [
             0.2222222222222222,
             "#7201a8"
            ],
            [
             0.3333333333333333,
             "#9c179e"
            ],
            [
             0.4444444444444444,
             "#bd3786"
            ],
            [
             0.5555555555555556,
             "#d8576b"
            ],
            [
             0.6666666666666666,
             "#ed7953"
            ],
            [
             0.7777777777777778,
             "#fb9f3a"
            ],
            [
             0.8888888888888888,
             "#fdca26"
            ],
            [
             1,
             "#f0f921"
            ]
           ],
           "sequentialminus": [
            [
             0,
             "#0d0887"
            ],
            [
             0.1111111111111111,
             "#46039f"
            ],
            [
             0.2222222222222222,
             "#7201a8"
            ],
            [
             0.3333333333333333,
             "#9c179e"
            ],
            [
             0.4444444444444444,
             "#bd3786"
            ],
            [
             0.5555555555555556,
             "#d8576b"
            ],
            [
             0.6666666666666666,
             "#ed7953"
            ],
            [
             0.7777777777777778,
             "#fb9f3a"
            ],
            [
             0.8888888888888888,
             "#fdca26"
            ],
            [
             1,
             "#f0f921"
            ]
           ]
          },
          "colorway": [
           "#636efa",
           "#EF553B",
           "#00cc96",
           "#ab63fa",
           "#FFA15A",
           "#19d3f3",
           "#FF6692",
           "#B6E880",
           "#FF97FF",
           "#FECB52"
          ],
          "font": {
           "color": "#2a3f5f"
          },
          "geo": {
           "bgcolor": "white",
           "lakecolor": "white",
           "landcolor": "#E5ECF6",
           "showlakes": true,
           "showland": true,
           "subunitcolor": "white"
          },
          "hoverlabel": {
           "align": "left"
          },
          "hovermode": "closest",
          "mapbox": {
           "style": "light"
          },
          "paper_bgcolor": "white",
          "plot_bgcolor": "#E5ECF6",
          "polar": {
           "angularaxis": {
            "gridcolor": "white",
            "linecolor": "white",
            "ticks": ""
           },
           "bgcolor": "#E5ECF6",
           "radialaxis": {
            "gridcolor": "white",
            "linecolor": "white",
            "ticks": ""
           }
          },
          "scene": {
           "xaxis": {
            "backgroundcolor": "#E5ECF6",
            "gridcolor": "white",
            "gridwidth": 2,
            "linecolor": "white",
            "showbackground": true,
            "ticks": "",
            "zerolinecolor": "white"
           },
           "yaxis": {
            "backgroundcolor": "#E5ECF6",
            "gridcolor": "white",
            "gridwidth": 2,
            "linecolor": "white",
            "showbackground": true,
            "ticks": "",
            "zerolinecolor": "white"
           },
           "zaxis": {
            "backgroundcolor": "#E5ECF6",
            "gridcolor": "white",
            "gridwidth": 2,
            "linecolor": "white",
            "showbackground": true,
            "ticks": "",
            "zerolinecolor": "white"
           }
          },
          "shapedefaults": {
           "line": {
            "color": "#2a3f5f"
           }
          },
          "ternary": {
           "aaxis": {
            "gridcolor": "white",
            "linecolor": "white",
            "ticks": ""
           },
           "baxis": {
            "gridcolor": "white",
            "linecolor": "white",
            "ticks": ""
           },
           "bgcolor": "#E5ECF6",
           "caxis": {
            "gridcolor": "white",
            "linecolor": "white",
            "ticks": ""
           }
          },
          "title": {
           "x": 0.05
          },
          "xaxis": {
           "automargin": true,
           "gridcolor": "white",
           "linecolor": "white",
           "ticks": "",
           "title": {
            "standoff": 15
           },
           "zerolinecolor": "white",
           "zerolinewidth": 2
          },
          "yaxis": {
           "automargin": true,
           "gridcolor": "white",
           "linecolor": "white",
           "ticks": "",
           "title": {
            "standoff": 15
           },
           "zerolinecolor": "white",
           "zerolinewidth": 2
          }
         }
        },
        "title": {
         "text": "5 lägsta andel med dos 3 per kommun & 5 högsta andel med dos 3 per kommun"
        },
        "xaxis": {
         "anchor": "y",
         "domain": [
          0,
          1
         ],
         "title": {
          "text": "KnNamn"
         }
        },
        "yaxis": {
         "anchor": "x",
         "domain": [
          0,
          1
         ],
         "title": {
          "text": "Andel_dos3"
         },
         "type": "log"
        }
       }
      }
     },
     "metadata": {},
     "output_type": "display_data"
    }
   ],
   "source": [
    "vaccin_kommun_dos3 = pd.read_excel(\"../Data/vaccine.xlsx\", sheet_name=\"Vaccinerade kommun dos 3\")\n",
    "\n",
    "# Creates two dataframes with the top 5 and last 5 municipalaties\n",
    "# concatinates them so we can plot\n",
    "sorterad_vaccin_kommun_dos3 = vaccin_kommun_dos3.sort_values(\"Andel_dos3\")\n",
    "sorterad_vaccin_kommun_dos3 = sorterad_vaccin_kommun_dos3[[\"KnNamn\", \"Andel_dos3\"]]\n",
    "sorterad_vaccin_kommun_dos3_last10 = sorterad_vaccin_kommun_dos3.head(5)\n",
    "sorterad_vaccin_kommun_dos3_top10 = sorterad_vaccin_kommun_dos3.tail(5)\n",
    "concat_sorted_df = pd.concat([sorterad_vaccin_kommun_dos3_last10, sorterad_vaccin_kommun_dos3_top10], axis=0)\n",
    "\n",
    "kommun_labels = {\"value\": \"Befolkning\", \"variable\": \"Antal fall av Covid-19\"}\n",
    "\n",
    "log_plotly_bar_with_df_title_labels(\n",
    "    concat_sorted_df,\n",
    "    \"Andel_dos3\",\n",
    "    \"KnNamn\",\n",
    "    \"5 lägsta andel med dos 3 per kommun & 5 högsta andel med dos 3 per kommun\",\n",
    "    kommun_labels,\n",
    "    \"KPI_4_Lägsta_och_högsta_andel_dos_3_per_kommun\",\n",
    ")\n"
   ]
  },
  {
   "cell_type": "markdown",
   "metadata": {},
   "source": [
    "- Vad som är intressant här är att skillnaden kan vara såpass stora i olika kommuner, där den lägsta andelen ligger på 44% och högsta andelen ligger på 80%\n",
    "- Jag hade definitvt förväntat mig att det var en skillnad på kanske 15-20% men inte 36% skillnad.\n",
    "\n",
    "* Top 5\n",
    "- Vadstena - Östergötland\n",
    "- Hammarö - Värmland\n",
    "- Lomma - Skåne\n",
    "- Mörbylånga - Öland\n",
    "- Borgholm - Öland\n",
    "\n",
    "* Low 5\n",
    "- Botkyrka - Stockholm\n",
    "- Södertälje - Stockholm\n",
    "- Åstorp - Skåne (nordvästra delen)\n",
    "- Sigtuna - Stockholm\n",
    "- Malmö - Skåne\n",
    "----------------------------------\n",
    "- Vad som är intressant att tillägga här är att alla kommuner där siffrorna är lägst, deras har INTE högst antal per 100k invånare som vi såg tidigare."
   ]
  }
 ],
 "metadata": {
  "kernelspec": {
   "display_name": "Python 3.9.13 ('Databehandling-Daniel-Nilsson-esAQ05u4')",
   "language": "python",
   "name": "python3"
  },
  "language_info": {
   "codemirror_mode": {
    "name": "ipython",
    "version": 3
   },
   "file_extension": ".py",
   "mimetype": "text/x-python",
   "name": "python",
   "nbconvert_exporter": "python",
   "pygments_lexer": "ipython3",
   "version": "3.9.13"
  },
  "orig_nbformat": 4,
  "vscode": {
   "interpreter": {
    "hash": "2c026f9a4ffd2ee5a23e30db385042e828587791d51ac8ef89f88ac6abb0fa80"
   }
  }
 },
 "nbformat": 4,
 "nbformat_minor": 2
}
