{
 "cells": [
  {
   "cell_type": "code",
   "execution_count": 1,
   "metadata": {},
   "outputs": [],
   "source": [
    "import pandas as pd\n",
    "import seaborn as sns\n",
    "import matplotlib.pyplot as plt\n",
    "import plotly_express as px\n",
    "import plotly.graph_objects as go"
   ]
  },
  {
   "cell_type": "markdown",
   "metadata": {},
   "source": [
    "- Jag kommer jämföra andelen infekterade av covid-19 i varje kontinent.\n",
    "- Vad jag misstänker är följande order (lägst till störst andel): Oceania -> Europa -> Asia -> America -> Africa\n",
    "- Jag tänker mig att Oceania kommer först eftersom dem är väldigt utspridda, många öar, samt har många i-länder i sig.\n",
    "- Jag tror att Europa kommer 2:a eftersom vi har många i-länder och generellt sett en vetenskaplig kultur. \n",
    "- Asien tänker jag mig kan komma trea, alltså före america eftersom länder som USA har en kultur av icke-vaccinerande och konspirationstänk i vissa grupper. Jag har svårt att gissa på hur resten av America kommer påverka den slutliga andelen. Asien har även länder som Kina, vilket gör det svårt att lita exakt på att deras siffror av infekterade stämmer helt.\n",
    "- Jag gissar på att Afrika kommer sist endast för att dem har såpass många u-länder vilket gör det svårt att sätta stopp för mycket infektioner. Dock kan jag ha helt fel här eftersom Afrika är hem till många stammar som tex lever isolerat från resten av populationen."
   ]
  },
  {
   "cell_type": "code",
   "execution_count": 2,
   "metadata": {},
   "outputs": [],
   "source": [
    "worldcoviddata = pd.read_csv(\"../Data/worldwidedata_covid.csv\")\n",
    "\n",
    "def continent_total(variable_name, continent_name):\n",
    "    variable_name = worldcoviddata[(worldcoviddata[\"country\"] == continent_name)].sort_values(by='cumulative_count', ascending=False).head()\n",
    "    print(variable_name['cumulative_count'].head(1))"
   ]
  },
  {
   "cell_type": "code",
   "execution_count": 3,
   "metadata": {},
   "outputs": [
    {
     "name": "stdout",
     "output_type": "stream",
     "text": [
      "16595    216693251.0\n",
      "Name: cumulative_count, dtype: float64\n"
     ]
    }
   ],
   "source": [
    "continent_total(worldcoviddata, \"Europe (total)\")"
   ]
  },
  {
   "cell_type": "markdown",
   "metadata": {},
   "source": [
    "- Europa totalt: 216,693,251 antal fall\n",
    "- Europa total befolkning: 747,636,000 (2020)\n",
    "- Europa andel infekterade: 28.98%"
   ]
  },
  {
   "cell_type": "code",
   "execution_count": 4,
   "metadata": {},
   "outputs": [
    {
     "name": "stdout",
     "output_type": "stream",
     "text": [
      "380    11937718.0\n",
      "Name: cumulative_count, dtype: float64\n"
     ]
    }
   ],
   "source": [
    "continent_total(worldcoviddata, \"Africa (total)\")"
   ]
  },
  {
   "cell_type": "markdown",
   "metadata": {},
   "source": [
    "- Afrika totalt: 11,937,718 antal fall\n",
    "- Afrika total befolkning: 1,340,000,000 (2020)\n",
    "- Afrika andel infekterade: 0.89% infekterade"
   ]
  },
  {
   "cell_type": "code",
   "execution_count": 5,
   "metadata": {},
   "outputs": [
    {
     "name": "stdout",
     "output_type": "stream",
     "text": [
      "36504    9196406.0\n",
      "Name: cumulative_count, dtype: float64\n"
     ]
    }
   ],
   "source": [
    "continent_total(worldcoviddata, \"Oceania (total)\")"
   ]
  },
  {
   "cell_type": "markdown",
   "metadata": {},
   "source": [
    "- Oceania totalt: 9,196,406 antal fall\n",
    "- Oceania total befolkning: 42,677,000 (2020)\n",
    "- Oceania andel infekterade: 21.54% infekterade"
   ]
  },
  {
   "cell_type": "code",
   "execution_count": 6,
   "metadata": {},
   "outputs": [
    {
     "name": "stdout",
     "output_type": "stream",
     "text": [
      "1124    160090765.0\n",
      "Name: cumulative_count, dtype: float64\n"
     ]
    }
   ],
   "source": [
    "continent_total(worldcoviddata, \"America (total)\")"
   ]
  },
  {
   "cell_type": "markdown",
   "metadata": {},
   "source": [
    "- America totalt: 160,090,765 antal fall\n",
    "- America total befolkning: 1,002,000,000 (2020)\n",
    "- America andel infekterade: 15.97% infekterade"
   ]
  },
  {
   "cell_type": "code",
   "execution_count": 7,
   "metadata": {},
   "outputs": [
    {
     "name": "stdout",
     "output_type": "stream",
     "text": [
      "3102    135192948.0\n",
      "Name: cumulative_count, dtype: float64\n"
     ]
    }
   ],
   "source": [
    "continent_total(worldcoviddata, \"Asia (total)\")"
   ]
  },
  {
   "cell_type": "markdown",
   "metadata": {},
   "source": [
    "- Asien totalt: 135,192,948 antal fall\n",
    "- Asien total befolkning: 4,641,000,000 (2020)\n",
    "- Asien andel infekterade: 2.91% infekterade\n",
    "----------------------------------\n",
    "- Slutgiltiga ordningen (Lägst till högst)\n",
    "- Africa --> Asien --> America --> Oceania --> Europa\n",
    "- Det var allså i stort sett tvärt emot vad jag tänkte mig att det skulle vara, dock verkar det otroligt suspekt att inte ens 1% av Afrika har infekterats medans nästan 30% infekterats i Europa. Det hade inte förvånat mig om det rapporterades sämre i dem kontinenterna som hade såpass låg andel.\n",
    "- Jag tänkte mig först när jag såg det här resultatet att det kanske har något med befolkningstätheten i varje kontinent, alltså att Europa har hög befolkningstäthet(69.7 pers per km^2). Det stämmer också, dock så har Asien ännu högre (86,7 pers per km^2). Det kan alltså inte vara den enda viktiga variabeln i spel till varför Europa har högst andel.\n",
    "- Jag kan dock säga att efter att ha kollat upp andelen i varje kontinent så är det absolut inte tillräckligt för att dra några slutsatser kring varför andelen ser ut som dem gör."
   ]
  },
  {
   "cell_type": "code",
   "execution_count": 8,
   "metadata": {},
   "outputs": [
    {
     "data": {
      "text/html": [
       "<div>\n",
       "<style scoped>\n",
       "    .dataframe tbody tr th:only-of-type {\n",
       "        vertical-align: middle;\n",
       "    }\n",
       "\n",
       "    .dataframe tbody tr th {\n",
       "        vertical-align: top;\n",
       "    }\n",
       "\n",
       "    .dataframe thead th {\n",
       "        text-align: right;\n",
       "    }\n",
       "</style>\n",
       "<table border=\"1\" class=\"dataframe\">\n",
       "  <thead>\n",
       "    <tr style=\"text-align: right;\">\n",
       "      <th></th>\n",
       "      <th>country</th>\n",
       "      <th>country_code</th>\n",
       "      <th>continent</th>\n",
       "      <th>population</th>\n",
       "      <th>indicator</th>\n",
       "      <th>weekly_count</th>\n",
       "      <th>year_week</th>\n",
       "      <th>rate_14_day</th>\n",
       "      <th>cumulative_count</th>\n",
       "      <th>source</th>\n",
       "      <th>note</th>\n",
       "    </tr>\n",
       "  </thead>\n",
       "  <tbody>\n",
       "    <tr>\n",
       "      <th>0</th>\n",
       "      <td>Afghanistan</td>\n",
       "      <td>AFG</td>\n",
       "      <td>Asia</td>\n",
       "      <td>38928341</td>\n",
       "      <td>cases</td>\n",
       "      <td>0.0</td>\n",
       "      <td>2020-01</td>\n",
       "      <td>NaN</td>\n",
       "      <td>0.0</td>\n",
       "      <td>Epidemic intelligence national data</td>\n",
       "      <td>NaN</td>\n",
       "    </tr>\n",
       "    <tr>\n",
       "      <th>1</th>\n",
       "      <td>Afghanistan</td>\n",
       "      <td>AFG</td>\n",
       "      <td>Asia</td>\n",
       "      <td>38928341</td>\n",
       "      <td>cases</td>\n",
       "      <td>0.0</td>\n",
       "      <td>2020-02</td>\n",
       "      <td>0.000000</td>\n",
       "      <td>0.0</td>\n",
       "      <td>Epidemic intelligence national data</td>\n",
       "      <td>NaN</td>\n",
       "    </tr>\n",
       "    <tr>\n",
       "      <th>2</th>\n",
       "      <td>Afghanistan</td>\n",
       "      <td>AFG</td>\n",
       "      <td>Asia</td>\n",
       "      <td>38928341</td>\n",
       "      <td>cases</td>\n",
       "      <td>0.0</td>\n",
       "      <td>2020-03</td>\n",
       "      <td>0.000000</td>\n",
       "      <td>0.0</td>\n",
       "      <td>Epidemic intelligence national data</td>\n",
       "      <td>NaN</td>\n",
       "    </tr>\n",
       "    <tr>\n",
       "      <th>3</th>\n",
       "      <td>Afghanistan</td>\n",
       "      <td>AFG</td>\n",
       "      <td>Asia</td>\n",
       "      <td>38928341</td>\n",
       "      <td>cases</td>\n",
       "      <td>0.0</td>\n",
       "      <td>2020-04</td>\n",
       "      <td>0.000000</td>\n",
       "      <td>0.0</td>\n",
       "      <td>Epidemic intelligence national data</td>\n",
       "      <td>NaN</td>\n",
       "    </tr>\n",
       "    <tr>\n",
       "      <th>4</th>\n",
       "      <td>Afghanistan</td>\n",
       "      <td>AFG</td>\n",
       "      <td>Asia</td>\n",
       "      <td>38928341</td>\n",
       "      <td>cases</td>\n",
       "      <td>0.0</td>\n",
       "      <td>2020-05</td>\n",
       "      <td>0.000000</td>\n",
       "      <td>0.0</td>\n",
       "      <td>Epidemic intelligence national data</td>\n",
       "      <td>NaN</td>\n",
       "    </tr>\n",
       "    <tr>\n",
       "      <th>...</th>\n",
       "      <td>...</td>\n",
       "      <td>...</td>\n",
       "      <td>...</td>\n",
       "      <td>...</td>\n",
       "      <td>...</td>\n",
       "      <td>...</td>\n",
       "      <td>...</td>\n",
       "      <td>...</td>\n",
       "      <td>...</td>\n",
       "      <td>...</td>\n",
       "      <td>...</td>\n",
       "    </tr>\n",
       "    <tr>\n",
       "      <th>53069</th>\n",
       "      <td>Cyprus</td>\n",
       "      <td>CYP</td>\n",
       "      <td>Europe</td>\n",
       "      <td>896007</td>\n",
       "      <td>deaths</td>\n",
       "      <td>20.0</td>\n",
       "      <td>2022-20</td>\n",
       "      <td>44.642508</td>\n",
       "      <td>1209.0</td>\n",
       "      <td>TESSy COVID-19</td>\n",
       "      <td>NaN</td>\n",
       "    </tr>\n",
       "    <tr>\n",
       "      <th>53070</th>\n",
       "      <td>Cyprus</td>\n",
       "      <td>CYP</td>\n",
       "      <td>Europe</td>\n",
       "      <td>896007</td>\n",
       "      <td>deaths</td>\n",
       "      <td>9.0</td>\n",
       "      <td>2022-21</td>\n",
       "      <td>32.365819</td>\n",
       "      <td>1218.0</td>\n",
       "      <td>TESSy COVID-19</td>\n",
       "      <td>NaN</td>\n",
       "    </tr>\n",
       "    <tr>\n",
       "      <th>53071</th>\n",
       "      <td>Cyprus</td>\n",
       "      <td>CYP</td>\n",
       "      <td>Europe</td>\n",
       "      <td>896007</td>\n",
       "      <td>deaths</td>\n",
       "      <td>NaN</td>\n",
       "      <td>2022-22</td>\n",
       "      <td>NaN</td>\n",
       "      <td>NaN</td>\n",
       "      <td>TESSy COVID-19</td>\n",
       "      <td>NaN</td>\n",
       "    </tr>\n",
       "    <tr>\n",
       "      <th>53072</th>\n",
       "      <td>Cyprus</td>\n",
       "      <td>CYP</td>\n",
       "      <td>Europe</td>\n",
       "      <td>896007</td>\n",
       "      <td>deaths</td>\n",
       "      <td>0.0</td>\n",
       "      <td>2022-23</td>\n",
       "      <td>NaN</td>\n",
       "      <td>NaN</td>\n",
       "      <td>TESSy COVID-19</td>\n",
       "      <td>NaN</td>\n",
       "    </tr>\n",
       "    <tr>\n",
       "      <th>53073</th>\n",
       "      <td>Cyprus</td>\n",
       "      <td>CYP</td>\n",
       "      <td>Europe</td>\n",
       "      <td>896007</td>\n",
       "      <td>deaths</td>\n",
       "      <td>5.0</td>\n",
       "      <td>2022-24</td>\n",
       "      <td>5.580314</td>\n",
       "      <td>NaN</td>\n",
       "      <td>TESSy COVID-19</td>\n",
       "      <td>NaN</td>\n",
       "    </tr>\n",
       "  </tbody>\n",
       "</table>\n",
       "<p>53074 rows × 11 columns</p>\n",
       "</div>"
      ],
      "text/plain": [
       "           country country_code continent  population indicator  weekly_count  \\\n",
       "0      Afghanistan          AFG      Asia    38928341     cases           0.0   \n",
       "1      Afghanistan          AFG      Asia    38928341     cases           0.0   \n",
       "2      Afghanistan          AFG      Asia    38928341     cases           0.0   \n",
       "3      Afghanistan          AFG      Asia    38928341     cases           0.0   \n",
       "4      Afghanistan          AFG      Asia    38928341     cases           0.0   \n",
       "...            ...          ...       ...         ...       ...           ...   \n",
       "53069       Cyprus          CYP    Europe      896007    deaths          20.0   \n",
       "53070       Cyprus          CYP    Europe      896007    deaths           9.0   \n",
       "53071       Cyprus          CYP    Europe      896007    deaths           NaN   \n",
       "53072       Cyprus          CYP    Europe      896007    deaths           0.0   \n",
       "53073       Cyprus          CYP    Europe      896007    deaths           5.0   \n",
       "\n",
       "      year_week  rate_14_day  cumulative_count  \\\n",
       "0       2020-01          NaN               0.0   \n",
       "1       2020-02     0.000000               0.0   \n",
       "2       2020-03     0.000000               0.0   \n",
       "3       2020-04     0.000000               0.0   \n",
       "4       2020-05     0.000000               0.0   \n",
       "...         ...          ...               ...   \n",
       "53069   2022-20    44.642508            1209.0   \n",
       "53070   2022-21    32.365819            1218.0   \n",
       "53071   2022-22          NaN               NaN   \n",
       "53072   2022-23          NaN               NaN   \n",
       "53073   2022-24     5.580314               NaN   \n",
       "\n",
       "                                    source  note  \n",
       "0      Epidemic intelligence national data   NaN  \n",
       "1      Epidemic intelligence national data   NaN  \n",
       "2      Epidemic intelligence national data   NaN  \n",
       "3      Epidemic intelligence national data   NaN  \n",
       "4      Epidemic intelligence national data   NaN  \n",
       "...                                    ...   ...  \n",
       "53069                       TESSy COVID-19   NaN  \n",
       "53070                       TESSy COVID-19   NaN  \n",
       "53071                       TESSy COVID-19   NaN  \n",
       "53072                       TESSy COVID-19   NaN  \n",
       "53073                       TESSy COVID-19   NaN  \n",
       "\n",
       "[53074 rows x 11 columns]"
      ]
     },
     "execution_count": 8,
     "metadata": {},
     "output_type": "execute_result"
    }
   ],
   "source": [
    "worldcoviddata"
   ]
  }
 ],
 "metadata": {
  "kernelspec": {
   "display_name": "Python 3.9.13 ('Databehandling-Daniel-Nilsson-esAQ05u4')",
   "language": "python",
   "name": "python3"
  },
  "language_info": {
   "codemirror_mode": {
    "name": "ipython",
    "version": 3
   },
   "file_extension": ".py",
   "mimetype": "text/x-python",
   "name": "python",
   "nbconvert_exporter": "python",
   "pygments_lexer": "ipython3",
   "version": "3.9.13"
  },
  "orig_nbformat": 4,
  "vscode": {
   "interpreter": {
    "hash": "2c026f9a4ffd2ee5a23e30db385042e828587791d51ac8ef89f88ac6abb0fa80"
   }
  }
 },
 "nbformat": 4,
 "nbformat_minor": 2
}
