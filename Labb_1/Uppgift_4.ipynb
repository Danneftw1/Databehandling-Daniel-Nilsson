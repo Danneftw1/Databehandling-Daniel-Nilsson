{
 "cells": [
  {
   "cell_type": "code",
   "execution_count": 2,
   "metadata": {},
   "outputs": [],
   "source": [
    "import pandas as pd\n",
    "import seaborn as sns\n",
    "import matplotlib.pyplot as plt\n",
    "import plotly_express as px\n",
    "import plotly.graph_objects as go"
   ]
  },
  {
   "cell_type": "markdown",
   "metadata": {},
   "source": [
    "- Jag kommer jämföra andelen infekterade av covid-19 i varje kontinent.\n",
    "- Vad jag misstänker är följande order (lägst till störst andel): Oceania -> Europa -> Asia -> America -> Africa\n",
    "- Jag tänker mig att Oceania kommer först eftersom dem är väldigt utspridda, många öar, samt har många i-länder i sig.\n",
    "- Jag tror att Europa kommer 2:a eftersom vi har många i-länder och generellt sett en vetenskaplig kultur. \n",
    "- Asien tänker jag mig kan komma trea, alltså före america eftersom länder som USA har en kultur av icke-vaccinerande och konspirationstänk i vissa grupper. Jag har svårt att gissa på hur resten av America kommer påverka den slutliga andelen. Asien har även länder som Kina, vilket gör det svårt att lita exakt på att deras siffror av infekterade stämmer helt.\n",
    "- Jag gissar på att Afrika kommer sist endast för att dem har såpass många u-länder vilket gör det svårt att sätta stopp för mycket infektioner. Dock kan jag ha helt fel här eftersom Afrika är hem till många stammar som tex lever isolerat från resten av populationen."
   ]
  },
  {
   "cell_type": "code",
   "execution_count": 3,
   "metadata": {},
   "outputs": [],
   "source": [
    "worldcoviddata = pd.read_csv(\"../Data/worldwidedata_covid.csv\")\n",
    "\n",
    "def continent_total(variable_name, continent_name):\n",
    "    variable_name = worldcoviddata[(worldcoviddata[\"country\"] == continent_name)].sort_values(by='cumulative_count', ascending=False).head()\n",
    "    print(variable_name['cumulative_count'].head(1))"
   ]
  },
  {
   "cell_type": "code",
   "execution_count": null,
   "metadata": {},
   "outputs": [],
   "source": [
    "worldcoviddata[worldcoviddata['rate_14_day']]"
   ]
  },
  {
   "cell_type": "code",
   "execution_count": null,
   "metadata": {},
   "outputs": [],
   "source": [
    "s_countries = worldcoviddata[worldcoviddata[\"country\"].apply(lambda state: state[0] == \"S\")]\n",
    "s_countries.reset_index(drop='index')"
   ]
  },
  {
   "cell_type": "code",
   "execution_count": null,
   "metadata": {},
   "outputs": [
    {
     "name": "stdout",
     "output_type": "stream",
     "text": [
      "16595    216693251.0\n",
      "Name: cumulative_count, dtype: float64\n"
     ]
    }
   ],
   "source": [
    "continent_total(worldcoviddata, \"Europe (total)\")"
   ]
  },
  {
   "cell_type": "markdown",
   "metadata": {},
   "source": [
    "- Europa totalt: 216,693,251 antal fall\n",
    "- Europa total befolkning: 747,636,000 (2020)\n",
    "- Europa andel infekterade: 28.98%"
   ]
  },
  {
   "cell_type": "code",
   "execution_count": null,
   "metadata": {},
   "outputs": [
    {
     "name": "stdout",
     "output_type": "stream",
     "text": [
      "380    11937718.0\n",
      "Name: cumulative_count, dtype: float64\n"
     ]
    }
   ],
   "source": [
    "continent_total(worldcoviddata, \"Africa (total)\")"
   ]
  },
  {
   "cell_type": "markdown",
   "metadata": {},
   "source": [
    "- Afrika totalt: 11,937,718 antal fall\n",
    "- Afrika total befolkning: 1,340,000,000 (2020)\n",
    "- Afrika andel infekterade: 0.89% infekterade"
   ]
  },
  {
   "cell_type": "code",
   "execution_count": null,
   "metadata": {},
   "outputs": [
    {
     "name": "stdout",
     "output_type": "stream",
     "text": [
      "36504    9196406.0\n",
      "Name: cumulative_count, dtype: float64\n"
     ]
    }
   ],
   "source": [
    "continent_total(worldcoviddata, \"Oceania (total)\")"
   ]
  },
  {
   "cell_type": "markdown",
   "metadata": {},
   "source": [
    "- Oceania totalt: 9,196,406 antal fall\n",
    "- Oceania total befolkning: 42,677,000 (2020)\n",
    "- Oceania andel infekterade: 21.54% infekterade"
   ]
  },
  {
   "cell_type": "code",
   "execution_count": null,
   "metadata": {},
   "outputs": [
    {
     "name": "stdout",
     "output_type": "stream",
     "text": [
      "1124    160090765.0\n",
      "Name: cumulative_count, dtype: float64\n"
     ]
    }
   ],
   "source": [
    "continent_total(worldcoviddata, \"America (total)\")"
   ]
  },
  {
   "cell_type": "markdown",
   "metadata": {},
   "source": [
    "- America totalt: 160,090,765 antal fall\n",
    "- America total befolkning: 1,002,000,000 (2020)\n",
    "- America andel infekterade: 15.97% infekterade"
   ]
  },
  {
   "cell_type": "code",
   "execution_count": null,
   "metadata": {},
   "outputs": [
    {
     "name": "stdout",
     "output_type": "stream",
     "text": [
      "3102    135192948.0\n",
      "Name: cumulative_count, dtype: float64\n"
     ]
    }
   ],
   "source": [
    "continent_total(worldcoviddata, \"Asia (total)\")"
   ]
  },
  {
   "cell_type": "markdown",
   "metadata": {},
   "source": [
    "- Asien totalt: 135,192,948 antal fall\n",
    "- Asien total befolkning: 4,641,000,000 (2020)\n",
    "- Asien andel infekterade: 2.91% infekterade\n",
    "----------------------------------\n",
    "- Slutgiltiga ordningen (Lägst till högst)\n",
    "- Africa --> Asien --> America --> Oceania --> Europa\n",
    "- Det var allså i stort sett tvärt emot vad jag tänkte mig att det skulle vara, dock verkar det otroligt suspekt att inte ens 1% av Afrika har infekterats medans nästan 30% infekterats i Europa. Det hade inte förvånat mig om det rapporterades sämre i dem kontinenterna som hade såpass låg andel.\n",
    "- Jag tänkte mig först när jag såg det här resultatet att det kanske har något med befolkningstätheten i varje kontinent, alltså att Europa har hög befolkningstäthet(69.7 pers per km^2). Det stämmer också, dock så har Asien ännu högre (86,7 pers per km^2). Det kan alltså inte vara den enda viktiga variabeln i spel till varför Europa har högst andel.\n",
    "- Jag kan dock säga att efter att ha kollat upp andelen i varje kontinent så är det absolut inte tillräckligt för att dra några slutsatser kring varför andelen ser ut som dem gör."
   ]
  },
  {
   "cell_type": "code",
   "execution_count": null,
   "metadata": {},
   "outputs": [],
   "source": [
    "def country_total(variable_name, country_name):\n",
    "    variable_name = worldcoviddata[(worldcoviddata[\"country\"] == country_name)]\n",
    "    return variable_name"
   ]
  },
  {
   "cell_type": "code",
   "execution_count": null,
   "metadata": {},
   "outputs": [],
   "source": [
    "# comparing Sweden, Finland, Denmark and Norway\n",
    "sweden_data = worldcoviddata[(worldcoviddata[\"country\"] == \"Sweden\")]\n",
    "finland_data = worldcoviddata[(worldcoviddata[\"country\"] == \"Finland\")]\n",
    "denmark_data = worldcoviddata[(worldcoviddata[\"country\"] == \"Denmark\")]\n",
    "norway_data = worldcoviddata[(worldcoviddata[\"country\"] == \"Norway\")]\n",
    "\n",
    "sweden_data = sweden_data[['year_week', 'cumulative_count', 'population']]\n",
    "finland_data = finland_data[['year_week', 'cumulative_count', 'population']]\n",
    "denmark_data = denmark_data[['year_week', 'cumulative_count', 'population']]\n",
    "norway_data = norway_data[['year_week', 'cumulative_count', 'population']]\n",
    "\n",
    "\n",
    "ax = plt.axes()\n",
    "sns.lineplot(data= sweden_data, x='year_week', y='cumulative_count'/ 'population')\n",
    "sns.lineplot(data =finland_data, x = 'year_week', y = 'cumulative_count'/ 'population')\n",
    "sns.lineplot(data =denmark_data, x = 'year_week', y = 'cumulative_count'/ 'population')\n",
    "sns.lineplot(data =norway_data, x = 'year_week', y = 'cumulative_count'/ 'population')\n",
    "ax.set(title = \"Sverige, Finland, Danmark, Norge - Antal fall\")\n",
    "ax.xaxis.set_major_locator(plt.MaxNLocator(5))"
   ]
  }
 ],
 "metadata": {
  "kernelspec": {
   "display_name": "Python 3.9.13 ('Databehandling-Daniel-Nilsson-e3Fmcrgn')",
   "language": "python",
   "name": "python3"
  },
  "language_info": {
   "codemirror_mode": {
    "name": "ipython",
    "version": 3
   },
   "file_extension": ".py",
   "mimetype": "text/x-python",
   "name": "python",
   "nbconvert_exporter": "python",
   "pygments_lexer": "ipython3",
   "version": "3.9.13"
  },
  "orig_nbformat": 4,
  "vscode": {
   "interpreter": {
    "hash": "d4fec72ab05724b7e31743b682cfdc6d5ccc9586e3681b01cc6aa0944cba3a81"
   }
  }
 },
 "nbformat": 4,
 "nbformat_minor": 2
}
