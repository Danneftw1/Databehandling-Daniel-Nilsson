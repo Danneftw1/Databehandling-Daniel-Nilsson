{
 "cells": [
  {
   "cell_type": "code",
   "execution_count": 15,
   "metadata": {},
   "outputs": [],
   "source": [
    "import pandas as pd\n",
    "import seaborn as sns\n",
    "import matplotlib.pyplot as plt\n",
    "import plotly_express as px\n",
    "import plotly.graph_objects as go"
   ]
  },
  {
   "cell_type": "markdown",
   "metadata": {},
   "source": [
    "- Jag kommer jämföra andelen infekterade av covid-19 i varje kontinent.\n",
    "- Vad jag misstänker är följande order (lägst till störst andel): Oceania -> Europa -> Asia -> America -> Africa\n",
    "- Jag tänker mig att Oceania kommer först eftersom dem är väldigt utspridda, många öar, samt har många i-länder i sig.\n",
    "- Jag tror att Europa kommer 2:a eftersom vi har många i-länder och generellt sett en vetenskaplig kultur. \n",
    "- Asien tänker jag mig kan komma trea, alltså före america eftersom länder som USA har en kultur av icke-vaccinerande och konspirationstänk i vissa grupper. Jag har svårt att gissa på hur resten av America kommer påverka den slutliga andelen. Asien har även länder som Kina, vilket gör det svårt att lita exakt på att deras siffror av infekterade stämmer helt.\n",
    "- Jag gissar på att Afrika kommer sist endast för att dem har såpass många u-länder vilket gör det svårt att sätta stopp för mycket infektioner. Dock kan jag ha helt fel här eftersom Afrika är hem till många stammar som tex lever isolerat från resten av populationen."
   ]
  },
  {
   "cell_type": "code",
   "execution_count": 16,
   "metadata": {},
   "outputs": [],
   "source": [
    "worldcoviddata = pd.read_csv(\"../Data/worldwidedata_covid.csv\")\n",
    "\n",
    "def continent_total(variable_name, continent_name):\n",
    "    variable_name = worldcoviddata[(worldcoviddata[\"country\"] == continent_name)].sort_values(by='cumulative_count', ascending=False).head()\n",
    "    print(variable_name['cumulative_count'].head(1))"
   ]
  },
  {
   "cell_type": "code",
   "execution_count": 17,
   "metadata": {},
   "outputs": [
    {
     "ename": "KeyError",
     "evalue": "\"None of [Float64Index([               nan,                0.0,                0.0,\\n                             0.0,                0.0,                0.0,\\n                             0.0,                0.0, 0.0025688225449936,\\n              0.0102752901799745,\\n              ...\\n                54.6870727572441,   46.8746337919235,   36.8300694079399,\\n                 45.758571082592,    50.222821919918,   44.6425083732605,\\n                32.3658185706138,                nan,                nan,\\n                5.58031354665756],\\n             dtype='float64', length=53074)] are in the [columns]\"",
     "output_type": "error",
     "traceback": [
      "\u001b[1;31m---------------------------------------------------------------------------\u001b[0m",
      "\u001b[1;31mKeyError\u001b[0m                                  Traceback (most recent call last)",
      "Cell \u001b[1;32mIn [17], line 1\u001b[0m\n\u001b[1;32m----> 1\u001b[0m worldcoviddata[worldcoviddata[\u001b[39m'\u001b[39;49m\u001b[39mrate_14_day\u001b[39;49m\u001b[39m'\u001b[39;49m]]\n",
      "File \u001b[1;32mc:\\Users\\Danne\\.virtualenvs\\Databehandling-Daniel-Nilsson-esAQ05u4\\lib\\site-packages\\pandas\\core\\frame.py:3810\u001b[0m, in \u001b[0;36mDataFrame.__getitem__\u001b[1;34m(self, key)\u001b[0m\n\u001b[0;32m   3808\u001b[0m     \u001b[39mif\u001b[39;00m is_iterator(key):\n\u001b[0;32m   3809\u001b[0m         key \u001b[39m=\u001b[39m \u001b[39mlist\u001b[39m(key)\n\u001b[1;32m-> 3810\u001b[0m     indexer \u001b[39m=\u001b[39m \u001b[39mself\u001b[39;49m\u001b[39m.\u001b[39;49mcolumns\u001b[39m.\u001b[39;49m_get_indexer_strict(key, \u001b[39m\"\u001b[39;49m\u001b[39mcolumns\u001b[39;49m\u001b[39m\"\u001b[39;49m)[\u001b[39m1\u001b[39m]\n\u001b[0;32m   3812\u001b[0m \u001b[39m# take() does not accept boolean indexers\u001b[39;00m\n\u001b[0;32m   3813\u001b[0m \u001b[39mif\u001b[39;00m \u001b[39mgetattr\u001b[39m(indexer, \u001b[39m\"\u001b[39m\u001b[39mdtype\u001b[39m\u001b[39m\"\u001b[39m, \u001b[39mNone\u001b[39;00m) \u001b[39m==\u001b[39m \u001b[39mbool\u001b[39m:\n",
      "File \u001b[1;32mc:\\Users\\Danne\\.virtualenvs\\Databehandling-Daniel-Nilsson-esAQ05u4\\lib\\site-packages\\pandas\\core\\indexes\\base.py:6111\u001b[0m, in \u001b[0;36mIndex._get_indexer_strict\u001b[1;34m(self, key, axis_name)\u001b[0m\n\u001b[0;32m   6108\u001b[0m \u001b[39melse\u001b[39;00m:\n\u001b[0;32m   6109\u001b[0m     keyarr, indexer, new_indexer \u001b[39m=\u001b[39m \u001b[39mself\u001b[39m\u001b[39m.\u001b[39m_reindex_non_unique(keyarr)\n\u001b[1;32m-> 6111\u001b[0m \u001b[39mself\u001b[39;49m\u001b[39m.\u001b[39;49m_raise_if_missing(keyarr, indexer, axis_name)\n\u001b[0;32m   6113\u001b[0m keyarr \u001b[39m=\u001b[39m \u001b[39mself\u001b[39m\u001b[39m.\u001b[39mtake(indexer)\n\u001b[0;32m   6114\u001b[0m \u001b[39mif\u001b[39;00m \u001b[39misinstance\u001b[39m(key, Index):\n\u001b[0;32m   6115\u001b[0m     \u001b[39m# GH 42790 - Preserve name from an Index\u001b[39;00m\n",
      "File \u001b[1;32mc:\\Users\\Danne\\.virtualenvs\\Databehandling-Daniel-Nilsson-esAQ05u4\\lib\\site-packages\\pandas\\core\\indexes\\base.py:6171\u001b[0m, in \u001b[0;36mIndex._raise_if_missing\u001b[1;34m(self, key, indexer, axis_name)\u001b[0m\n\u001b[0;32m   6169\u001b[0m     \u001b[39mif\u001b[39;00m use_interval_msg:\n\u001b[0;32m   6170\u001b[0m         key \u001b[39m=\u001b[39m \u001b[39mlist\u001b[39m(key)\n\u001b[1;32m-> 6171\u001b[0m     \u001b[39mraise\u001b[39;00m \u001b[39mKeyError\u001b[39;00m(\u001b[39mf\u001b[39m\u001b[39m\"\u001b[39m\u001b[39mNone of [\u001b[39m\u001b[39m{\u001b[39;00mkey\u001b[39m}\u001b[39;00m\u001b[39m] are in the [\u001b[39m\u001b[39m{\u001b[39;00maxis_name\u001b[39m}\u001b[39;00m\u001b[39m]\u001b[39m\u001b[39m\"\u001b[39m)\n\u001b[0;32m   6173\u001b[0m not_found \u001b[39m=\u001b[39m \u001b[39mlist\u001b[39m(ensure_index(key)[missing_mask\u001b[39m.\u001b[39mnonzero()[\u001b[39m0\u001b[39m]]\u001b[39m.\u001b[39munique())\n\u001b[0;32m   6174\u001b[0m \u001b[39mraise\u001b[39;00m \u001b[39mKeyError\u001b[39;00m(\u001b[39mf\u001b[39m\u001b[39m\"\u001b[39m\u001b[39m{\u001b[39;00mnot_found\u001b[39m}\u001b[39;00m\u001b[39m not in index\u001b[39m\u001b[39m\"\u001b[39m)\n",
      "\u001b[1;31mKeyError\u001b[0m: \"None of [Float64Index([               nan,                0.0,                0.0,\\n                             0.0,                0.0,                0.0,\\n                             0.0,                0.0, 0.0025688225449936,\\n              0.0102752901799745,\\n              ...\\n                54.6870727572441,   46.8746337919235,   36.8300694079399,\\n                 45.758571082592,    50.222821919918,   44.6425083732605,\\n                32.3658185706138,                nan,                nan,\\n                5.58031354665756],\\n             dtype='float64', length=53074)] are in the [columns]\""
     ]
    }
   ],
   "source": [
    "worldcoviddata[worldcoviddata['rate_14_day']]"
   ]
  },
  {
   "cell_type": "code",
   "execution_count": 32,
   "metadata": {},
   "outputs": [
    {
     "data": {
      "text/html": [
       "<div>\n",
       "<style scoped>\n",
       "    .dataframe tbody tr th:only-of-type {\n",
       "        vertical-align: middle;\n",
       "    }\n",
       "\n",
       "    .dataframe tbody tr th {\n",
       "        vertical-align: top;\n",
       "    }\n",
       "\n",
       "    .dataframe thead th {\n",
       "        text-align: right;\n",
       "    }\n",
       "</style>\n",
       "<table border=\"1\" class=\"dataframe\">\n",
       "  <thead>\n",
       "    <tr style=\"text-align: right;\">\n",
       "      <th></th>\n",
       "      <th>country</th>\n",
       "      <th>country_code</th>\n",
       "      <th>continent</th>\n",
       "      <th>population</th>\n",
       "      <th>indicator</th>\n",
       "      <th>weekly_count</th>\n",
       "      <th>year_week</th>\n",
       "      <th>rate_14_day</th>\n",
       "      <th>cumulative_count</th>\n",
       "      <th>source</th>\n",
       "      <th>note</th>\n",
       "    </tr>\n",
       "  </thead>\n",
       "  <tbody>\n",
       "    <tr>\n",
       "      <th>40388</th>\n",
       "      <td>Saint Kitts And Nevis</td>\n",
       "      <td>KNA</td>\n",
       "      <td>America</td>\n",
       "      <td>53192</td>\n",
       "      <td>cases</td>\n",
       "      <td>7.0</td>\n",
       "      <td>2020-13</td>\n",
       "      <td>NaN</td>\n",
       "      <td>7.0</td>\n",
       "      <td>Epidemic intelligence national data</td>\n",
       "      <td>NaN</td>\n",
       "    </tr>\n",
       "    <tr>\n",
       "      <th>40389</th>\n",
       "      <td>Saint Kitts And Nevis</td>\n",
       "      <td>KNA</td>\n",
       "      <td>America</td>\n",
       "      <td>53192</td>\n",
       "      <td>cases</td>\n",
       "      <td>3.0</td>\n",
       "      <td>2020-14</td>\n",
       "      <td>18.799820</td>\n",
       "      <td>10.0</td>\n",
       "      <td>Epidemic intelligence national data</td>\n",
       "      <td>NaN</td>\n",
       "    </tr>\n",
       "    <tr>\n",
       "      <th>40390</th>\n",
       "      <td>Saint Kitts And Nevis</td>\n",
       "      <td>KNA</td>\n",
       "      <td>America</td>\n",
       "      <td>53192</td>\n",
       "      <td>cases</td>\n",
       "      <td>2.0</td>\n",
       "      <td>2020-15</td>\n",
       "      <td>9.399910</td>\n",
       "      <td>12.0</td>\n",
       "      <td>Epidemic intelligence national data</td>\n",
       "      <td>NaN</td>\n",
       "    </tr>\n",
       "    <tr>\n",
       "      <th>40391</th>\n",
       "      <td>Saint Kitts And Nevis</td>\n",
       "      <td>KNA</td>\n",
       "      <td>America</td>\n",
       "      <td>53192</td>\n",
       "      <td>cases</td>\n",
       "      <td>3.0</td>\n",
       "      <td>2020-16</td>\n",
       "      <td>9.399910</td>\n",
       "      <td>15.0</td>\n",
       "      <td>Epidemic intelligence national data</td>\n",
       "      <td>NaN</td>\n",
       "    </tr>\n",
       "    <tr>\n",
       "      <th>40392</th>\n",
       "      <td>Saint Kitts And Nevis</td>\n",
       "      <td>KNA</td>\n",
       "      <td>America</td>\n",
       "      <td>53192</td>\n",
       "      <td>cases</td>\n",
       "      <td>0.0</td>\n",
       "      <td>2020-17</td>\n",
       "      <td>5.639946</td>\n",
       "      <td>15.0</td>\n",
       "      <td>Epidemic intelligence national data</td>\n",
       "      <td>NaN</td>\n",
       "    </tr>\n",
       "    <tr>\n",
       "      <th>...</th>\n",
       "      <td>...</td>\n",
       "      <td>...</td>\n",
       "      <td>...</td>\n",
       "      <td>...</td>\n",
       "      <td>...</td>\n",
       "      <td>...</td>\n",
       "      <td>...</td>\n",
       "      <td>...</td>\n",
       "      <td>...</td>\n",
       "      <td>...</td>\n",
       "      <td>...</td>\n",
       "    </tr>\n",
       "    <tr>\n",
       "      <th>46719</th>\n",
       "      <td>Syria</td>\n",
       "      <td>SYR</td>\n",
       "      <td>Asia</td>\n",
       "      <td>17500657</td>\n",
       "      <td>deaths</td>\n",
       "      <td>0.0</td>\n",
       "      <td>2022-19</td>\n",
       "      <td>0.000000</td>\n",
       "      <td>3150.0</td>\n",
       "      <td>Epidemic intelligence national data</td>\n",
       "      <td>NaN</td>\n",
       "    </tr>\n",
       "    <tr>\n",
       "      <th>46720</th>\n",
       "      <td>Syria</td>\n",
       "      <td>SYR</td>\n",
       "      <td>Asia</td>\n",
       "      <td>17500657</td>\n",
       "      <td>deaths</td>\n",
       "      <td>0.0</td>\n",
       "      <td>2022-20</td>\n",
       "      <td>0.000000</td>\n",
       "      <td>3150.0</td>\n",
       "      <td>Epidemic intelligence national data</td>\n",
       "      <td>NaN</td>\n",
       "    </tr>\n",
       "    <tr>\n",
       "      <th>46721</th>\n",
       "      <td>Syria</td>\n",
       "      <td>SYR</td>\n",
       "      <td>Asia</td>\n",
       "      <td>17500657</td>\n",
       "      <td>deaths</td>\n",
       "      <td>0.0</td>\n",
       "      <td>2022-21</td>\n",
       "      <td>0.000000</td>\n",
       "      <td>3150.0</td>\n",
       "      <td>Epidemic intelligence national data</td>\n",
       "      <td>NaN</td>\n",
       "    </tr>\n",
       "    <tr>\n",
       "      <th>46722</th>\n",
       "      <td>Syria</td>\n",
       "      <td>SYR</td>\n",
       "      <td>Asia</td>\n",
       "      <td>17500657</td>\n",
       "      <td>deaths</td>\n",
       "      <td>0.0</td>\n",
       "      <td>2022-22</td>\n",
       "      <td>0.000000</td>\n",
       "      <td>3150.0</td>\n",
       "      <td>Epidemic intelligence national data</td>\n",
       "      <td>NaN</td>\n",
       "    </tr>\n",
       "    <tr>\n",
       "      <th>46723</th>\n",
       "      <td>Syria</td>\n",
       "      <td>SYR</td>\n",
       "      <td>Asia</td>\n",
       "      <td>17500657</td>\n",
       "      <td>deaths</td>\n",
       "      <td>0.0</td>\n",
       "      <td>2022-23</td>\n",
       "      <td>0.000000</td>\n",
       "      <td>3150.0</td>\n",
       "      <td>Epidemic intelligence national data</td>\n",
       "      <td>NaN</td>\n",
       "    </tr>\n",
       "  </tbody>\n",
       "</table>\n",
       "<p>6336 rows × 11 columns</p>\n",
       "</div>"
      ],
      "text/plain": [
       "                     country country_code continent  population indicator  \\\n",
       "40388  Saint Kitts And Nevis          KNA   America       53192     cases   \n",
       "40389  Saint Kitts And Nevis          KNA   America       53192     cases   \n",
       "40390  Saint Kitts And Nevis          KNA   America       53192     cases   \n",
       "40391  Saint Kitts And Nevis          KNA   America       53192     cases   \n",
       "40392  Saint Kitts And Nevis          KNA   America       53192     cases   \n",
       "...                      ...          ...       ...         ...       ...   \n",
       "46719                  Syria          SYR      Asia    17500657    deaths   \n",
       "46720                  Syria          SYR      Asia    17500657    deaths   \n",
       "46721                  Syria          SYR      Asia    17500657    deaths   \n",
       "46722                  Syria          SYR      Asia    17500657    deaths   \n",
       "46723                  Syria          SYR      Asia    17500657    deaths   \n",
       "\n",
       "       weekly_count year_week  rate_14_day  cumulative_count  \\\n",
       "40388           7.0   2020-13          NaN               7.0   \n",
       "40389           3.0   2020-14    18.799820              10.0   \n",
       "40390           2.0   2020-15     9.399910              12.0   \n",
       "40391           3.0   2020-16     9.399910              15.0   \n",
       "40392           0.0   2020-17     5.639946              15.0   \n",
       "...             ...       ...          ...               ...   \n",
       "46719           0.0   2022-19     0.000000            3150.0   \n",
       "46720           0.0   2022-20     0.000000            3150.0   \n",
       "46721           0.0   2022-21     0.000000            3150.0   \n",
       "46722           0.0   2022-22     0.000000            3150.0   \n",
       "46723           0.0   2022-23     0.000000            3150.0   \n",
       "\n",
       "                                    source  note  \n",
       "40388  Epidemic intelligence national data   NaN  \n",
       "40389  Epidemic intelligence national data   NaN  \n",
       "40390  Epidemic intelligence national data   NaN  \n",
       "40391  Epidemic intelligence national data   NaN  \n",
       "40392  Epidemic intelligence national data   NaN  \n",
       "...                                    ...   ...  \n",
       "46719  Epidemic intelligence national data   NaN  \n",
       "46720  Epidemic intelligence national data   NaN  \n",
       "46721  Epidemic intelligence national data   NaN  \n",
       "46722  Epidemic intelligence national data   NaN  \n",
       "46723  Epidemic intelligence national data   NaN  \n",
       "\n",
       "[6336 rows x 11 columns]"
      ]
     },
     "execution_count": 32,
     "metadata": {},
     "output_type": "execute_result"
    }
   ],
   "source": [
    "s_countries = worldcoviddata[worldcoviddata[\"country\"].apply(lambda state: state[0] == \"S\")]\n",
    "s_countries.reset_index(drop='index')"
   ]
  },
  {
   "cell_type": "code",
   "execution_count": null,
   "metadata": {},
   "outputs": [],
   "source": [
    "for x in s_countries:\n",
    "    sns.lineplot(data=s_countries, x=\"rate_14_day\", y=\"year_week\")"
   ]
  },
  {
   "cell_type": "code",
   "execution_count": null,
   "metadata": {},
   "outputs": [
    {
     "name": "stdout",
     "output_type": "stream",
     "text": [
      "16595    216693251.0\n",
      "Name: cumulative_count, dtype: float64\n"
     ]
    }
   ],
   "source": [
    "continent_total(worldcoviddata, \"Europe (total)\")"
   ]
  },
  {
   "cell_type": "markdown",
   "metadata": {},
   "source": [
    "- Europa totalt: 216,693,251 antal fall\n",
    "- Europa total befolkning: 747,636,000 (2020)\n",
    "- Europa andel infekterade: 28.98%"
   ]
  },
  {
   "cell_type": "code",
   "execution_count": null,
   "metadata": {},
   "outputs": [
    {
     "name": "stdout",
     "output_type": "stream",
     "text": [
      "380    11937718.0\n",
      "Name: cumulative_count, dtype: float64\n"
     ]
    }
   ],
   "source": [
    "continent_total(worldcoviddata, \"Africa (total)\")"
   ]
  },
  {
   "cell_type": "markdown",
   "metadata": {},
   "source": [
    "- Afrika totalt: 11,937,718 antal fall\n",
    "- Afrika total befolkning: 1,340,000,000 (2020)\n",
    "- Afrika andel infekterade: 0.89% infekterade"
   ]
  },
  {
   "cell_type": "code",
   "execution_count": null,
   "metadata": {},
   "outputs": [
    {
     "name": "stdout",
     "output_type": "stream",
     "text": [
      "36504    9196406.0\n",
      "Name: cumulative_count, dtype: float64\n"
     ]
    }
   ],
   "source": [
    "continent_total(worldcoviddata, \"Oceania (total)\")"
   ]
  },
  {
   "cell_type": "markdown",
   "metadata": {},
   "source": [
    "- Oceania totalt: 9,196,406 antal fall\n",
    "- Oceania total befolkning: 42,677,000 (2020)\n",
    "- Oceania andel infekterade: 21.54% infekterade"
   ]
  },
  {
   "cell_type": "code",
   "execution_count": null,
   "metadata": {},
   "outputs": [
    {
     "name": "stdout",
     "output_type": "stream",
     "text": [
      "1124    160090765.0\n",
      "Name: cumulative_count, dtype: float64\n"
     ]
    }
   ],
   "source": [
    "continent_total(worldcoviddata, \"America (total)\")"
   ]
  },
  {
   "cell_type": "markdown",
   "metadata": {},
   "source": [
    "- America totalt: 160,090,765 antal fall\n",
    "- America total befolkning: 1,002,000,000 (2020)\n",
    "- America andel infekterade: 15.97% infekterade"
   ]
  },
  {
   "cell_type": "code",
   "execution_count": null,
   "metadata": {},
   "outputs": [
    {
     "name": "stdout",
     "output_type": "stream",
     "text": [
      "3102    135192948.0\n",
      "Name: cumulative_count, dtype: float64\n"
     ]
    }
   ],
   "source": [
    "continent_total(worldcoviddata, \"Asia (total)\")"
   ]
  },
  {
   "cell_type": "markdown",
   "metadata": {},
   "source": [
    "- Asien totalt: 135,192,948 antal fall\n",
    "- Asien total befolkning: 4,641,000,000 (2020)\n",
    "- Asien andel infekterade: 2.91% infekterade\n",
    "----------------------------------\n",
    "- Slutgiltiga ordningen (Lägst till högst)\n",
    "- Africa --> Asien --> America --> Oceania --> Europa\n",
    "- Det var allså i stort sett tvärt emot vad jag tänkte mig att det skulle vara, dock verkar det otroligt suspekt att inte ens 1% av Afrika har infekterats medans nästan 30% infekterats i Europa. Det hade inte förvånat mig om det rapporterades sämre i dem kontinenterna som hade såpass låg andel.\n",
    "- Jag tänkte mig först när jag såg det här resultatet att det kanske har något med befolkningstätheten i varje kontinent, alltså att Europa har hög befolkningstäthet(69.7 pers per km^2). Det stämmer också, dock så har Asien ännu högre (86,7 pers per km^2). Det kan alltså inte vara den enda viktiga variabeln i spel till varför Europa har högst andel.\n",
    "- Jag kan dock säga att efter att ha kollat upp andelen i varje kontinent så är det absolut inte tillräckligt för att dra några slutsatser kring varför andelen ser ut som dem gör."
   ]
  },
  {
   "cell_type": "code",
   "execution_count": null,
   "metadata": {},
   "outputs": [],
   "source": [
    "def country_total(variable_name, country_name):\n",
    "    variable_name = worldcoviddata[(worldcoviddata[\"country\"] == country_name)]\n",
    "    return variable_name\n"
   ]
  },
  {
   "cell_type": "code",
   "execution_count": null,
   "metadata": {},
   "outputs": [
    {
     "data": {
      "image/png": "[encoded data removed]",
      "text/plain": [
       "<Figure size 640x480 with 1 Axes>"
      ]
     },
     "metadata": {},
     "output_type": "display_data"
    }
   ],
   "source": [
    "# comparing Sweden, Finland, Denmark and Norway\n",
    "sweden_data = worldcoviddata[(worldcoviddata[\"country\"] == \"Sweden\")]\n",
    "finland_data = worldcoviddata[(worldcoviddata[\"country\"] == \"Finland\")]\n",
    "denmark_data = worldcoviddata[(worldcoviddata[\"country\"] == \"Denmark\")]\n",
    "norway_data = worldcoviddata[(worldcoviddata[\"country\"] == \"Norway\")]\n",
    "\n",
    "sweden_data = sweden_data[['year_week', 'cumulative_count']]\n",
    "finland_data = finland_data[['year_week', 'cumulative_count']]\n",
    "denmark_data = denmark_data[['year_week', 'cumulative_count']]\n",
    "norway_data = norway_data[['year_week', 'cumulative_count']]\n",
    "\n",
    "ax = plt.axes()\n",
    "sns.lineplot(data= sweden_data, x='year_week', y='cumulative_count')\n",
    "sns.lineplot(data =finland_data, x = 'year_week', y = 'cumulative_count')\n",
    "sns.lineplot(data =denmark_data, x = 'year_week', y = 'cumulative_count')\n",
    "sns.lineplot(data =norway_data, x = 'year_week', y = 'cumulative_count')\n",
    "ax.set(title = \"Sverige, Finland, Danmark, Norge - Antal fall\")\n",
    "ax.xaxis.set_major_locator(plt.MaxNLocator(5))"
   ]
  },
  {
   "cell_type": "code",
   "execution_count": null,
   "metadata": {},
   "outputs": [
    {
     "data": {
      "text/plain": [
       "array(['Afghanistan', 'Africa (total)', 'Albania', 'Algeria',\n",
       "       'America (total)', 'American Samoa', 'Andorra', 'Angola',\n",
       "       'Anguilla', 'Antigua And Barbuda', 'Argentina', 'Armenia', 'Aruba',\n",
       "       'Asia (total)', 'Australia', 'Austria', 'Azerbaijan', 'Bahamas',\n",
       "       'Bahrain', 'Bangladesh', 'Barbados', 'Belarus', 'Belgium',\n",
       "       'Belize', 'Benin', 'Bermuda', 'Bhutan', 'Bolivia',\n",
       "       'Bonaire, Saint Eustatius And Saba', 'Bosnia And Herzegovina',\n",
       "       'Botswana', 'Brazil', 'British Virgin Islands',\n",
       "       'Brunei Darussalam', 'Bulgaria', 'Burkina Faso', 'Burundi',\n",
       "       'Cambodia', 'Cameroon', 'Canada', 'Cape Verde', 'Cayman Islands',\n",
       "       'Central African Republic', 'Chad', 'Chile', 'China', 'Colombia',\n",
       "       'Comoros', 'Congo', 'Cook Islands', 'Costa Rica', 'Cote Divoire',\n",
       "       'Croatia', 'Cuba', 'Curaçao', 'Czechia',\n",
       "       'Democratic Republic Of The Congo', 'Denmark', 'Djibouti',\n",
       "       'Dominica', 'Dominican Republic', 'Ecuador', 'Egypt',\n",
       "       'El Salvador', 'Equatorial Guinea', 'Eritrea', 'Estonia',\n",
       "       'Eswatini', 'Ethiopia', 'EU/EEA (total)', 'Europe (total)',\n",
       "       'Falkland Islands (Malvinas)', 'Faroe Islands', 'Fiji', 'Finland',\n",
       "       'France', 'French Polynesia', 'Gabon', 'Gambia', 'Georgia',\n",
       "       'Germany', 'Ghana', 'Gibraltar', 'Greece', 'Greenland', 'Grenada',\n",
       "       'Guam', 'Guatemala', 'Guernsey', 'Guinea', 'Guinea Bissau',\n",
       "       'Guyana', 'Haiti', 'Holy See', 'Honduras', 'Hungary', 'Iceland',\n",
       "       'India', 'Indonesia', 'Iran', 'Iraq', 'Ireland', 'Isle Of Man',\n",
       "       'Israel', 'Italy', 'Jamaica', 'Japan', 'Jersey', 'Jordan',\n",
       "       'Kazakhstan', 'Kenya', 'Kiribati', 'Kosovo', 'Kuwait',\n",
       "       'Kyrgyzstan', 'Laos', 'Latvia', 'Lebanon', 'Lesotho', 'Liberia',\n",
       "       'Libya', 'Liechtenstein', 'Lithuania', 'Luxembourg', 'Madagascar',\n",
       "       'Malawi', 'Malaysia', 'Maldives', 'Mali', 'Malta',\n",
       "       'Marshall Islands', 'Mauritania', 'Mauritius', 'Mexico',\n",
       "       'Micronesia (Federated States Of)', 'Moldova', 'Monaco',\n",
       "       'Mongolia', 'Montenegro', 'Montserrat', 'Morocco', 'Mozambique',\n",
       "       'Myanmar', 'Namibia', 'Nauru', 'Nepal', 'Netherlands',\n",
       "       'New Caledonia', 'New Zealand', 'Nicaragua', 'Niger', 'Nigeria',\n",
       "       'North Macedonia', 'Northern Mariana Islands', 'Norway',\n",
       "       'Oceania (total)', 'Oman', 'Pakistan', 'Palau', 'Palestine',\n",
       "       'Panama', 'Papua New Guinea', 'Paraguay', 'Peru', 'Philippines',\n",
       "       'Poland', 'Portugal', 'Puerto Rico', 'Qatar', 'Romania', 'Russia',\n",
       "       'Rwanda', 'Saint Kitts And Nevis', 'Saint Lucia',\n",
       "       'Saint Vincent And The Grenadines', 'Samoa', 'San Marino',\n",
       "       'Sao Tome And Principe', 'Saudi Arabia', 'Senegal', 'Serbia',\n",
       "       'Seychelles', 'Sierra Leone', 'Singapore', 'Sint Maarten',\n",
       "       'Slovakia', 'Slovenia', 'Solomon Islands', 'Somalia',\n",
       "       'South Africa', 'South Korea', 'South Sudan', 'Spain', 'Sri Lanka',\n",
       "       'Sudan', 'Suriname', 'Sweden', 'Switzerland', 'Syria', 'Taiwan',\n",
       "       'Tajikistan', 'Thailand', 'Timor Leste', 'Togo', 'Tonga',\n",
       "       'Trinidad And Tobago', 'Tunisia', 'Turkey',\n",
       "       'Turks And Caicos Islands', 'Tuvalu', 'Uganda', 'Ukraine',\n",
       "       'United Arab Emirates', 'United Kingdom',\n",
       "       'United Republic Of Tanzania', 'United States Of America',\n",
       "       'United States Virgin Islands', 'Uruguay', 'Uzbekistan', 'Vanuatu',\n",
       "       'Venezuela', 'Vietnam', 'Wallis And Futuna', 'Western Sahara',\n",
       "       'Yemen', 'Zambia', 'Zimbabwe', 'Cyprus'], dtype=object)"
      ]
     },
     "execution_count": 11,
     "metadata": {},
     "output_type": "execute_result"
    }
   ],
   "source": [
    "worldcoviddata['country'].unique()"
   ]
  }
 ],
 "metadata": {
  "kernelspec": {
   "display_name": "Python 3.9.13 ('Databehandling-Daniel-Nilsson-esAQ05u4')",
   "language": "python",
   "name": "python3"
  },
  "language_info": {
   "codemirror_mode": {
    "name": "ipython",
    "version": 3
   },
   "file_extension": ".py",
   "mimetype": "text/x-python",
   "name": "python",
   "nbconvert_exporter": "python",
   "pygments_lexer": "ipython3",
   "version": "3.9.13"
  },
  "orig_nbformat": 4,
  "vscode": {
   "interpreter": {
    "hash": "2c026f9a4ffd2ee5a23e30db385042e828587791d51ac8ef89f88ac6abb0fa80"
   }
  }
 },
 "nbformat": 4,
 "nbformat_minor": 2
}
